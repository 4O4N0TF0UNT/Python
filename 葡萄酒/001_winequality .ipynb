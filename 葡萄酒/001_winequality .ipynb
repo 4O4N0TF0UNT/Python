{
 "cells": [
  {
   "cell_type": "markdown",
   "id": "9b620799",
   "metadata": {},
   "source": [
    "# 葡萄酒质量"
   ]
  },
  {
   "cell_type": "markdown",
   "id": "dd7b9a4c",
   "metadata": {},
   "source": [
    "## 一、目的"
   ]
  },
  {
   "cell_type": "markdown",
   "id": "036a3a8c",
   "metadata": {},
   "source": [
    "1.以葡萄酒类型为标签，分为⽩葡萄酒和红葡萄酒。⽐较这两种葡萄酒的差别并选取葡萄酒的化学成分：固定酸度、挥发性酸度、柠檬酸、氯化物、游离⼆氧化硫、总硫度、密度、PH值、硫酸盐、酒精度数。\n",
    "\n",
    "2.分析什么水平的酸度（pH 值）代表质量更高。\n",
    "\n",
    "3.分析酒精度和质量评分的关系，以及各化学特性与质量评分的相关性。\n",
    "\n",
    "4.分析是否特定类型的葡萄酒（红葡萄酒或白葡萄酒）的品质更高。\n",
    "\n",
    "5.分析酒精含量更高的葡萄酒是否获得的评价更高。\n",
    "\n",
    "6.分析味道更甜（残糖更多）的葡萄酒是否获得的评价更高。\n",
    "\n",
    "7.针对酒的各类化学成分建⽴线性回归模型，降维处理，相关性分析，分别用不同算法建模，通过调参、优化，从⽽预测该葡萄酒的质量评分。"
   ]
  },
  {
   "cell_type": "markdown",
   "id": "db4a023f",
   "metadata": {},
   "source": [
    "## 二、数据收集"
   ]
  },
  {
   "cell_type": "markdown",
   "id": "dedcd2b1",
   "metadata": {},
   "source": [
    "### 2.1 数据来源\n",
    "来自 UCI 机器学习实验室的葡萄酒质量数据集：\n",
    "https://archive.ics.uci.edu/ml/datasets/Wine+Quality\n",
    "\n",
    "葡萄酒数据集提供了有关葡萄牙“青酒”的红葡萄酒和白葡萄酒变体的样本信息。\n",
    "每种样本都由专家做了质量评级，并进行了理化指标检验。"
   ]
  },
  {
   "cell_type": "markdown",
   "id": "a1ee0abe",
   "metadata": {},
   "source": [
    "### 2.2 数据集字段说明\n",
    "\n",
    "fixed acidity 固定酸度\n",
    "\n",
    "volatile acidity 挥发性酸度\n",
    "\n",
    "citric acid 柠檬酸\n",
    "\n",
    "residual sugar 残糖\n",
    "\n",
    "chlorides 氯化物\n",
    "\n",
    "free sulfur dioxide 游离二氧化硫\n",
    "\n",
    "total sulfur dioxide 总二氧化硫\n",
    "\n",
    "density 密度\n",
    "\n",
    "pH pH值\n",
    "\n",
    "sulphates 硫酸盐\n",
    "\n",
    "alcohol 酒精度\n",
    "\n",
    "quality 质量 - 0 到 10 之间的得分（葡萄酒专家至少 3 次评估的中值）。"
   ]
  },
  {
   "cell_type": "markdown",
   "id": "da233cd6",
   "metadata": {},
   "source": [
    "## 三、数据预处理"
   ]
  },
  {
   "cell_type": "markdown",
   "id": "81907117",
   "metadata": {},
   "source": [
    "### 3.1 引入所需模块"
   ]
  },
  {
   "cell_type": "code",
   "execution_count": 2,
   "id": "c9044ce3",
   "metadata": {},
   "outputs": [],
   "source": [
    "import pandas as pd;\n",
    "import matplotlib as mpl\n",
    "import sklearn.model_selection as model_selection\n",
    "from sklearn.ensemble import RandomForestClassifier\n",
    "import seaborn as sns\n",
    "import numpy as np\n",
    "import matplotlib.pyplot as plt;\n",
    "import statsmodels.api as sm\n",
    "import statsmodels.formula.api as smf\n",
    "from statsmodels.formula.api import ols, glm\n"
   ]
  },
  {
   "cell_type": "markdown",
   "id": "5d4b55ef",
   "metadata": {},
   "source": [
    "### 3.2 导入数据"
   ]
  },
  {
   "cell_type": "code",
   "execution_count": 3,
   "id": "1284a60d",
   "metadata": {},
   "outputs": [],
   "source": [
    "# 设置字符集，防止中文乱码\n",
    "mpl.rcParams['font.sans-serif']=[u'simHei']\n",
    "mpl.rcParams['axes.unicode_minus']=False"
   ]
  },
  {
   "cell_type": "code",
   "execution_count": 4,
   "id": "c1550e45",
   "metadata": {},
   "outputs": [
    {
     "data": {
      "text/html": [
       "<div>\n",
       "<style scoped>\n",
       "    .dataframe tbody tr th:only-of-type {\n",
       "        vertical-align: middle;\n",
       "    }\n",
       "\n",
       "    .dataframe tbody tr th {\n",
       "        vertical-align: top;\n",
       "    }\n",
       "\n",
       "    .dataframe thead th {\n",
       "        text-align: right;\n",
       "    }\n",
       "</style>\n",
       "<table border=\"1\" class=\"dataframe\">\n",
       "  <thead>\n",
       "    <tr style=\"text-align: right;\">\n",
       "      <th></th>\n",
       "      <th>fixed acidity</th>\n",
       "      <th>volatile acidity</th>\n",
       "      <th>citric acid</th>\n",
       "      <th>residual sugar</th>\n",
       "      <th>chlorides</th>\n",
       "      <th>free sulfur dioxide</th>\n",
       "      <th>total sulfur dioxide</th>\n",
       "      <th>density</th>\n",
       "      <th>pH</th>\n",
       "      <th>sulphates</th>\n",
       "      <th>alcohol</th>\n",
       "      <th>quality</th>\n",
       "    </tr>\n",
       "  </thead>\n",
       "  <tbody>\n",
       "    <tr>\n",
       "      <th>0</th>\n",
       "      <td>7.4</td>\n",
       "      <td>0.70</td>\n",
       "      <td>0.00</td>\n",
       "      <td>1.9</td>\n",
       "      <td>0.076</td>\n",
       "      <td>11.0</td>\n",
       "      <td>34.0</td>\n",
       "      <td>0.9978</td>\n",
       "      <td>3.51</td>\n",
       "      <td>0.56</td>\n",
       "      <td>9.4</td>\n",
       "      <td>5</td>\n",
       "    </tr>\n",
       "    <tr>\n",
       "      <th>1</th>\n",
       "      <td>7.8</td>\n",
       "      <td>0.88</td>\n",
       "      <td>0.00</td>\n",
       "      <td>2.6</td>\n",
       "      <td>0.098</td>\n",
       "      <td>25.0</td>\n",
       "      <td>67.0</td>\n",
       "      <td>0.9968</td>\n",
       "      <td>3.20</td>\n",
       "      <td>0.68</td>\n",
       "      <td>9.8</td>\n",
       "      <td>5</td>\n",
       "    </tr>\n",
       "    <tr>\n",
       "      <th>2</th>\n",
       "      <td>7.8</td>\n",
       "      <td>0.76</td>\n",
       "      <td>0.04</td>\n",
       "      <td>2.3</td>\n",
       "      <td>0.092</td>\n",
       "      <td>15.0</td>\n",
       "      <td>54.0</td>\n",
       "      <td>0.9970</td>\n",
       "      <td>3.26</td>\n",
       "      <td>0.65</td>\n",
       "      <td>9.8</td>\n",
       "      <td>5</td>\n",
       "    </tr>\n",
       "    <tr>\n",
       "      <th>3</th>\n",
       "      <td>11.2</td>\n",
       "      <td>0.28</td>\n",
       "      <td>0.56</td>\n",
       "      <td>1.9</td>\n",
       "      <td>0.075</td>\n",
       "      <td>17.0</td>\n",
       "      <td>60.0</td>\n",
       "      <td>0.9980</td>\n",
       "      <td>3.16</td>\n",
       "      <td>0.58</td>\n",
       "      <td>9.8</td>\n",
       "      <td>6</td>\n",
       "    </tr>\n",
       "    <tr>\n",
       "      <th>4</th>\n",
       "      <td>7.4</td>\n",
       "      <td>0.70</td>\n",
       "      <td>0.00</td>\n",
       "      <td>1.9</td>\n",
       "      <td>0.076</td>\n",
       "      <td>11.0</td>\n",
       "      <td>34.0</td>\n",
       "      <td>0.9978</td>\n",
       "      <td>3.51</td>\n",
       "      <td>0.56</td>\n",
       "      <td>9.4</td>\n",
       "      <td>5</td>\n",
       "    </tr>\n",
       "  </tbody>\n",
       "</table>\n",
       "</div>"
      ],
      "text/plain": [
       "   fixed acidity  volatile acidity  citric acid  residual sugar  chlorides  \\\n",
       "0            7.4              0.70         0.00             1.9      0.076   \n",
       "1            7.8              0.88         0.00             2.6      0.098   \n",
       "2            7.8              0.76         0.04             2.3      0.092   \n",
       "3           11.2              0.28         0.56             1.9      0.075   \n",
       "4            7.4              0.70         0.00             1.9      0.076   \n",
       "\n",
       "   free sulfur dioxide  total sulfur dioxide  density    pH  sulphates  \\\n",
       "0                 11.0                  34.0   0.9978  3.51       0.56   \n",
       "1                 25.0                  67.0   0.9968  3.20       0.68   \n",
       "2                 15.0                  54.0   0.9970  3.26       0.65   \n",
       "3                 17.0                  60.0   0.9980  3.16       0.58   \n",
       "4                 11.0                  34.0   0.9978  3.51       0.56   \n",
       "\n",
       "   alcohol  quality  \n",
       "0      9.4        5  \n",
       "1      9.8        5  \n",
       "2      9.8        5  \n",
       "3      9.8        6  \n",
       "4      9.4        5  "
      ]
     },
     "execution_count": 4,
     "metadata": {},
     "output_type": "execute_result"
    }
   ],
   "source": [
    "# 读取红葡萄酒数据\n",
    "data1 = pd.read_csv('winequality-red.csv',sep=\";\")\n",
    "data1.head()"
   ]
  },
  {
   "cell_type": "code",
   "execution_count": 5,
   "id": "8af52640",
   "metadata": {},
   "outputs": [
    {
     "data": {
      "text/html": [
       "<div>\n",
       "<style scoped>\n",
       "    .dataframe tbody tr th:only-of-type {\n",
       "        vertical-align: middle;\n",
       "    }\n",
       "\n",
       "    .dataframe tbody tr th {\n",
       "        vertical-align: top;\n",
       "    }\n",
       "\n",
       "    .dataframe thead th {\n",
       "        text-align: right;\n",
       "    }\n",
       "</style>\n",
       "<table border=\"1\" class=\"dataframe\">\n",
       "  <thead>\n",
       "    <tr style=\"text-align: right;\">\n",
       "      <th></th>\n",
       "      <th>fixed acidity</th>\n",
       "      <th>volatile acidity</th>\n",
       "      <th>citric acid</th>\n",
       "      <th>residual sugar</th>\n",
       "      <th>chlorides</th>\n",
       "      <th>free sulfur dioxide</th>\n",
       "      <th>total sulfur dioxide</th>\n",
       "      <th>density</th>\n",
       "      <th>pH</th>\n",
       "      <th>sulphates</th>\n",
       "      <th>alcohol</th>\n",
       "      <th>quality</th>\n",
       "    </tr>\n",
       "  </thead>\n",
       "  <tbody>\n",
       "    <tr>\n",
       "      <th>0</th>\n",
       "      <td>7.0</td>\n",
       "      <td>0.27</td>\n",
       "      <td>0.36</td>\n",
       "      <td>20.7</td>\n",
       "      <td>0.045</td>\n",
       "      <td>45.0</td>\n",
       "      <td>170.0</td>\n",
       "      <td>1.0010</td>\n",
       "      <td>3.00</td>\n",
       "      <td>0.45</td>\n",
       "      <td>8.8</td>\n",
       "      <td>6</td>\n",
       "    </tr>\n",
       "    <tr>\n",
       "      <th>1</th>\n",
       "      <td>6.3</td>\n",
       "      <td>0.30</td>\n",
       "      <td>0.34</td>\n",
       "      <td>1.6</td>\n",
       "      <td>0.049</td>\n",
       "      <td>14.0</td>\n",
       "      <td>132.0</td>\n",
       "      <td>0.9940</td>\n",
       "      <td>3.30</td>\n",
       "      <td>0.49</td>\n",
       "      <td>9.5</td>\n",
       "      <td>6</td>\n",
       "    </tr>\n",
       "    <tr>\n",
       "      <th>2</th>\n",
       "      <td>8.1</td>\n",
       "      <td>0.28</td>\n",
       "      <td>0.40</td>\n",
       "      <td>6.9</td>\n",
       "      <td>0.050</td>\n",
       "      <td>30.0</td>\n",
       "      <td>97.0</td>\n",
       "      <td>0.9951</td>\n",
       "      <td>3.26</td>\n",
       "      <td>0.44</td>\n",
       "      <td>10.1</td>\n",
       "      <td>6</td>\n",
       "    </tr>\n",
       "    <tr>\n",
       "      <th>3</th>\n",
       "      <td>7.2</td>\n",
       "      <td>0.23</td>\n",
       "      <td>0.32</td>\n",
       "      <td>8.5</td>\n",
       "      <td>0.058</td>\n",
       "      <td>47.0</td>\n",
       "      <td>186.0</td>\n",
       "      <td>0.9956</td>\n",
       "      <td>3.19</td>\n",
       "      <td>0.40</td>\n",
       "      <td>9.9</td>\n",
       "      <td>6</td>\n",
       "    </tr>\n",
       "    <tr>\n",
       "      <th>4</th>\n",
       "      <td>7.2</td>\n",
       "      <td>0.23</td>\n",
       "      <td>0.32</td>\n",
       "      <td>8.5</td>\n",
       "      <td>0.058</td>\n",
       "      <td>47.0</td>\n",
       "      <td>186.0</td>\n",
       "      <td>0.9956</td>\n",
       "      <td>3.19</td>\n",
       "      <td>0.40</td>\n",
       "      <td>9.9</td>\n",
       "      <td>6</td>\n",
       "    </tr>\n",
       "  </tbody>\n",
       "</table>\n",
       "</div>"
      ],
      "text/plain": [
       "   fixed acidity  volatile acidity  citric acid  residual sugar  chlorides  \\\n",
       "0            7.0              0.27         0.36            20.7      0.045   \n",
       "1            6.3              0.30         0.34             1.6      0.049   \n",
       "2            8.1              0.28         0.40             6.9      0.050   \n",
       "3            7.2              0.23         0.32             8.5      0.058   \n",
       "4            7.2              0.23         0.32             8.5      0.058   \n",
       "\n",
       "   free sulfur dioxide  total sulfur dioxide  density    pH  sulphates  \\\n",
       "0                 45.0                 170.0   1.0010  3.00       0.45   \n",
       "1                 14.0                 132.0   0.9940  3.30       0.49   \n",
       "2                 30.0                  97.0   0.9951  3.26       0.44   \n",
       "3                 47.0                 186.0   0.9956  3.19       0.40   \n",
       "4                 47.0                 186.0   0.9956  3.19       0.40   \n",
       "\n",
       "   alcohol  quality  \n",
       "0      8.8        6  \n",
       "1      9.5        6  \n",
       "2     10.1        6  \n",
       "3      9.9        6  \n",
       "4      9.9        6  "
      ]
     },
     "execution_count": 5,
     "metadata": {},
     "output_type": "execute_result"
    }
   ],
   "source": [
    "# 读取白葡萄酒数据\n",
    "data2 = pd.read_csv('winequality-white.csv', sep=';')\n",
    "data2.head()"
   ]
  },
  {
   "cell_type": "markdown",
   "id": "dcf37221",
   "metadata": {},
   "source": [
    "### 3.3 查看所有列的列表及其数据类型"
   ]
  },
  {
   "cell_type": "code",
   "execution_count": 76,
   "id": "6ec7c329",
   "metadata": {},
   "outputs": [
    {
     "data": {
      "text/plain": [
       "fixed acidity           float64\n",
       "volatile acidity        float64\n",
       "citric acid             float64\n",
       "residual sugar          float64\n",
       "chlorides               float64\n",
       "free sulfur dioxide     float64\n",
       "total sulfur dioxide    float64\n",
       "density                 float64\n",
       "pH                      float64\n",
       "sulphates               float64\n",
       "alcohol                 float64\n",
       "quality                   int64\n",
       "dtype: object"
      ]
     },
     "execution_count": 76,
     "metadata": {},
     "output_type": "execute_result"
    }
   ],
   "source": [
    "data1.dtypes"
   ]
  },
  {
   "cell_type": "code",
   "execution_count": 77,
   "id": "14f81b8a",
   "metadata": {},
   "outputs": [
    {
     "data": {
      "text/plain": [
       "fixed acidity           float64\n",
       "volatile acidity        float64\n",
       "citric acid             float64\n",
       "residual sugar          float64\n",
       "chlorides               float64\n",
       "free sulfur dioxide     float64\n",
       "total sulfur dioxide    float64\n",
       "density                 float64\n",
       "pH                      float64\n",
       "sulphates               float64\n",
       "alcohol                 float64\n",
       "quality                   int64\n",
       "dtype: object"
      ]
     },
     "execution_count": 77,
     "metadata": {},
     "output_type": "execute_result"
    }
   ],
   "source": [
    "data2.dtypes"
   ]
  },
  {
   "cell_type": "markdown",
   "id": "08a2d1d9",
   "metadata": {},
   "source": [
    "从上可以看出，除了葡萄酒的type位object类型，其余特征的数据类型都为float型，没有问题，所以不需要进行数据类型处理。"
   ]
  },
  {
   "cell_type": "code",
   "execution_count": 53,
   "id": "fa8291d9",
   "metadata": {
    "scrolled": false
   },
   "outputs": [
    {
     "name": "stdout",
     "output_type": "stream",
     "text": [
      "<class 'pandas.core.frame.DataFrame'>\n",
      "RangeIndex: 1599 entries, 0 to 1598\n",
      "Data columns (total 12 columns):\n",
      " #   Column                Non-Null Count  Dtype  \n",
      "---  ------                --------------  -----  \n",
      " 0   fixed acidity         1599 non-null   float64\n",
      " 1   volatile acidity      1599 non-null   float64\n",
      " 2   citric acid           1599 non-null   float64\n",
      " 3   residual sugar        1599 non-null   float64\n",
      " 4   chlorides             1599 non-null   float64\n",
      " 5   free sulfur dioxide   1599 non-null   float64\n",
      " 6   total sulfur dioxide  1599 non-null   float64\n",
      " 7   density               1599 non-null   float64\n",
      " 8   pH                    1599 non-null   float64\n",
      " 9   sulphates             1599 non-null   float64\n",
      " 10  alcohol               1599 non-null   float64\n",
      " 11  quality               1599 non-null   int64  \n",
      "dtypes: float64(11), int64(1)\n",
      "memory usage: 150.0 KB\n"
     ]
    }
   ],
   "source": [
    "data1.info()"
   ]
  },
  {
   "cell_type": "markdown",
   "id": "3505c4e1",
   "metadata": {},
   "source": [
    "从中可以看出，红葡萄酒的样本共有1599个。"
   ]
  },
  {
   "cell_type": "code",
   "execution_count": 54,
   "id": "950f0a85",
   "metadata": {
    "scrolled": true
   },
   "outputs": [
    {
     "name": "stdout",
     "output_type": "stream",
     "text": [
      "<class 'pandas.core.frame.DataFrame'>\n",
      "RangeIndex: 4898 entries, 0 to 4897\n",
      "Data columns (total 12 columns):\n",
      " #   Column                Non-Null Count  Dtype  \n",
      "---  ------                --------------  -----  \n",
      " 0   fixed acidity         4898 non-null   float64\n",
      " 1   volatile acidity      4898 non-null   float64\n",
      " 2   citric acid           4898 non-null   float64\n",
      " 3   residual sugar        4898 non-null   float64\n",
      " 4   chlorides             4898 non-null   float64\n",
      " 5   free sulfur dioxide   4898 non-null   float64\n",
      " 6   total sulfur dioxide  4898 non-null   float64\n",
      " 7   density               4898 non-null   float64\n",
      " 8   pH                    4898 non-null   float64\n",
      " 9   sulphates             4898 non-null   float64\n",
      " 10  alcohol               4898 non-null   float64\n",
      " 11  quality               4898 non-null   int64  \n",
      "dtypes: float64(11), int64(1)\n",
      "memory usage: 459.3 KB\n"
     ]
    }
   ],
   "source": [
    "data2.info()"
   ]
  },
  {
   "cell_type": "markdown",
   "id": "f3b78813",
   "metadata": {},
   "source": [
    "从中可以看出，白葡萄酒的样本共有4898个。"
   ]
  },
  {
   "cell_type": "markdown",
   "id": "59b6272b",
   "metadata": {},
   "source": [
    "### 3.4 查看缺失值"
   ]
  },
  {
   "cell_type": "code",
   "execution_count": 55,
   "id": "7831759d",
   "metadata": {},
   "outputs": [
    {
     "data": {
      "text/html": [
       "<div>\n",
       "<style scoped>\n",
       "    .dataframe tbody tr th:only-of-type {\n",
       "        vertical-align: middle;\n",
       "    }\n",
       "\n",
       "    .dataframe tbody tr th {\n",
       "        vertical-align: top;\n",
       "    }\n",
       "\n",
       "    .dataframe thead th {\n",
       "        text-align: right;\n",
       "    }\n",
       "</style>\n",
       "<table border=\"1\" class=\"dataframe\">\n",
       "  <thead>\n",
       "    <tr style=\"text-align: right;\">\n",
       "      <th></th>\n",
       "      <th>fixed acidity</th>\n",
       "      <th>volatile acidity</th>\n",
       "      <th>citric acid</th>\n",
       "      <th>residual sugar</th>\n",
       "      <th>chlorides</th>\n",
       "      <th>free sulfur dioxide</th>\n",
       "      <th>total sulfur dioxide</th>\n",
       "      <th>density</th>\n",
       "      <th>pH</th>\n",
       "      <th>sulphates</th>\n",
       "      <th>alcohol</th>\n",
       "      <th>quality</th>\n",
       "    </tr>\n",
       "  </thead>\n",
       "  <tbody>\n",
       "    <tr>\n",
       "      <th>0</th>\n",
       "      <td>False</td>\n",
       "      <td>False</td>\n",
       "      <td>False</td>\n",
       "      <td>False</td>\n",
       "      <td>False</td>\n",
       "      <td>False</td>\n",
       "      <td>False</td>\n",
       "      <td>False</td>\n",
       "      <td>False</td>\n",
       "      <td>False</td>\n",
       "      <td>False</td>\n",
       "      <td>False</td>\n",
       "    </tr>\n",
       "    <tr>\n",
       "      <th>1</th>\n",
       "      <td>False</td>\n",
       "      <td>False</td>\n",
       "      <td>False</td>\n",
       "      <td>False</td>\n",
       "      <td>False</td>\n",
       "      <td>False</td>\n",
       "      <td>False</td>\n",
       "      <td>False</td>\n",
       "      <td>False</td>\n",
       "      <td>False</td>\n",
       "      <td>False</td>\n",
       "      <td>False</td>\n",
       "    </tr>\n",
       "    <tr>\n",
       "      <th>2</th>\n",
       "      <td>False</td>\n",
       "      <td>False</td>\n",
       "      <td>False</td>\n",
       "      <td>False</td>\n",
       "      <td>False</td>\n",
       "      <td>False</td>\n",
       "      <td>False</td>\n",
       "      <td>False</td>\n",
       "      <td>False</td>\n",
       "      <td>False</td>\n",
       "      <td>False</td>\n",
       "      <td>False</td>\n",
       "    </tr>\n",
       "    <tr>\n",
       "      <th>3</th>\n",
       "      <td>False</td>\n",
       "      <td>False</td>\n",
       "      <td>False</td>\n",
       "      <td>False</td>\n",
       "      <td>False</td>\n",
       "      <td>False</td>\n",
       "      <td>False</td>\n",
       "      <td>False</td>\n",
       "      <td>False</td>\n",
       "      <td>False</td>\n",
       "      <td>False</td>\n",
       "      <td>False</td>\n",
       "    </tr>\n",
       "    <tr>\n",
       "      <th>4</th>\n",
       "      <td>False</td>\n",
       "      <td>False</td>\n",
       "      <td>False</td>\n",
       "      <td>False</td>\n",
       "      <td>False</td>\n",
       "      <td>False</td>\n",
       "      <td>False</td>\n",
       "      <td>False</td>\n",
       "      <td>False</td>\n",
       "      <td>False</td>\n",
       "      <td>False</td>\n",
       "      <td>False</td>\n",
       "    </tr>\n",
       "    <tr>\n",
       "      <th>...</th>\n",
       "      <td>...</td>\n",
       "      <td>...</td>\n",
       "      <td>...</td>\n",
       "      <td>...</td>\n",
       "      <td>...</td>\n",
       "      <td>...</td>\n",
       "      <td>...</td>\n",
       "      <td>...</td>\n",
       "      <td>...</td>\n",
       "      <td>...</td>\n",
       "      <td>...</td>\n",
       "      <td>...</td>\n",
       "    </tr>\n",
       "    <tr>\n",
       "      <th>1594</th>\n",
       "      <td>False</td>\n",
       "      <td>False</td>\n",
       "      <td>False</td>\n",
       "      <td>False</td>\n",
       "      <td>False</td>\n",
       "      <td>False</td>\n",
       "      <td>False</td>\n",
       "      <td>False</td>\n",
       "      <td>False</td>\n",
       "      <td>False</td>\n",
       "      <td>False</td>\n",
       "      <td>False</td>\n",
       "    </tr>\n",
       "    <tr>\n",
       "      <th>1595</th>\n",
       "      <td>False</td>\n",
       "      <td>False</td>\n",
       "      <td>False</td>\n",
       "      <td>False</td>\n",
       "      <td>False</td>\n",
       "      <td>False</td>\n",
       "      <td>False</td>\n",
       "      <td>False</td>\n",
       "      <td>False</td>\n",
       "      <td>False</td>\n",
       "      <td>False</td>\n",
       "      <td>False</td>\n",
       "    </tr>\n",
       "    <tr>\n",
       "      <th>1596</th>\n",
       "      <td>False</td>\n",
       "      <td>False</td>\n",
       "      <td>False</td>\n",
       "      <td>False</td>\n",
       "      <td>False</td>\n",
       "      <td>False</td>\n",
       "      <td>False</td>\n",
       "      <td>False</td>\n",
       "      <td>False</td>\n",
       "      <td>False</td>\n",
       "      <td>False</td>\n",
       "      <td>False</td>\n",
       "    </tr>\n",
       "    <tr>\n",
       "      <th>1597</th>\n",
       "      <td>False</td>\n",
       "      <td>False</td>\n",
       "      <td>False</td>\n",
       "      <td>False</td>\n",
       "      <td>False</td>\n",
       "      <td>False</td>\n",
       "      <td>False</td>\n",
       "      <td>False</td>\n",
       "      <td>False</td>\n",
       "      <td>False</td>\n",
       "      <td>False</td>\n",
       "      <td>False</td>\n",
       "    </tr>\n",
       "    <tr>\n",
       "      <th>1598</th>\n",
       "      <td>False</td>\n",
       "      <td>False</td>\n",
       "      <td>False</td>\n",
       "      <td>False</td>\n",
       "      <td>False</td>\n",
       "      <td>False</td>\n",
       "      <td>False</td>\n",
       "      <td>False</td>\n",
       "      <td>False</td>\n",
       "      <td>False</td>\n",
       "      <td>False</td>\n",
       "      <td>False</td>\n",
       "    </tr>\n",
       "  </tbody>\n",
       "</table>\n",
       "<p>1599 rows × 12 columns</p>\n",
       "</div>"
      ],
      "text/plain": [
       "      fixed acidity  volatile acidity  citric acid  residual sugar  chlorides  \\\n",
       "0             False             False        False           False      False   \n",
       "1             False             False        False           False      False   \n",
       "2             False             False        False           False      False   \n",
       "3             False             False        False           False      False   \n",
       "4             False             False        False           False      False   \n",
       "...             ...               ...          ...             ...        ...   \n",
       "1594          False             False        False           False      False   \n",
       "1595          False             False        False           False      False   \n",
       "1596          False             False        False           False      False   \n",
       "1597          False             False        False           False      False   \n",
       "1598          False             False        False           False      False   \n",
       "\n",
       "      free sulfur dioxide  total sulfur dioxide  density     pH  sulphates  \\\n",
       "0                   False                 False    False  False      False   \n",
       "1                   False                 False    False  False      False   \n",
       "2                   False                 False    False  False      False   \n",
       "3                   False                 False    False  False      False   \n",
       "4                   False                 False    False  False      False   \n",
       "...                   ...                   ...      ...    ...        ...   \n",
       "1594                False                 False    False  False      False   \n",
       "1595                False                 False    False  False      False   \n",
       "1596                False                 False    False  False      False   \n",
       "1597                False                 False    False  False      False   \n",
       "1598                False                 False    False  False      False   \n",
       "\n",
       "      alcohol  quality  \n",
       "0       False    False  \n",
       "1       False    False  \n",
       "2       False    False  \n",
       "3       False    False  \n",
       "4       False    False  \n",
       "...       ...      ...  \n",
       "1594    False    False  \n",
       "1595    False    False  \n",
       "1596    False    False  \n",
       "1597    False    False  \n",
       "1598    False    False  \n",
       "\n",
       "[1599 rows x 12 columns]"
      ]
     },
     "execution_count": 55,
     "metadata": {},
     "output_type": "execute_result"
    }
   ],
   "source": [
    "data1.isnull()"
   ]
  },
  {
   "cell_type": "code",
   "execution_count": 56,
   "id": "4bc38a8b",
   "metadata": {},
   "outputs": [
    {
     "data": {
      "text/plain": [
       "0"
      ]
     },
     "execution_count": 56,
     "metadata": {},
     "output_type": "execute_result"
    }
   ],
   "source": [
    "#缺失值总计\n",
    "data1.isnull().sum().sum()"
   ]
  },
  {
   "cell_type": "code",
   "execution_count": 57,
   "id": "931a8b05",
   "metadata": {},
   "outputs": [
    {
     "data": {
      "text/html": [
       "<div>\n",
       "<style scoped>\n",
       "    .dataframe tbody tr th:only-of-type {\n",
       "        vertical-align: middle;\n",
       "    }\n",
       "\n",
       "    .dataframe tbody tr th {\n",
       "        vertical-align: top;\n",
       "    }\n",
       "\n",
       "    .dataframe thead th {\n",
       "        text-align: right;\n",
       "    }\n",
       "</style>\n",
       "<table border=\"1\" class=\"dataframe\">\n",
       "  <thead>\n",
       "    <tr style=\"text-align: right;\">\n",
       "      <th></th>\n",
       "      <th>fixed acidity</th>\n",
       "      <th>volatile acidity</th>\n",
       "      <th>citric acid</th>\n",
       "      <th>residual sugar</th>\n",
       "      <th>chlorides</th>\n",
       "      <th>free sulfur dioxide</th>\n",
       "      <th>total sulfur dioxide</th>\n",
       "      <th>density</th>\n",
       "      <th>pH</th>\n",
       "      <th>sulphates</th>\n",
       "      <th>alcohol</th>\n",
       "      <th>quality</th>\n",
       "    </tr>\n",
       "  </thead>\n",
       "  <tbody>\n",
       "    <tr>\n",
       "      <th>0</th>\n",
       "      <td>False</td>\n",
       "      <td>False</td>\n",
       "      <td>False</td>\n",
       "      <td>False</td>\n",
       "      <td>False</td>\n",
       "      <td>False</td>\n",
       "      <td>False</td>\n",
       "      <td>False</td>\n",
       "      <td>False</td>\n",
       "      <td>False</td>\n",
       "      <td>False</td>\n",
       "      <td>False</td>\n",
       "    </tr>\n",
       "    <tr>\n",
       "      <th>1</th>\n",
       "      <td>False</td>\n",
       "      <td>False</td>\n",
       "      <td>False</td>\n",
       "      <td>False</td>\n",
       "      <td>False</td>\n",
       "      <td>False</td>\n",
       "      <td>False</td>\n",
       "      <td>False</td>\n",
       "      <td>False</td>\n",
       "      <td>False</td>\n",
       "      <td>False</td>\n",
       "      <td>False</td>\n",
       "    </tr>\n",
       "    <tr>\n",
       "      <th>2</th>\n",
       "      <td>False</td>\n",
       "      <td>False</td>\n",
       "      <td>False</td>\n",
       "      <td>False</td>\n",
       "      <td>False</td>\n",
       "      <td>False</td>\n",
       "      <td>False</td>\n",
       "      <td>False</td>\n",
       "      <td>False</td>\n",
       "      <td>False</td>\n",
       "      <td>False</td>\n",
       "      <td>False</td>\n",
       "    </tr>\n",
       "    <tr>\n",
       "      <th>3</th>\n",
       "      <td>False</td>\n",
       "      <td>False</td>\n",
       "      <td>False</td>\n",
       "      <td>False</td>\n",
       "      <td>False</td>\n",
       "      <td>False</td>\n",
       "      <td>False</td>\n",
       "      <td>False</td>\n",
       "      <td>False</td>\n",
       "      <td>False</td>\n",
       "      <td>False</td>\n",
       "      <td>False</td>\n",
       "    </tr>\n",
       "    <tr>\n",
       "      <th>4</th>\n",
       "      <td>False</td>\n",
       "      <td>False</td>\n",
       "      <td>False</td>\n",
       "      <td>False</td>\n",
       "      <td>False</td>\n",
       "      <td>False</td>\n",
       "      <td>False</td>\n",
       "      <td>False</td>\n",
       "      <td>False</td>\n",
       "      <td>False</td>\n",
       "      <td>False</td>\n",
       "      <td>False</td>\n",
       "    </tr>\n",
       "    <tr>\n",
       "      <th>...</th>\n",
       "      <td>...</td>\n",
       "      <td>...</td>\n",
       "      <td>...</td>\n",
       "      <td>...</td>\n",
       "      <td>...</td>\n",
       "      <td>...</td>\n",
       "      <td>...</td>\n",
       "      <td>...</td>\n",
       "      <td>...</td>\n",
       "      <td>...</td>\n",
       "      <td>...</td>\n",
       "      <td>...</td>\n",
       "    </tr>\n",
       "    <tr>\n",
       "      <th>4893</th>\n",
       "      <td>False</td>\n",
       "      <td>False</td>\n",
       "      <td>False</td>\n",
       "      <td>False</td>\n",
       "      <td>False</td>\n",
       "      <td>False</td>\n",
       "      <td>False</td>\n",
       "      <td>False</td>\n",
       "      <td>False</td>\n",
       "      <td>False</td>\n",
       "      <td>False</td>\n",
       "      <td>False</td>\n",
       "    </tr>\n",
       "    <tr>\n",
       "      <th>4894</th>\n",
       "      <td>False</td>\n",
       "      <td>False</td>\n",
       "      <td>False</td>\n",
       "      <td>False</td>\n",
       "      <td>False</td>\n",
       "      <td>False</td>\n",
       "      <td>False</td>\n",
       "      <td>False</td>\n",
       "      <td>False</td>\n",
       "      <td>False</td>\n",
       "      <td>False</td>\n",
       "      <td>False</td>\n",
       "    </tr>\n",
       "    <tr>\n",
       "      <th>4895</th>\n",
       "      <td>False</td>\n",
       "      <td>False</td>\n",
       "      <td>False</td>\n",
       "      <td>False</td>\n",
       "      <td>False</td>\n",
       "      <td>False</td>\n",
       "      <td>False</td>\n",
       "      <td>False</td>\n",
       "      <td>False</td>\n",
       "      <td>False</td>\n",
       "      <td>False</td>\n",
       "      <td>False</td>\n",
       "    </tr>\n",
       "    <tr>\n",
       "      <th>4896</th>\n",
       "      <td>False</td>\n",
       "      <td>False</td>\n",
       "      <td>False</td>\n",
       "      <td>False</td>\n",
       "      <td>False</td>\n",
       "      <td>False</td>\n",
       "      <td>False</td>\n",
       "      <td>False</td>\n",
       "      <td>False</td>\n",
       "      <td>False</td>\n",
       "      <td>False</td>\n",
       "      <td>False</td>\n",
       "    </tr>\n",
       "    <tr>\n",
       "      <th>4897</th>\n",
       "      <td>False</td>\n",
       "      <td>False</td>\n",
       "      <td>False</td>\n",
       "      <td>False</td>\n",
       "      <td>False</td>\n",
       "      <td>False</td>\n",
       "      <td>False</td>\n",
       "      <td>False</td>\n",
       "      <td>False</td>\n",
       "      <td>False</td>\n",
       "      <td>False</td>\n",
       "      <td>False</td>\n",
       "    </tr>\n",
       "  </tbody>\n",
       "</table>\n",
       "<p>4898 rows × 12 columns</p>\n",
       "</div>"
      ],
      "text/plain": [
       "      fixed acidity  volatile acidity  citric acid  residual sugar  chlorides  \\\n",
       "0             False             False        False           False      False   \n",
       "1             False             False        False           False      False   \n",
       "2             False             False        False           False      False   \n",
       "3             False             False        False           False      False   \n",
       "4             False             False        False           False      False   \n",
       "...             ...               ...          ...             ...        ...   \n",
       "4893          False             False        False           False      False   \n",
       "4894          False             False        False           False      False   \n",
       "4895          False             False        False           False      False   \n",
       "4896          False             False        False           False      False   \n",
       "4897          False             False        False           False      False   \n",
       "\n",
       "      free sulfur dioxide  total sulfur dioxide  density     pH  sulphates  \\\n",
       "0                   False                 False    False  False      False   \n",
       "1                   False                 False    False  False      False   \n",
       "2                   False                 False    False  False      False   \n",
       "3                   False                 False    False  False      False   \n",
       "4                   False                 False    False  False      False   \n",
       "...                   ...                   ...      ...    ...        ...   \n",
       "4893                False                 False    False  False      False   \n",
       "4894                False                 False    False  False      False   \n",
       "4895                False                 False    False  False      False   \n",
       "4896                False                 False    False  False      False   \n",
       "4897                False                 False    False  False      False   \n",
       "\n",
       "      alcohol  quality  \n",
       "0       False    False  \n",
       "1       False    False  \n",
       "2       False    False  \n",
       "3       False    False  \n",
       "4       False    False  \n",
       "...       ...      ...  \n",
       "4893    False    False  \n",
       "4894    False    False  \n",
       "4895    False    False  \n",
       "4896    False    False  \n",
       "4897    False    False  \n",
       "\n",
       "[4898 rows x 12 columns]"
      ]
     },
     "execution_count": 57,
     "metadata": {},
     "output_type": "execute_result"
    }
   ],
   "source": [
    "data2.isnull()"
   ]
  },
  {
   "cell_type": "code",
   "execution_count": 58,
   "id": "dd322092",
   "metadata": {},
   "outputs": [
    {
     "data": {
      "text/plain": [
       "0"
      ]
     },
     "execution_count": 58,
     "metadata": {},
     "output_type": "execute_result"
    }
   ],
   "source": [
    "data2.isnull().sum().sum()"
   ]
  },
  {
   "cell_type": "markdown",
   "id": "e58b22d7",
   "metadata": {},
   "source": [
    "由上可以看出，葡萄酒质量数据集中没有缺失值，因此，不需要对缺失值进行处理。"
   ]
  },
  {
   "cell_type": "markdown",
   "id": "30a4063d",
   "metadata": {},
   "source": [
    "### 3.5 重复值检测"
   ]
  },
  {
   "cell_type": "code",
   "execution_count": 61,
   "id": "8f1d81aa",
   "metadata": {},
   "outputs": [
    {
     "data": {
      "text/plain": [
       "0       False\n",
       "1       False\n",
       "2       False\n",
       "3       False\n",
       "4        True\n",
       "        ...  \n",
       "1594    False\n",
       "1595    False\n",
       "1596     True\n",
       "1597    False\n",
       "1598    False\n",
       "Length: 1599, dtype: bool"
      ]
     },
     "execution_count": 61,
     "metadata": {},
     "output_type": "execute_result"
    }
   ],
   "source": [
    "data1.duplicated()"
   ]
  },
  {
   "cell_type": "code",
   "execution_count": 63,
   "id": "79c4c2dd",
   "metadata": {},
   "outputs": [
    {
     "data": {
      "text/html": [
       "<div>\n",
       "<style scoped>\n",
       "    .dataframe tbody tr th:only-of-type {\n",
       "        vertical-align: middle;\n",
       "    }\n",
       "\n",
       "    .dataframe tbody tr th {\n",
       "        vertical-align: top;\n",
       "    }\n",
       "\n",
       "    .dataframe thead th {\n",
       "        text-align: right;\n",
       "    }\n",
       "</style>\n",
       "<table border=\"1\" class=\"dataframe\">\n",
       "  <thead>\n",
       "    <tr style=\"text-align: right;\">\n",
       "      <th></th>\n",
       "      <th>fixed acidity</th>\n",
       "      <th>volatile acidity</th>\n",
       "      <th>citric acid</th>\n",
       "      <th>residual sugar</th>\n",
       "      <th>chlorides</th>\n",
       "      <th>free sulfur dioxide</th>\n",
       "      <th>total sulfur dioxide</th>\n",
       "      <th>density</th>\n",
       "      <th>pH</th>\n",
       "      <th>sulphates</th>\n",
       "      <th>alcohol</th>\n",
       "      <th>quality</th>\n",
       "    </tr>\n",
       "  </thead>\n",
       "  <tbody>\n",
       "    <tr>\n",
       "      <th>0</th>\n",
       "      <td>7.4</td>\n",
       "      <td>0.700</td>\n",
       "      <td>0.00</td>\n",
       "      <td>1.9</td>\n",
       "      <td>0.076</td>\n",
       "      <td>11.0</td>\n",
       "      <td>34.0</td>\n",
       "      <td>0.99780</td>\n",
       "      <td>3.51</td>\n",
       "      <td>0.56</td>\n",
       "      <td>9.4</td>\n",
       "      <td>5</td>\n",
       "    </tr>\n",
       "    <tr>\n",
       "      <th>1</th>\n",
       "      <td>7.8</td>\n",
       "      <td>0.880</td>\n",
       "      <td>0.00</td>\n",
       "      <td>2.6</td>\n",
       "      <td>0.098</td>\n",
       "      <td>25.0</td>\n",
       "      <td>67.0</td>\n",
       "      <td>0.99680</td>\n",
       "      <td>3.20</td>\n",
       "      <td>0.68</td>\n",
       "      <td>9.8</td>\n",
       "      <td>5</td>\n",
       "    </tr>\n",
       "    <tr>\n",
       "      <th>2</th>\n",
       "      <td>7.8</td>\n",
       "      <td>0.760</td>\n",
       "      <td>0.04</td>\n",
       "      <td>2.3</td>\n",
       "      <td>0.092</td>\n",
       "      <td>15.0</td>\n",
       "      <td>54.0</td>\n",
       "      <td>0.99700</td>\n",
       "      <td>3.26</td>\n",
       "      <td>0.65</td>\n",
       "      <td>9.8</td>\n",
       "      <td>5</td>\n",
       "    </tr>\n",
       "    <tr>\n",
       "      <th>3</th>\n",
       "      <td>11.2</td>\n",
       "      <td>0.280</td>\n",
       "      <td>0.56</td>\n",
       "      <td>1.9</td>\n",
       "      <td>0.075</td>\n",
       "      <td>17.0</td>\n",
       "      <td>60.0</td>\n",
       "      <td>0.99800</td>\n",
       "      <td>3.16</td>\n",
       "      <td>0.58</td>\n",
       "      <td>9.8</td>\n",
       "      <td>6</td>\n",
       "    </tr>\n",
       "    <tr>\n",
       "      <th>5</th>\n",
       "      <td>7.4</td>\n",
       "      <td>0.660</td>\n",
       "      <td>0.00</td>\n",
       "      <td>1.8</td>\n",
       "      <td>0.075</td>\n",
       "      <td>13.0</td>\n",
       "      <td>40.0</td>\n",
       "      <td>0.99780</td>\n",
       "      <td>3.51</td>\n",
       "      <td>0.56</td>\n",
       "      <td>9.4</td>\n",
       "      <td>5</td>\n",
       "    </tr>\n",
       "    <tr>\n",
       "      <th>...</th>\n",
       "      <td>...</td>\n",
       "      <td>...</td>\n",
       "      <td>...</td>\n",
       "      <td>...</td>\n",
       "      <td>...</td>\n",
       "      <td>...</td>\n",
       "      <td>...</td>\n",
       "      <td>...</td>\n",
       "      <td>...</td>\n",
       "      <td>...</td>\n",
       "      <td>...</td>\n",
       "      <td>...</td>\n",
       "    </tr>\n",
       "    <tr>\n",
       "      <th>1593</th>\n",
       "      <td>6.8</td>\n",
       "      <td>0.620</td>\n",
       "      <td>0.08</td>\n",
       "      <td>1.9</td>\n",
       "      <td>0.068</td>\n",
       "      <td>28.0</td>\n",
       "      <td>38.0</td>\n",
       "      <td>0.99651</td>\n",
       "      <td>3.42</td>\n",
       "      <td>0.82</td>\n",
       "      <td>9.5</td>\n",
       "      <td>6</td>\n",
       "    </tr>\n",
       "    <tr>\n",
       "      <th>1594</th>\n",
       "      <td>6.2</td>\n",
       "      <td>0.600</td>\n",
       "      <td>0.08</td>\n",
       "      <td>2.0</td>\n",
       "      <td>0.090</td>\n",
       "      <td>32.0</td>\n",
       "      <td>44.0</td>\n",
       "      <td>0.99490</td>\n",
       "      <td>3.45</td>\n",
       "      <td>0.58</td>\n",
       "      <td>10.5</td>\n",
       "      <td>5</td>\n",
       "    </tr>\n",
       "    <tr>\n",
       "      <th>1595</th>\n",
       "      <td>5.9</td>\n",
       "      <td>0.550</td>\n",
       "      <td>0.10</td>\n",
       "      <td>2.2</td>\n",
       "      <td>0.062</td>\n",
       "      <td>39.0</td>\n",
       "      <td>51.0</td>\n",
       "      <td>0.99512</td>\n",
       "      <td>3.52</td>\n",
       "      <td>0.76</td>\n",
       "      <td>11.2</td>\n",
       "      <td>6</td>\n",
       "    </tr>\n",
       "    <tr>\n",
       "      <th>1597</th>\n",
       "      <td>5.9</td>\n",
       "      <td>0.645</td>\n",
       "      <td>0.12</td>\n",
       "      <td>2.0</td>\n",
       "      <td>0.075</td>\n",
       "      <td>32.0</td>\n",
       "      <td>44.0</td>\n",
       "      <td>0.99547</td>\n",
       "      <td>3.57</td>\n",
       "      <td>0.71</td>\n",
       "      <td>10.2</td>\n",
       "      <td>5</td>\n",
       "    </tr>\n",
       "    <tr>\n",
       "      <th>1598</th>\n",
       "      <td>6.0</td>\n",
       "      <td>0.310</td>\n",
       "      <td>0.47</td>\n",
       "      <td>3.6</td>\n",
       "      <td>0.067</td>\n",
       "      <td>18.0</td>\n",
       "      <td>42.0</td>\n",
       "      <td>0.99549</td>\n",
       "      <td>3.39</td>\n",
       "      <td>0.66</td>\n",
       "      <td>11.0</td>\n",
       "      <td>6</td>\n",
       "    </tr>\n",
       "  </tbody>\n",
       "</table>\n",
       "<p>1359 rows × 12 columns</p>\n",
       "</div>"
      ],
      "text/plain": [
       "      fixed acidity  volatile acidity  citric acid  residual sugar  chlorides  \\\n",
       "0               7.4             0.700         0.00             1.9      0.076   \n",
       "1               7.8             0.880         0.00             2.6      0.098   \n",
       "2               7.8             0.760         0.04             2.3      0.092   \n",
       "3              11.2             0.280         0.56             1.9      0.075   \n",
       "5               7.4             0.660         0.00             1.8      0.075   \n",
       "...             ...               ...          ...             ...        ...   \n",
       "1593            6.8             0.620         0.08             1.9      0.068   \n",
       "1594            6.2             0.600         0.08             2.0      0.090   \n",
       "1595            5.9             0.550         0.10             2.2      0.062   \n",
       "1597            5.9             0.645         0.12             2.0      0.075   \n",
       "1598            6.0             0.310         0.47             3.6      0.067   \n",
       "\n",
       "      free sulfur dioxide  total sulfur dioxide  density    pH  sulphates  \\\n",
       "0                    11.0                  34.0  0.99780  3.51       0.56   \n",
       "1                    25.0                  67.0  0.99680  3.20       0.68   \n",
       "2                    15.0                  54.0  0.99700  3.26       0.65   \n",
       "3                    17.0                  60.0  0.99800  3.16       0.58   \n",
       "5                    13.0                  40.0  0.99780  3.51       0.56   \n",
       "...                   ...                   ...      ...   ...        ...   \n",
       "1593                 28.0                  38.0  0.99651  3.42       0.82   \n",
       "1594                 32.0                  44.0  0.99490  3.45       0.58   \n",
       "1595                 39.0                  51.0  0.99512  3.52       0.76   \n",
       "1597                 32.0                  44.0  0.99547  3.57       0.71   \n",
       "1598                 18.0                  42.0  0.99549  3.39       0.66   \n",
       "\n",
       "      alcohol  quality  \n",
       "0         9.4        5  \n",
       "1         9.8        5  \n",
       "2         9.8        5  \n",
       "3         9.8        6  \n",
       "5         9.4        5  \n",
       "...       ...      ...  \n",
       "1593      9.5        6  \n",
       "1594     10.5        5  \n",
       "1595     11.2        6  \n",
       "1597     10.2        5  \n",
       "1598     11.0        6  \n",
       "\n",
       "[1359 rows x 12 columns]"
      ]
     },
     "execution_count": 63,
     "metadata": {},
     "output_type": "execute_result"
    }
   ],
   "source": [
    "#删除多余的重复项\n",
    "data1.drop_duplicates()"
   ]
  },
  {
   "cell_type": "code",
   "execution_count": 64,
   "id": "f828d144",
   "metadata": {},
   "outputs": [
    {
     "data": {
      "text/plain": [
       "0       False\n",
       "1       False\n",
       "2       False\n",
       "3       False\n",
       "4        True\n",
       "        ...  \n",
       "4893    False\n",
       "4894    False\n",
       "4895    False\n",
       "4896    False\n",
       "4897    False\n",
       "Length: 4898, dtype: bool"
      ]
     },
     "execution_count": 64,
     "metadata": {},
     "output_type": "execute_result"
    }
   ],
   "source": [
    "data2.duplicated()"
   ]
  },
  {
   "cell_type": "code",
   "execution_count": 65,
   "id": "db888e57",
   "metadata": {},
   "outputs": [
    {
     "data": {
      "text/html": [
       "<div>\n",
       "<style scoped>\n",
       "    .dataframe tbody tr th:only-of-type {\n",
       "        vertical-align: middle;\n",
       "    }\n",
       "\n",
       "    .dataframe tbody tr th {\n",
       "        vertical-align: top;\n",
       "    }\n",
       "\n",
       "    .dataframe thead th {\n",
       "        text-align: right;\n",
       "    }\n",
       "</style>\n",
       "<table border=\"1\" class=\"dataframe\">\n",
       "  <thead>\n",
       "    <tr style=\"text-align: right;\">\n",
       "      <th></th>\n",
       "      <th>fixed acidity</th>\n",
       "      <th>volatile acidity</th>\n",
       "      <th>citric acid</th>\n",
       "      <th>residual sugar</th>\n",
       "      <th>chlorides</th>\n",
       "      <th>free sulfur dioxide</th>\n",
       "      <th>total sulfur dioxide</th>\n",
       "      <th>density</th>\n",
       "      <th>pH</th>\n",
       "      <th>sulphates</th>\n",
       "      <th>alcohol</th>\n",
       "      <th>quality</th>\n",
       "    </tr>\n",
       "  </thead>\n",
       "  <tbody>\n",
       "    <tr>\n",
       "      <th>0</th>\n",
       "      <td>7.4</td>\n",
       "      <td>0.700</td>\n",
       "      <td>0.00</td>\n",
       "      <td>1.9</td>\n",
       "      <td>0.076</td>\n",
       "      <td>11.0</td>\n",
       "      <td>34.0</td>\n",
       "      <td>0.99780</td>\n",
       "      <td>3.51</td>\n",
       "      <td>0.56</td>\n",
       "      <td>9.4</td>\n",
       "      <td>5</td>\n",
       "    </tr>\n",
       "    <tr>\n",
       "      <th>1</th>\n",
       "      <td>7.8</td>\n",
       "      <td>0.880</td>\n",
       "      <td>0.00</td>\n",
       "      <td>2.6</td>\n",
       "      <td>0.098</td>\n",
       "      <td>25.0</td>\n",
       "      <td>67.0</td>\n",
       "      <td>0.99680</td>\n",
       "      <td>3.20</td>\n",
       "      <td>0.68</td>\n",
       "      <td>9.8</td>\n",
       "      <td>5</td>\n",
       "    </tr>\n",
       "    <tr>\n",
       "      <th>2</th>\n",
       "      <td>7.8</td>\n",
       "      <td>0.760</td>\n",
       "      <td>0.04</td>\n",
       "      <td>2.3</td>\n",
       "      <td>0.092</td>\n",
       "      <td>15.0</td>\n",
       "      <td>54.0</td>\n",
       "      <td>0.99700</td>\n",
       "      <td>3.26</td>\n",
       "      <td>0.65</td>\n",
       "      <td>9.8</td>\n",
       "      <td>5</td>\n",
       "    </tr>\n",
       "    <tr>\n",
       "      <th>3</th>\n",
       "      <td>11.2</td>\n",
       "      <td>0.280</td>\n",
       "      <td>0.56</td>\n",
       "      <td>1.9</td>\n",
       "      <td>0.075</td>\n",
       "      <td>17.0</td>\n",
       "      <td>60.0</td>\n",
       "      <td>0.99800</td>\n",
       "      <td>3.16</td>\n",
       "      <td>0.58</td>\n",
       "      <td>9.8</td>\n",
       "      <td>6</td>\n",
       "    </tr>\n",
       "    <tr>\n",
       "      <th>5</th>\n",
       "      <td>7.4</td>\n",
       "      <td>0.660</td>\n",
       "      <td>0.00</td>\n",
       "      <td>1.8</td>\n",
       "      <td>0.075</td>\n",
       "      <td>13.0</td>\n",
       "      <td>40.0</td>\n",
       "      <td>0.99780</td>\n",
       "      <td>3.51</td>\n",
       "      <td>0.56</td>\n",
       "      <td>9.4</td>\n",
       "      <td>5</td>\n",
       "    </tr>\n",
       "    <tr>\n",
       "      <th>...</th>\n",
       "      <td>...</td>\n",
       "      <td>...</td>\n",
       "      <td>...</td>\n",
       "      <td>...</td>\n",
       "      <td>...</td>\n",
       "      <td>...</td>\n",
       "      <td>...</td>\n",
       "      <td>...</td>\n",
       "      <td>...</td>\n",
       "      <td>...</td>\n",
       "      <td>...</td>\n",
       "      <td>...</td>\n",
       "    </tr>\n",
       "    <tr>\n",
       "      <th>1593</th>\n",
       "      <td>6.8</td>\n",
       "      <td>0.620</td>\n",
       "      <td>0.08</td>\n",
       "      <td>1.9</td>\n",
       "      <td>0.068</td>\n",
       "      <td>28.0</td>\n",
       "      <td>38.0</td>\n",
       "      <td>0.99651</td>\n",
       "      <td>3.42</td>\n",
       "      <td>0.82</td>\n",
       "      <td>9.5</td>\n",
       "      <td>6</td>\n",
       "    </tr>\n",
       "    <tr>\n",
       "      <th>1594</th>\n",
       "      <td>6.2</td>\n",
       "      <td>0.600</td>\n",
       "      <td>0.08</td>\n",
       "      <td>2.0</td>\n",
       "      <td>0.090</td>\n",
       "      <td>32.0</td>\n",
       "      <td>44.0</td>\n",
       "      <td>0.99490</td>\n",
       "      <td>3.45</td>\n",
       "      <td>0.58</td>\n",
       "      <td>10.5</td>\n",
       "      <td>5</td>\n",
       "    </tr>\n",
       "    <tr>\n",
       "      <th>1595</th>\n",
       "      <td>5.9</td>\n",
       "      <td>0.550</td>\n",
       "      <td>0.10</td>\n",
       "      <td>2.2</td>\n",
       "      <td>0.062</td>\n",
       "      <td>39.0</td>\n",
       "      <td>51.0</td>\n",
       "      <td>0.99512</td>\n",
       "      <td>3.52</td>\n",
       "      <td>0.76</td>\n",
       "      <td>11.2</td>\n",
       "      <td>6</td>\n",
       "    </tr>\n",
       "    <tr>\n",
       "      <th>1597</th>\n",
       "      <td>5.9</td>\n",
       "      <td>0.645</td>\n",
       "      <td>0.12</td>\n",
       "      <td>2.0</td>\n",
       "      <td>0.075</td>\n",
       "      <td>32.0</td>\n",
       "      <td>44.0</td>\n",
       "      <td>0.99547</td>\n",
       "      <td>3.57</td>\n",
       "      <td>0.71</td>\n",
       "      <td>10.2</td>\n",
       "      <td>5</td>\n",
       "    </tr>\n",
       "    <tr>\n",
       "      <th>1598</th>\n",
       "      <td>6.0</td>\n",
       "      <td>0.310</td>\n",
       "      <td>0.47</td>\n",
       "      <td>3.6</td>\n",
       "      <td>0.067</td>\n",
       "      <td>18.0</td>\n",
       "      <td>42.0</td>\n",
       "      <td>0.99549</td>\n",
       "      <td>3.39</td>\n",
       "      <td>0.66</td>\n",
       "      <td>11.0</td>\n",
       "      <td>6</td>\n",
       "    </tr>\n",
       "  </tbody>\n",
       "</table>\n",
       "<p>1359 rows × 12 columns</p>\n",
       "</div>"
      ],
      "text/plain": [
       "      fixed acidity  volatile acidity  citric acid  residual sugar  chlorides  \\\n",
       "0               7.4             0.700         0.00             1.9      0.076   \n",
       "1               7.8             0.880         0.00             2.6      0.098   \n",
       "2               7.8             0.760         0.04             2.3      0.092   \n",
       "3              11.2             0.280         0.56             1.9      0.075   \n",
       "5               7.4             0.660         0.00             1.8      0.075   \n",
       "...             ...               ...          ...             ...        ...   \n",
       "1593            6.8             0.620         0.08             1.9      0.068   \n",
       "1594            6.2             0.600         0.08             2.0      0.090   \n",
       "1595            5.9             0.550         0.10             2.2      0.062   \n",
       "1597            5.9             0.645         0.12             2.0      0.075   \n",
       "1598            6.0             0.310         0.47             3.6      0.067   \n",
       "\n",
       "      free sulfur dioxide  total sulfur dioxide  density    pH  sulphates  \\\n",
       "0                    11.0                  34.0  0.99780  3.51       0.56   \n",
       "1                    25.0                  67.0  0.99680  3.20       0.68   \n",
       "2                    15.0                  54.0  0.99700  3.26       0.65   \n",
       "3                    17.0                  60.0  0.99800  3.16       0.58   \n",
       "5                    13.0                  40.0  0.99780  3.51       0.56   \n",
       "...                   ...                   ...      ...   ...        ...   \n",
       "1593                 28.0                  38.0  0.99651  3.42       0.82   \n",
       "1594                 32.0                  44.0  0.99490  3.45       0.58   \n",
       "1595                 39.0                  51.0  0.99512  3.52       0.76   \n",
       "1597                 32.0                  44.0  0.99547  3.57       0.71   \n",
       "1598                 18.0                  42.0  0.99549  3.39       0.66   \n",
       "\n",
       "      alcohol  quality  \n",
       "0         9.4        5  \n",
       "1         9.8        5  \n",
       "2         9.8        5  \n",
       "3         9.8        6  \n",
       "5         9.4        5  \n",
       "...       ...      ...  \n",
       "1593      9.5        6  \n",
       "1594     10.5        5  \n",
       "1595     11.2        6  \n",
       "1597     10.2        5  \n",
       "1598     11.0        6  \n",
       "\n",
       "[1359 rows x 12 columns]"
      ]
     },
     "execution_count": 65,
     "metadata": {},
     "output_type": "execute_result"
    }
   ],
   "source": [
    "#删除多余的重复项\n",
    "data1.drop_duplicates()"
   ]
  },
  {
   "cell_type": "markdown",
   "id": "3e71a0a3",
   "metadata": {},
   "source": [
    "### 3.6 检测异常值"
   ]
  },
  {
   "cell_type": "markdown",
   "id": "5e9dd477",
   "metadata": {},
   "source": [
    "简单查看一下是否有异常值"
   ]
  },
  {
   "cell_type": "code",
   "execution_count": 67,
   "id": "d8e4d6c7",
   "metadata": {},
   "outputs": [
    {
     "data": {
      "text/html": [
       "<div>\n",
       "<style scoped>\n",
       "    .dataframe tbody tr th:only-of-type {\n",
       "        vertical-align: middle;\n",
       "    }\n",
       "\n",
       "    .dataframe tbody tr th {\n",
       "        vertical-align: top;\n",
       "    }\n",
       "\n",
       "    .dataframe thead th {\n",
       "        text-align: right;\n",
       "    }\n",
       "</style>\n",
       "<table border=\"1\" class=\"dataframe\">\n",
       "  <thead>\n",
       "    <tr style=\"text-align: right;\">\n",
       "      <th></th>\n",
       "      <th>fixed acidity</th>\n",
       "      <th>volatile acidity</th>\n",
       "      <th>citric acid</th>\n",
       "      <th>residual sugar</th>\n",
       "      <th>chlorides</th>\n",
       "      <th>free sulfur dioxide</th>\n",
       "      <th>total sulfur dioxide</th>\n",
       "      <th>density</th>\n",
       "      <th>pH</th>\n",
       "      <th>sulphates</th>\n",
       "      <th>alcohol</th>\n",
       "      <th>quality</th>\n",
       "    </tr>\n",
       "  </thead>\n",
       "  <tbody>\n",
       "    <tr>\n",
       "      <th>count</th>\n",
       "      <td>1599.000000</td>\n",
       "      <td>1599.000000</td>\n",
       "      <td>1599.000000</td>\n",
       "      <td>1599.000000</td>\n",
       "      <td>1599.000000</td>\n",
       "      <td>1599.000000</td>\n",
       "      <td>1599.000000</td>\n",
       "      <td>1599.000000</td>\n",
       "      <td>1599.000000</td>\n",
       "      <td>1599.000000</td>\n",
       "      <td>1599.000000</td>\n",
       "      <td>1599.000000</td>\n",
       "    </tr>\n",
       "    <tr>\n",
       "      <th>mean</th>\n",
       "      <td>8.319637</td>\n",
       "      <td>0.527821</td>\n",
       "      <td>0.270976</td>\n",
       "      <td>2.538806</td>\n",
       "      <td>0.087467</td>\n",
       "      <td>15.874922</td>\n",
       "      <td>46.467792</td>\n",
       "      <td>0.996747</td>\n",
       "      <td>3.311113</td>\n",
       "      <td>0.658149</td>\n",
       "      <td>10.422983</td>\n",
       "      <td>5.636023</td>\n",
       "    </tr>\n",
       "    <tr>\n",
       "      <th>std</th>\n",
       "      <td>1.741096</td>\n",
       "      <td>0.179060</td>\n",
       "      <td>0.194801</td>\n",
       "      <td>1.409928</td>\n",
       "      <td>0.047065</td>\n",
       "      <td>10.460157</td>\n",
       "      <td>32.895324</td>\n",
       "      <td>0.001887</td>\n",
       "      <td>0.154386</td>\n",
       "      <td>0.169507</td>\n",
       "      <td>1.065668</td>\n",
       "      <td>0.807569</td>\n",
       "    </tr>\n",
       "    <tr>\n",
       "      <th>min</th>\n",
       "      <td>4.600000</td>\n",
       "      <td>0.120000</td>\n",
       "      <td>0.000000</td>\n",
       "      <td>0.900000</td>\n",
       "      <td>0.012000</td>\n",
       "      <td>1.000000</td>\n",
       "      <td>6.000000</td>\n",
       "      <td>0.990070</td>\n",
       "      <td>2.740000</td>\n",
       "      <td>0.330000</td>\n",
       "      <td>8.400000</td>\n",
       "      <td>3.000000</td>\n",
       "    </tr>\n",
       "    <tr>\n",
       "      <th>25%</th>\n",
       "      <td>7.100000</td>\n",
       "      <td>0.390000</td>\n",
       "      <td>0.090000</td>\n",
       "      <td>1.900000</td>\n",
       "      <td>0.070000</td>\n",
       "      <td>7.000000</td>\n",
       "      <td>22.000000</td>\n",
       "      <td>0.995600</td>\n",
       "      <td>3.210000</td>\n",
       "      <td>0.550000</td>\n",
       "      <td>9.500000</td>\n",
       "      <td>5.000000</td>\n",
       "    </tr>\n",
       "    <tr>\n",
       "      <th>50%</th>\n",
       "      <td>7.900000</td>\n",
       "      <td>0.520000</td>\n",
       "      <td>0.260000</td>\n",
       "      <td>2.200000</td>\n",
       "      <td>0.079000</td>\n",
       "      <td>14.000000</td>\n",
       "      <td>38.000000</td>\n",
       "      <td>0.996750</td>\n",
       "      <td>3.310000</td>\n",
       "      <td>0.620000</td>\n",
       "      <td>10.200000</td>\n",
       "      <td>6.000000</td>\n",
       "    </tr>\n",
       "    <tr>\n",
       "      <th>75%</th>\n",
       "      <td>9.200000</td>\n",
       "      <td>0.640000</td>\n",
       "      <td>0.420000</td>\n",
       "      <td>2.600000</td>\n",
       "      <td>0.090000</td>\n",
       "      <td>21.000000</td>\n",
       "      <td>62.000000</td>\n",
       "      <td>0.997835</td>\n",
       "      <td>3.400000</td>\n",
       "      <td>0.730000</td>\n",
       "      <td>11.100000</td>\n",
       "      <td>6.000000</td>\n",
       "    </tr>\n",
       "    <tr>\n",
       "      <th>max</th>\n",
       "      <td>15.900000</td>\n",
       "      <td>1.580000</td>\n",
       "      <td>1.000000</td>\n",
       "      <td>15.500000</td>\n",
       "      <td>0.611000</td>\n",
       "      <td>72.000000</td>\n",
       "      <td>289.000000</td>\n",
       "      <td>1.003690</td>\n",
       "      <td>4.010000</td>\n",
       "      <td>2.000000</td>\n",
       "      <td>14.900000</td>\n",
       "      <td>8.000000</td>\n",
       "    </tr>\n",
       "  </tbody>\n",
       "</table>\n",
       "</div>"
      ],
      "text/plain": [
       "       fixed acidity  volatile acidity  citric acid  residual sugar  \\\n",
       "count    1599.000000       1599.000000  1599.000000     1599.000000   \n",
       "mean        8.319637          0.527821     0.270976        2.538806   \n",
       "std         1.741096          0.179060     0.194801        1.409928   \n",
       "min         4.600000          0.120000     0.000000        0.900000   \n",
       "25%         7.100000          0.390000     0.090000        1.900000   \n",
       "50%         7.900000          0.520000     0.260000        2.200000   \n",
       "75%         9.200000          0.640000     0.420000        2.600000   \n",
       "max        15.900000          1.580000     1.000000       15.500000   \n",
       "\n",
       "         chlorides  free sulfur dioxide  total sulfur dioxide      density  \\\n",
       "count  1599.000000          1599.000000           1599.000000  1599.000000   \n",
       "mean      0.087467            15.874922             46.467792     0.996747   \n",
       "std       0.047065            10.460157             32.895324     0.001887   \n",
       "min       0.012000             1.000000              6.000000     0.990070   \n",
       "25%       0.070000             7.000000             22.000000     0.995600   \n",
       "50%       0.079000            14.000000             38.000000     0.996750   \n",
       "75%       0.090000            21.000000             62.000000     0.997835   \n",
       "max       0.611000            72.000000            289.000000     1.003690   \n",
       "\n",
       "                pH    sulphates      alcohol      quality  \n",
       "count  1599.000000  1599.000000  1599.000000  1599.000000  \n",
       "mean      3.311113     0.658149    10.422983     5.636023  \n",
       "std       0.154386     0.169507     1.065668     0.807569  \n",
       "min       2.740000     0.330000     8.400000     3.000000  \n",
       "25%       3.210000     0.550000     9.500000     5.000000  \n",
       "50%       3.310000     0.620000    10.200000     6.000000  \n",
       "75%       3.400000     0.730000    11.100000     6.000000  \n",
       "max       4.010000     2.000000    14.900000     8.000000  "
      ]
     },
     "execution_count": 67,
     "metadata": {},
     "output_type": "execute_result"
    }
   ],
   "source": [
    "data1.describe()"
   ]
  },
  {
   "cell_type": "code",
   "execution_count": 69,
   "id": "7bd50b54",
   "metadata": {},
   "outputs": [
    {
     "data": {
      "text/html": [
       "<div>\n",
       "<style scoped>\n",
       "    .dataframe tbody tr th:only-of-type {\n",
       "        vertical-align: middle;\n",
       "    }\n",
       "\n",
       "    .dataframe tbody tr th {\n",
       "        vertical-align: top;\n",
       "    }\n",
       "\n",
       "    .dataframe thead th {\n",
       "        text-align: right;\n",
       "    }\n",
       "</style>\n",
       "<table border=\"1\" class=\"dataframe\">\n",
       "  <thead>\n",
       "    <tr style=\"text-align: right;\">\n",
       "      <th></th>\n",
       "      <th>fixed acidity</th>\n",
       "      <th>volatile acidity</th>\n",
       "      <th>citric acid</th>\n",
       "      <th>residual sugar</th>\n",
       "      <th>chlorides</th>\n",
       "      <th>free sulfur dioxide</th>\n",
       "      <th>total sulfur dioxide</th>\n",
       "      <th>density</th>\n",
       "      <th>pH</th>\n",
       "      <th>sulphates</th>\n",
       "      <th>alcohol</th>\n",
       "      <th>quality</th>\n",
       "    </tr>\n",
       "  </thead>\n",
       "  <tbody>\n",
       "    <tr>\n",
       "      <th>count</th>\n",
       "      <td>4898.000000</td>\n",
       "      <td>4898.000000</td>\n",
       "      <td>4898.000000</td>\n",
       "      <td>4898.000000</td>\n",
       "      <td>4898.000000</td>\n",
       "      <td>4898.000000</td>\n",
       "      <td>4898.000000</td>\n",
       "      <td>4898.000000</td>\n",
       "      <td>4898.000000</td>\n",
       "      <td>4898.000000</td>\n",
       "      <td>4898.000000</td>\n",
       "      <td>4898.000000</td>\n",
       "    </tr>\n",
       "    <tr>\n",
       "      <th>mean</th>\n",
       "      <td>6.854788</td>\n",
       "      <td>0.278241</td>\n",
       "      <td>0.334192</td>\n",
       "      <td>6.391415</td>\n",
       "      <td>0.045772</td>\n",
       "      <td>35.308085</td>\n",
       "      <td>138.360657</td>\n",
       "      <td>0.994027</td>\n",
       "      <td>3.188267</td>\n",
       "      <td>0.489847</td>\n",
       "      <td>10.514267</td>\n",
       "      <td>5.877909</td>\n",
       "    </tr>\n",
       "    <tr>\n",
       "      <th>std</th>\n",
       "      <td>0.843868</td>\n",
       "      <td>0.100795</td>\n",
       "      <td>0.121020</td>\n",
       "      <td>5.072058</td>\n",
       "      <td>0.021848</td>\n",
       "      <td>17.007137</td>\n",
       "      <td>42.498065</td>\n",
       "      <td>0.002991</td>\n",
       "      <td>0.151001</td>\n",
       "      <td>0.114126</td>\n",
       "      <td>1.230621</td>\n",
       "      <td>0.885639</td>\n",
       "    </tr>\n",
       "    <tr>\n",
       "      <th>min</th>\n",
       "      <td>3.800000</td>\n",
       "      <td>0.080000</td>\n",
       "      <td>0.000000</td>\n",
       "      <td>0.600000</td>\n",
       "      <td>0.009000</td>\n",
       "      <td>2.000000</td>\n",
       "      <td>9.000000</td>\n",
       "      <td>0.987110</td>\n",
       "      <td>2.720000</td>\n",
       "      <td>0.220000</td>\n",
       "      <td>8.000000</td>\n",
       "      <td>3.000000</td>\n",
       "    </tr>\n",
       "    <tr>\n",
       "      <th>25%</th>\n",
       "      <td>6.300000</td>\n",
       "      <td>0.210000</td>\n",
       "      <td>0.270000</td>\n",
       "      <td>1.700000</td>\n",
       "      <td>0.036000</td>\n",
       "      <td>23.000000</td>\n",
       "      <td>108.000000</td>\n",
       "      <td>0.991723</td>\n",
       "      <td>3.090000</td>\n",
       "      <td>0.410000</td>\n",
       "      <td>9.500000</td>\n",
       "      <td>5.000000</td>\n",
       "    </tr>\n",
       "    <tr>\n",
       "      <th>50%</th>\n",
       "      <td>6.800000</td>\n",
       "      <td>0.260000</td>\n",
       "      <td>0.320000</td>\n",
       "      <td>5.200000</td>\n",
       "      <td>0.043000</td>\n",
       "      <td>34.000000</td>\n",
       "      <td>134.000000</td>\n",
       "      <td>0.993740</td>\n",
       "      <td>3.180000</td>\n",
       "      <td>0.470000</td>\n",
       "      <td>10.400000</td>\n",
       "      <td>6.000000</td>\n",
       "    </tr>\n",
       "    <tr>\n",
       "      <th>75%</th>\n",
       "      <td>7.300000</td>\n",
       "      <td>0.320000</td>\n",
       "      <td>0.390000</td>\n",
       "      <td>9.900000</td>\n",
       "      <td>0.050000</td>\n",
       "      <td>46.000000</td>\n",
       "      <td>167.000000</td>\n",
       "      <td>0.996100</td>\n",
       "      <td>3.280000</td>\n",
       "      <td>0.550000</td>\n",
       "      <td>11.400000</td>\n",
       "      <td>6.000000</td>\n",
       "    </tr>\n",
       "    <tr>\n",
       "      <th>max</th>\n",
       "      <td>14.200000</td>\n",
       "      <td>1.100000</td>\n",
       "      <td>1.660000</td>\n",
       "      <td>65.800000</td>\n",
       "      <td>0.346000</td>\n",
       "      <td>289.000000</td>\n",
       "      <td>440.000000</td>\n",
       "      <td>1.038980</td>\n",
       "      <td>3.820000</td>\n",
       "      <td>1.080000</td>\n",
       "      <td>14.200000</td>\n",
       "      <td>9.000000</td>\n",
       "    </tr>\n",
       "  </tbody>\n",
       "</table>\n",
       "</div>"
      ],
      "text/plain": [
       "       fixed acidity  volatile acidity  citric acid  residual sugar  \\\n",
       "count    4898.000000       4898.000000  4898.000000     4898.000000   \n",
       "mean        6.854788          0.278241     0.334192        6.391415   \n",
       "std         0.843868          0.100795     0.121020        5.072058   \n",
       "min         3.800000          0.080000     0.000000        0.600000   \n",
       "25%         6.300000          0.210000     0.270000        1.700000   \n",
       "50%         6.800000          0.260000     0.320000        5.200000   \n",
       "75%         7.300000          0.320000     0.390000        9.900000   \n",
       "max        14.200000          1.100000     1.660000       65.800000   \n",
       "\n",
       "         chlorides  free sulfur dioxide  total sulfur dioxide      density  \\\n",
       "count  4898.000000          4898.000000           4898.000000  4898.000000   \n",
       "mean      0.045772            35.308085            138.360657     0.994027   \n",
       "std       0.021848            17.007137             42.498065     0.002991   \n",
       "min       0.009000             2.000000              9.000000     0.987110   \n",
       "25%       0.036000            23.000000            108.000000     0.991723   \n",
       "50%       0.043000            34.000000            134.000000     0.993740   \n",
       "75%       0.050000            46.000000            167.000000     0.996100   \n",
       "max       0.346000           289.000000            440.000000     1.038980   \n",
       "\n",
       "                pH    sulphates      alcohol      quality  \n",
       "count  4898.000000  4898.000000  4898.000000  4898.000000  \n",
       "mean      3.188267     0.489847    10.514267     5.877909  \n",
       "std       0.151001     0.114126     1.230621     0.885639  \n",
       "min       2.720000     0.220000     8.000000     3.000000  \n",
       "25%       3.090000     0.410000     9.500000     5.000000  \n",
       "50%       3.180000     0.470000    10.400000     6.000000  \n",
       "75%       3.280000     0.550000    11.400000     6.000000  \n",
       "max       3.820000     1.080000    14.200000     9.000000  "
      ]
     },
     "execution_count": 69,
     "metadata": {},
     "output_type": "execute_result"
    }
   ],
   "source": [
    "data2.describe()"
   ]
  },
  {
   "cell_type": "markdown",
   "id": "e6000eea",
   "metadata": {},
   "source": [
    "没发现明显的异常值，不需要进行处理。"
   ]
  },
  {
   "cell_type": "markdown",
   "id": "222c5989",
   "metadata": {},
   "source": [
    "## 四、数据分析"
   ]
  },
  {
   "cell_type": "markdown",
   "id": "bc6068a2",
   "metadata": {},
   "source": [
    "质量评分分析"
   ]
  },
  {
   "cell_type": "code",
   "execution_count": 6,
   "id": "dfab37b0",
   "metadata": {},
   "outputs": [],
   "source": [
    "# 设置数据类型为红葡萄酒\n",
    "data1['type'] = 1\n",
    "\n",
    "# 设置数据类型为白葡萄酒\n",
    "data2['type'] = 2\n",
    "\n",
    "# 合并两个df\n",
    "data = pd.concat([data1,data2], axis=0)\n",
    "\n",
    "# 自变量名称\n",
    "names = [\"fixed acidity\",\"volatile acidity\",\"citric acid\",\n",
    "         \"residual sugar\",\"chlorides\",\"free sulfur dioxide\",\n",
    "         \"total sulfur dioxide\",\"density\",\"pH\",\"sulphates\",\n",
    "         \"alcohol\", \"type\"]\n",
    "# 因变量名称\n",
    "quality = \"quality\""
   ]
  },
  {
   "cell_type": "code",
   "execution_count": 19,
   "id": "1ad7c092",
   "metadata": {},
   "outputs": [
    {
     "data": {
      "text/html": [
       "<div>\n",
       "<style scoped>\n",
       "    .dataframe tbody tr th:only-of-type {\n",
       "        vertical-align: middle;\n",
       "    }\n",
       "\n",
       "    .dataframe tbody tr th {\n",
       "        vertical-align: top;\n",
       "    }\n",
       "\n",
       "    .dataframe thead th {\n",
       "        text-align: right;\n",
       "    }\n",
       "</style>\n",
       "<table border=\"1\" class=\"dataframe\">\n",
       "  <thead>\n",
       "    <tr style=\"text-align: right;\">\n",
       "      <th></th>\n",
       "      <th>fixed acidity</th>\n",
       "      <th>volatile acidity</th>\n",
       "      <th>citric acid</th>\n",
       "      <th>residual sugar</th>\n",
       "      <th>chlorides</th>\n",
       "      <th>free sulfur dioxide</th>\n",
       "      <th>total sulfur dioxide</th>\n",
       "      <th>density</th>\n",
       "      <th>pH</th>\n",
       "      <th>sulphates</th>\n",
       "      <th>alcohol</th>\n",
       "      <th>quality</th>\n",
       "      <th>type</th>\n",
       "    </tr>\n",
       "  </thead>\n",
       "  <tbody>\n",
       "    <tr>\n",
       "      <th>0</th>\n",
       "      <td>7.4</td>\n",
       "      <td>0.70</td>\n",
       "      <td>0.00</td>\n",
       "      <td>1.9</td>\n",
       "      <td>0.076</td>\n",
       "      <td>11.0</td>\n",
       "      <td>34.0</td>\n",
       "      <td>0.99780</td>\n",
       "      <td>3.51</td>\n",
       "      <td>0.56</td>\n",
       "      <td>9.4</td>\n",
       "      <td>5</td>\n",
       "      <td>1</td>\n",
       "    </tr>\n",
       "    <tr>\n",
       "      <th>1</th>\n",
       "      <td>7.8</td>\n",
       "      <td>0.88</td>\n",
       "      <td>0.00</td>\n",
       "      <td>2.6</td>\n",
       "      <td>0.098</td>\n",
       "      <td>25.0</td>\n",
       "      <td>67.0</td>\n",
       "      <td>0.99680</td>\n",
       "      <td>3.20</td>\n",
       "      <td>0.68</td>\n",
       "      <td>9.8</td>\n",
       "      <td>5</td>\n",
       "      <td>1</td>\n",
       "    </tr>\n",
       "    <tr>\n",
       "      <th>2</th>\n",
       "      <td>7.8</td>\n",
       "      <td>0.76</td>\n",
       "      <td>0.04</td>\n",
       "      <td>2.3</td>\n",
       "      <td>0.092</td>\n",
       "      <td>15.0</td>\n",
       "      <td>54.0</td>\n",
       "      <td>0.99700</td>\n",
       "      <td>3.26</td>\n",
       "      <td>0.65</td>\n",
       "      <td>9.8</td>\n",
       "      <td>5</td>\n",
       "      <td>1</td>\n",
       "    </tr>\n",
       "    <tr>\n",
       "      <th>3</th>\n",
       "      <td>11.2</td>\n",
       "      <td>0.28</td>\n",
       "      <td>0.56</td>\n",
       "      <td>1.9</td>\n",
       "      <td>0.075</td>\n",
       "      <td>17.0</td>\n",
       "      <td>60.0</td>\n",
       "      <td>0.99800</td>\n",
       "      <td>3.16</td>\n",
       "      <td>0.58</td>\n",
       "      <td>9.8</td>\n",
       "      <td>6</td>\n",
       "      <td>1</td>\n",
       "    </tr>\n",
       "    <tr>\n",
       "      <th>4</th>\n",
       "      <td>7.4</td>\n",
       "      <td>0.70</td>\n",
       "      <td>0.00</td>\n",
       "      <td>1.9</td>\n",
       "      <td>0.076</td>\n",
       "      <td>11.0</td>\n",
       "      <td>34.0</td>\n",
       "      <td>0.99780</td>\n",
       "      <td>3.51</td>\n",
       "      <td>0.56</td>\n",
       "      <td>9.4</td>\n",
       "      <td>5</td>\n",
       "      <td>1</td>\n",
       "    </tr>\n",
       "    <tr>\n",
       "      <th>...</th>\n",
       "      <td>...</td>\n",
       "      <td>...</td>\n",
       "      <td>...</td>\n",
       "      <td>...</td>\n",
       "      <td>...</td>\n",
       "      <td>...</td>\n",
       "      <td>...</td>\n",
       "      <td>...</td>\n",
       "      <td>...</td>\n",
       "      <td>...</td>\n",
       "      <td>...</td>\n",
       "      <td>...</td>\n",
       "      <td>...</td>\n",
       "    </tr>\n",
       "    <tr>\n",
       "      <th>4893</th>\n",
       "      <td>6.2</td>\n",
       "      <td>0.21</td>\n",
       "      <td>0.29</td>\n",
       "      <td>1.6</td>\n",
       "      <td>0.039</td>\n",
       "      <td>24.0</td>\n",
       "      <td>92.0</td>\n",
       "      <td>0.99114</td>\n",
       "      <td>3.27</td>\n",
       "      <td>0.50</td>\n",
       "      <td>11.2</td>\n",
       "      <td>6</td>\n",
       "      <td>2</td>\n",
       "    </tr>\n",
       "    <tr>\n",
       "      <th>4894</th>\n",
       "      <td>6.6</td>\n",
       "      <td>0.32</td>\n",
       "      <td>0.36</td>\n",
       "      <td>8.0</td>\n",
       "      <td>0.047</td>\n",
       "      <td>57.0</td>\n",
       "      <td>168.0</td>\n",
       "      <td>0.99490</td>\n",
       "      <td>3.15</td>\n",
       "      <td>0.46</td>\n",
       "      <td>9.6</td>\n",
       "      <td>5</td>\n",
       "      <td>2</td>\n",
       "    </tr>\n",
       "    <tr>\n",
       "      <th>4895</th>\n",
       "      <td>6.5</td>\n",
       "      <td>0.24</td>\n",
       "      <td>0.19</td>\n",
       "      <td>1.2</td>\n",
       "      <td>0.041</td>\n",
       "      <td>30.0</td>\n",
       "      <td>111.0</td>\n",
       "      <td>0.99254</td>\n",
       "      <td>2.99</td>\n",
       "      <td>0.46</td>\n",
       "      <td>9.4</td>\n",
       "      <td>6</td>\n",
       "      <td>2</td>\n",
       "    </tr>\n",
       "    <tr>\n",
       "      <th>4896</th>\n",
       "      <td>5.5</td>\n",
       "      <td>0.29</td>\n",
       "      <td>0.30</td>\n",
       "      <td>1.1</td>\n",
       "      <td>0.022</td>\n",
       "      <td>20.0</td>\n",
       "      <td>110.0</td>\n",
       "      <td>0.98869</td>\n",
       "      <td>3.34</td>\n",
       "      <td>0.38</td>\n",
       "      <td>12.8</td>\n",
       "      <td>7</td>\n",
       "      <td>2</td>\n",
       "    </tr>\n",
       "    <tr>\n",
       "      <th>4897</th>\n",
       "      <td>6.0</td>\n",
       "      <td>0.21</td>\n",
       "      <td>0.38</td>\n",
       "      <td>0.8</td>\n",
       "      <td>0.020</td>\n",
       "      <td>22.0</td>\n",
       "      <td>98.0</td>\n",
       "      <td>0.98941</td>\n",
       "      <td>3.26</td>\n",
       "      <td>0.32</td>\n",
       "      <td>11.8</td>\n",
       "      <td>6</td>\n",
       "      <td>2</td>\n",
       "    </tr>\n",
       "  </tbody>\n",
       "</table>\n",
       "<p>6497 rows × 13 columns</p>\n",
       "</div>"
      ],
      "text/plain": [
       "      fixed acidity  volatile acidity  citric acid  residual sugar  chlorides  \\\n",
       "0               7.4              0.70         0.00             1.9      0.076   \n",
       "1               7.8              0.88         0.00             2.6      0.098   \n",
       "2               7.8              0.76         0.04             2.3      0.092   \n",
       "3              11.2              0.28         0.56             1.9      0.075   \n",
       "4               7.4              0.70         0.00             1.9      0.076   \n",
       "...             ...               ...          ...             ...        ...   \n",
       "4893            6.2              0.21         0.29             1.6      0.039   \n",
       "4894            6.6              0.32         0.36             8.0      0.047   \n",
       "4895            6.5              0.24         0.19             1.2      0.041   \n",
       "4896            5.5              0.29         0.30             1.1      0.022   \n",
       "4897            6.0              0.21         0.38             0.8      0.020   \n",
       "\n",
       "      free sulfur dioxide  total sulfur dioxide  density    pH  sulphates  \\\n",
       "0                    11.0                  34.0  0.99780  3.51       0.56   \n",
       "1                    25.0                  67.0  0.99680  3.20       0.68   \n",
       "2                    15.0                  54.0  0.99700  3.26       0.65   \n",
       "3                    17.0                  60.0  0.99800  3.16       0.58   \n",
       "4                    11.0                  34.0  0.99780  3.51       0.56   \n",
       "...                   ...                   ...      ...   ...        ...   \n",
       "4893                 24.0                  92.0  0.99114  3.27       0.50   \n",
       "4894                 57.0                 168.0  0.99490  3.15       0.46   \n",
       "4895                 30.0                 111.0  0.99254  2.99       0.46   \n",
       "4896                 20.0                 110.0  0.98869  3.34       0.38   \n",
       "4897                 22.0                  98.0  0.98941  3.26       0.32   \n",
       "\n",
       "      alcohol  quality  type  \n",
       "0         9.4        5     1  \n",
       "1         9.8        5     1  \n",
       "2         9.8        5     1  \n",
       "3         9.8        6     1  \n",
       "4         9.4        5     1  \n",
       "...       ...      ...   ...  \n",
       "4893     11.2        6     2  \n",
       "4894      9.6        5     2  \n",
       "4895      9.4        6     2  \n",
       "4896     12.8        7     2  \n",
       "4897     11.8        6     2  \n",
       "\n",
       "[6497 rows x 13 columns]"
      ]
     },
     "execution_count": 19,
     "metadata": {},
     "output_type": "execute_result"
    }
   ],
   "source": [
    "data"
   ]
  },
  {
   "cell_type": "markdown",
   "id": "415c1f60",
   "metadata": {},
   "source": [
    "质量评分的频数统计"
   ]
  },
  {
   "cell_type": "code",
   "execution_count": 87,
   "id": "aa20fd2c",
   "metadata": {},
   "outputs": [
    {
     "name": "stdout",
     "output_type": "stream",
     "text": [
      "[3, 4, 5, 6, 7, 8, 9]\n"
     ]
    }
   ],
   "source": [
    "#找出葡萄酒质量的评级\n",
    "print(sorted(data.quality.unique()))"
   ]
  },
  {
   "cell_type": "markdown",
   "id": "03f8c0e0",
   "metadata": {},
   "source": [
    "可以看出质量评分为3-9分"
   ]
  },
  {
   "cell_type": "code",
   "execution_count": 88,
   "id": "09c4edd2",
   "metadata": {},
   "outputs": [
    {
     "name": "stdout",
     "output_type": "stream",
     "text": [
      "6    2836\n",
      "5    2138\n",
      "7    1079\n",
      "4     216\n",
      "8     193\n",
      "3      30\n",
      "9       5\n",
      "Name: quality, dtype: int64\n"
     ]
    }
   ],
   "source": [
    "#对评级进行频数统计\n",
    "print(data.quality.value_counts())"
   ]
  },
  {
   "cell_type": "markdown",
   "id": "b86553cb",
   "metadata": {},
   "source": [
    "其中质量评分为6的数量是最多的，其次是评分为5， 质量评分为9的数量是最少的。"
   ]
  },
  {
   "cell_type": "markdown",
   "id": "b1a07781",
   "metadata": {},
   "source": [
    "质量评分的描述性统计"
   ]
  },
  {
   "cell_type": "code",
   "execution_count": 86,
   "id": "195b71b1",
   "metadata": {},
   "outputs": [
    {
     "name": "stdout",
     "output_type": "stream",
     "text": [
      "                type\n",
      "quality  count  1       1599.000000\n",
      "                2       4898.000000\n",
      "         mean   1          5.636023\n",
      "                2          5.877909\n",
      "         std    1          0.807569\n",
      "                2          0.885639\n",
      "         min    1          3.000000\n",
      "                2          3.000000\n",
      "         25%    1          5.000000\n",
      "                2          5.000000\n",
      "         50%    1          6.000000\n",
      "                2          6.000000\n",
      "         75%    1          6.000000\n",
      "                2          6.000000\n",
      "         max    1          8.000000\n",
      "                2          9.000000\n",
      "dtype: float64\n"
     ]
    }
   ],
   "source": [
    "# 按照葡萄酒类型显示质量的描述性统计量\n",
    "print(data.groupby('type')[['quality']].describe().unstack('type'))"
   ]
  },
  {
   "cell_type": "markdown",
   "id": "47e4d482",
   "metadata": {},
   "source": [
    "按葡萄酒的类型分组，分为两组,：红葡萄酒和白葡萄酒。分别打印出两组葡萄酒的质量的摘要统计量。\n",
    "\n",
    "可以看出红葡萄酒和白葡萄酒的数据量相差很大，但均值、最值等都相差不大。"
   ]
  },
  {
   "cell_type": "markdown",
   "id": "5af8e754",
   "metadata": {},
   "source": [
    "绘制质量评分的直方图"
   ]
  },
  {
   "cell_type": "code",
   "execution_count": 88,
   "id": "67f23fed",
   "metadata": {},
   "outputs": [
    {
     "name": "stdout",
     "output_type": "stream",
     "text": [
      "     quality     \n",
      "type       1    2\n",
      "0.25     5.0  5.0\n",
      "0.75     6.0  6.0\n"
     ]
    }
   ],
   "source": [
    "\n",
    "# 按照葡萄酒类型显示质量的特定分位数值\n",
    "print(data.groupby('type')[['quality']].quantile([0.25, 0.75]).unstack('type'))\n"
   ]
  },
  {
   "cell_type": "code",
   "execution_count": 91,
   "id": "d2243ae2",
   "metadata": {},
   "outputs": [
    {
     "name": "stdout",
     "output_type": "stream",
     "text": [
      "AxesSubplot(0.125,0.125;0.775x0.755)\n",
      "AxesSubplot(0.125,0.125;0.775x0.755)\n"
     ]
    },
    {
     "data": {
      "image/png": "[encoded data removed]",
      "text/plain": [
       "<Figure size 432x288 with 1 Axes>"
      ]
     },
     "metadata": {},
     "output_type": "display_data"
    }
   ],
   "source": [
    "# 按照葡萄酒类型查看质量分布\n",
    "red_wine = data.loc[data['type'] == 'red', 'quality']\n",
    "white_wine = data.loc[data['type'] == 'white', 'quality']\n",
    "sns.set_style(\"dark\")\n",
    "print(sns.distplot(red_wine, norm_hist=True, kde=False, color=\"red\", label=\"Red wine\"))\n",
    "print(sns.distplot(white_wine, norm_hist=True, kde=False, color=\"blue\", label=\"White wine\"))\n",
    "sns.utils.axlabel(\"Quality Score\", \"Density\")\n",
    "plt.title(\"Distribution of Quality by Wine Type\")\n",
    "plt.legend()\n",
    "plt.show()"
   ]
  },
  {
   "cell_type": "code",
   "execution_count": 109,
   "id": "3eb8393e",
   "metadata": {},
   "outputs": [
    {
     "name": "stdout",
     "output_type": "stream",
     "text": [
      "        quality\n",
      "            std\n",
      "type           \n",
      "red    0.807569\n",
      "white  0.885639\n",
      "tstat: -9.686 pvalue: 0.0000\n"
     ]
    }
   ],
   "source": [
    "# 检验红葡萄酒和白葡萄酒的平均质量是否有所不同\n",
    "print(data.groupby(['type'])[['quality']].agg(['std']))\n",
    "tstat, pvalue, df = sm.stats.ttest_ind(red_wine, white_wine)\n",
    "print('tstat: %.3f pvalue: %.4f' % (tstat, pvalue))"
   ]
  },
  {
   "cell_type": "markdown",
   "id": "9c4bd1cb",
   "metadata": {},
   "source": [
    "由绘制的密度分布直方图和输出结果可以得出结论：两种葡萄酒的评分都近似正态分布；t检验统计量为-9.686，p值为0.000，这说明白葡萄酒的平均质量评分在统计意义上大于红葡萄酒的平均质量评分（从检验的结果来看，p值<0.05，红白两种葡萄酒质量有显著性差异，并且从均值上来看白葡萄酒的平均质量等级在统计意义上大于红葡萄酒的平均质量等级。）"
   ]
  },
  {
   "cell_type": "code",
   "execution_count": 188,
   "id": "c406752c",
   "metadata": {},
   "outputs": [
    {
     "data": {
      "text/plain": [
       "count    6497.000000\n",
       "mean        3.218501\n",
       "std         0.160787\n",
       "min         2.720000\n",
       "25%         3.110000\n",
       "50%         3.210000\n",
       "75%         3.320000\n",
       "max         4.010000\n",
       "Name: pH, dtype: float64"
      ]
     },
     "execution_count": 188,
     "metadata": {},
     "output_type": "execute_result"
    }
   ],
   "source": [
    "data.describe().pH"
   ]
  },
  {
   "cell_type": "code",
   "execution_count": 40,
   "id": "9e02b5e6",
   "metadata": {},
   "outputs": [
    {
     "data": {
      "text/plain": [
       "10.3"
      ]
     },
     "execution_count": 40,
     "metadata": {},
     "output_type": "execute_result"
    }
   ],
   "source": [
    "#分析酒精含量高的酒是否评分较高\n",
    "data.median().alcohol"
   ]
  },
  {
   "cell_type": "code",
   "execution_count": 42,
   "id": "a1284153",
   "metadata": {},
   "outputs": [],
   "source": [
    "low_alcohol= data.query('alcohol<10.3')\n",
    "high_alcohol= data.query('alcohol>=10.3')\n",
    "num_samples = data.shape[0]\n",
    "num_samples =low_alcohol['quality'].count()+high_alcohol['quality'].count()"
   ]
  },
  {
   "cell_type": "code",
   "execution_count": 43,
   "id": "dd17c780",
   "metadata": {},
   "outputs": [
    {
     "data": {
      "text/plain": [
       "(6.146084337349397, 5.475920679886686)"
      ]
     },
     "execution_count": 43,
     "metadata": {},
     "output_type": "execute_result"
    }
   ],
   "source": [
    "high_alcohol.mean().quality,low_alcohol.mean().quality,"
   ]
  },
  {
   "cell_type": "code",
   "execution_count": 80,
   "id": "b8b480b1",
   "metadata": {},
   "outputs": [],
   "source": [
    "median=data['alcohol'].median()\n",
    "low=data.query('alcohol<={}'.format(median))\n",
    "high=data.query('alcohol>={}'.format(median))\n",
    "\n",
    "mean_quality_low=low['quality'].mean()\n",
    "mean_quality_high=high['quality'].mean()"
   ]
  },
  {
   "cell_type": "code",
   "execution_count": 82,
   "id": "1553b180",
   "metadata": {},
   "outputs": [
    {
     "data": {
      "text/plain": [
       "Text(0, 0.5, 'Average Quality Ratings')"
      ]
     },
     "execution_count": 82,
     "metadata": {},
     "output_type": "execute_result"
    },
    {
     "data": {
      "image/png": "[encoded data removed]",
      "text/plain": [
       "<Figure size 432x288 with 1 Axes>"
      ]
     },
     "metadata": {
      "needs_background": "light"
     },
     "output_type": "display_data"
    }
   ],
   "source": [
    "locations=[1,2]\n",
    "heights=[mean_quality_low,mean_quality_high]\n",
    "labels=['Low','High']\n",
    "plt.bar(locations,heights,tick_label=labels)\n",
    "plt.title('Average Quality Ratings by Alcohol Content')\n",
    "plt.xlabel('Alcohol Content')\n",
    "plt.ylabel('Average Quality Ratings')"
   ]
  },
  {
   "cell_type": "markdown",
   "id": "a9d2374d",
   "metadata": {},
   "source": [
    "上边的柱状图，左边表示酒精含量低的酒样本，另一个边酒精含量高的酒样本。\n",
    "\n",
    "可以看到，酒精含量高的酒评分较高"
   ]
  },
  {
   "cell_type": "code",
   "execution_count": 108,
   "id": "89438ea7",
   "metadata": {},
   "outputs": [
    {
     "data": {
      "text/plain": [
       "sulphates\n",
       "0.22    7.000000\n",
       "0.23    6.000000\n",
       "0.25    6.250000\n",
       "0.26    7.250000\n",
       "0.27    6.461538\n",
       "          ...   \n",
       "1.61    6.000000\n",
       "1.62    5.000000\n",
       "1.95    6.000000\n",
       "1.98    5.000000\n",
       "2.00    4.000000\n",
       "Name: quality, Length: 111, dtype: float64"
      ]
     },
     "execution_count": 108,
     "metadata": {},
     "output_type": "execute_result"
    }
   ],
   "source": [
    "data['quality']\n",
    "data.groupby('sulphates').mean().quality"
   ]
  },
  {
   "cell_type": "code",
   "execution_count": 185,
   "id": "fb7eb1fb",
   "metadata": {},
   "outputs": [
    {
     "data": {
      "text/plain": [
       "type\n",
       "1    5.636023\n",
       "2    5.877909\n",
       "Name: quality, dtype: float64"
      ]
     },
     "execution_count": 185,
     "metadata": {},
     "output_type": "execute_result"
    }
   ],
   "source": [
    "data.groupby('type').mean().quality"
   ]
  },
  {
   "cell_type": "markdown",
   "id": "b6101687",
   "metadata": {},
   "source": [
    "白葡萄酒的平均质量较红葡萄酒的高。"
   ]
  },
  {
   "cell_type": "markdown",
   "id": "2d7bb9c9",
   "metadata": {},
   "source": [
    "## 五、算法建模及预测"
   ]
  },
  {
   "cell_type": "markdown",
   "id": "45940735",
   "metadata": {},
   "source": [
    "### 5.1 化学成分间的相关性分析"
   ]
  },
  {
   "cell_type": "code",
   "execution_count": 133,
   "id": "e7c9f8b8",
   "metadata": {},
   "outputs": [
    {
     "name": "stdout",
     "output_type": "stream",
     "text": [
      "                      fixed acidity  volatile acidity  citric acid  \\\n",
      "fixed acidity              1.000000          0.219008     0.324436   \n",
      "volatile acidity           0.219008          1.000000    -0.377981   \n",
      "citric acid                0.324436         -0.377981     1.000000   \n",
      "residual sugar            -0.111981         -0.196011     0.142451   \n",
      "chlorides                  0.298195          0.377124     0.038998   \n",
      "free sulfur dioxide       -0.282735         -0.352557     0.133126   \n",
      "total sulfur dioxide      -0.329054         -0.414476     0.195242   \n",
      "density                    0.458910          0.271296     0.096154   \n",
      "pH                        -0.252700          0.261454    -0.329808   \n",
      "sulphates                  0.299568          0.225984     0.056197   \n",
      "alcohol                   -0.095452         -0.037640    -0.010493   \n",
      "quality                   -0.076743         -0.265699     0.085532   \n",
      "in_sample                  0.085416          0.105723    -0.003296   \n",
      "\n",
      "                      residual sugar  chlorides  free sulfur dioxide  \\\n",
      "fixed acidity              -0.111981   0.298195            -0.282735   \n",
      "volatile acidity           -0.196011   0.377124            -0.352557   \n",
      "citric acid                 0.142451   0.038998             0.133126   \n",
      "residual sugar              1.000000  -0.128940             0.402871   \n",
      "chlorides                  -0.128940   1.000000            -0.195045   \n",
      "free sulfur dioxide         0.402871  -0.195045             1.000000   \n",
      "total sulfur dioxide        0.495482  -0.279630             0.720934   \n",
      "density                     0.552517   0.362615             0.025717   \n",
      "pH                         -0.267320   0.044708            -0.145854   \n",
      "sulphates                  -0.185927   0.395593            -0.188457   \n",
      "alcohol                    -0.359415  -0.256916            -0.179838   \n",
      "quality                    -0.036980  -0.200666             0.055463   \n",
      "in_sample                  -0.031172   0.052150            -0.050437   \n",
      "\n",
      "                      total sulfur dioxide   density        pH  sulphates  \\\n",
      "fixed acidity                    -0.329054  0.458910 -0.252700   0.299568   \n",
      "volatile acidity                 -0.414476  0.271296  0.261454   0.225984   \n",
      "citric acid                       0.195242  0.096154 -0.329808   0.056197   \n",
      "residual sugar                    0.495482  0.552517 -0.267320  -0.185927   \n",
      "chlorides                        -0.279630  0.362615  0.044708   0.395593   \n",
      "free sulfur dioxide               0.720934  0.025717 -0.145854  -0.188457   \n",
      "total sulfur dioxide              1.000000  0.032395 -0.238413  -0.275727   \n",
      "density                           0.032395  1.000000  0.011686   0.259478   \n",
      "pH                               -0.238413  0.011686  1.000000   0.192123   \n",
      "sulphates                        -0.275727  0.259478  0.192123   1.000000   \n",
      "alcohol                          -0.265740 -0.686745  0.121248  -0.003029   \n",
      "quality                          -0.041385 -0.305858  0.019506   0.038485   \n",
      "in_sample                        -0.069363  0.075199  0.046335   0.036798   \n",
      "\n",
      "                       alcohol   quality  in_sample  \n",
      "fixed acidity        -0.095452 -0.076743   0.085416  \n",
      "volatile acidity     -0.037640 -0.265699   0.105723  \n",
      "citric acid          -0.010493  0.085532  -0.003296  \n",
      "residual sugar       -0.359415 -0.036980  -0.031172  \n",
      "chlorides            -0.256916 -0.200666   0.052150  \n",
      "free sulfur dioxide  -0.179838  0.055463  -0.050437  \n",
      "total sulfur dioxide -0.265740 -0.041385  -0.069363  \n",
      "density              -0.686745 -0.305858   0.075199  \n",
      "pH                    0.121248  0.019506   0.046335  \n",
      "sulphates            -0.003029  0.038485   0.036798  \n",
      "alcohol               1.000000  0.444319  -0.029370  \n",
      "quality               0.444319  1.000000  -0.023001  \n",
      "in_sample            -0.029370 -0.023001   1.000000  \n"
     ]
    }
   ],
   "source": [
    "\n",
    "# 计算所有变量的相关矩阵\n",
    "print(data.corr())\n"
   ]
  },
  {
   "cell_type": "markdown",
   "id": "65f7727f",
   "metadata": {},
   "source": [
    "从各变量的相关系数来看酒精含量、硫酸酯、pH 值、游离二氧化硫和柠檬酸这些指标与质量呈现正相关，即当这些指标的含量增加时，葡萄酒的质量会提高；非挥发性酸、挥发性酸、残余糖分、氯化物、总二氧化硫和密度这些指标与质量呈负相关即当这些指标的含量增加时，葡萄酒的质量会降低。从相关系数可以看出，对葡萄酒质量影响最大的是葡萄酒是酒精含量，其相关系数为0.444，其次是酒的密度，但酒的密度对酒的质量是负影响的。"
   ]
  },
  {
   "cell_type": "code",
   "execution_count": 7,
   "id": "0b53c7f9",
   "metadata": {},
   "outputs": [],
   "source": [
    "import numpy as np\n",
    "import matplotlib as mpl\n",
    "import matplotlib.pyplot as plt\n",
    "import pandas as pd\n",
    "import warnings\n",
    "import sklearn\n",
    "from sklearn.linear_model import LinearRegression, LassoCV, RidgeCV, ElasticNetCV\n",
    "from sklearn.preprocessing import PolynomialFeatures\n",
    "from sklearn.pipeline import Pipeline\n",
    "import joblib\n",
    "from sklearn.model_selection import train_test_split\n",
    "\n",
    "from sklearn.linear_model import LogisticRegressionCV\n",
    "from sklearn.preprocessing import StandardScaler\n",
    "from sklearn.preprocessing import MinMaxScaler\n",
    "from sklearn.preprocessing import label_binarize\n",
    "from sklearn import metrics\n"
   ]
  },
  {
   "cell_type": "markdown",
   "id": "ea2961e9",
   "metadata": {},
   "source": [
    "### 5.2 利用线性回归算法建模对葡萄酒质量进行预测"
   ]
  },
  {
   "cell_type": "code",
   "execution_count": 32,
   "id": "ec1bf5e0",
   "metadata": {
    "scrolled": false
   },
   "outputs": [],
   "source": [
    "X = data[names]\n",
    "Y = data[quality]\n",
    "Y.ravel()\n",
    "\n",
    "# 创建模型列表\n",
    "models = [\n",
    "    Pipeline([\n",
    "            ('Poly', PolynomialFeatures()),\n",
    "            ('Linear', LinearRegression())\n",
    "        ])\n",
    "   \n",
    "]\n"
   ]
  },
  {
   "cell_type": "code",
   "execution_count": 33,
   "id": "4ab85def",
   "metadata": {},
   "outputs": [
    {
     "name": "stdout",
     "output_type": "stream",
     "text": [
      "线:1阶, 截距:104, 系数: [ 0.00000000e+00  8.50118207e-02 -1.48620723e+00 -6.90416760e-02\n",
      "  6.23516751e-02 -7.18643184e-01  4.99059722e-03 -1.45047299e-03\n",
      " -1.03460590e+02  4.97432666e-01  7.21153860e-01  2.23033948e-01\n",
      " -3.51639435e-01]\n",
      "线:2阶, 截距:-926, 系数: [-1.53328487e-05 -2.75607377e+01  1.01172114e+02  2.48363269e+02\n",
      " -1.75937002e+01 -1.15256738e+03 -2.47657152e+00  9.08814008e-01\n",
      "  1.51673134e+03  1.22648432e+02  5.79953111e+01  2.03593912e+01\n",
      "  1.55559062e+01 -4.34318334e-02  3.31320951e-02  4.24739822e-01\n",
      " -2.31878257e-02 -2.40247894e+00 -7.35719394e-05  3.64009508e-04\n",
      "  2.78865437e+01  9.27783430e-02  2.07233708e-01  1.34480741e-02\n",
      "  5.45491073e-02  4.37670831e-01  8.75879631e-01 -3.84236402e-02\n",
      "  1.10461091e+00  5.84956240e-03  7.21047495e-03 -1.09383486e+02\n",
      "  9.44208782e-01  3.90477721e-01  3.15802918e-01 -1.20298473e+00\n",
      " -1.04158882e+00  6.70367332e-02  6.55542659e+00  8.39269381e-03\n",
      " -5.18668354e-04 -2.58961482e+02  1.54314156e+00 -5.12297706e-01\n",
      " -1.24440988e-02  6.56758030e-01 -9.27579236e-03 -7.03015116e-01\n",
      " -1.25513327e-03  4.65842222e-04  1.81198483e+01 -1.08537741e-01\n",
      " -3.66585112e-02  2.16120574e-02  4.69032667e-02 -2.31108720e+00\n",
      "  1.49182714e-02 -7.46693048e-03  1.21811525e+03 -1.24265463e+01\n",
      " -7.53912686e+00  3.92300645e-01 -1.13177034e+00 -3.19031391e-05\n",
      " -5.86222546e-05  2.40094396e+00  6.30150530e-04  1.89615905e-02\n",
      "  5.37917156e-03  2.10012382e-02 -6.89988370e-06 -9.08912220e-01\n",
      "  1.05037821e-03 -9.69835879e-03 -1.13384420e-03  2.40395111e-03\n",
      " -4.78308117e+02 -1.28808838e+02 -6.30269221e+01 -1.99209738e+01\n",
      " -1.60907718e+02  4.40496920e-01  1.89402740e+00 -1.15039666e-01\n",
      "  1.70815068e+00 -1.66631850e-01 -7.42199565e-02  4.14385956e-02\n",
      "  1.04345995e-03 -2.31362095e-01  4.66672325e+01]\n",
      "线:3阶, 截距:207604, 系数: [ 8.69559465e+01 -2.27141488e+04 -2.83393763e+04  3.06753206e+05\n",
      " -6.06000983e+03 -1.55780602e+06 -2.55592498e+02  3.68404301e+02\n",
      " -2.06528816e+05 -7.91591769e+04  7.89565251e+04  8.83712904e+03\n",
      " -6.52100750e+02 -1.17352808e+01  9.00302603e+00  4.66303583e+02\n",
      " -3.05760922e+01 -5.20481219e+03  2.79193984e+00 -1.95458647e+00\n",
      "  3.50311430e+04 -2.40413238e+02  5.70356052e+02  7.94774905e+01\n",
      "  7.97531603e+03  1.56235763e+03  1.67635742e+03 -5.92369844e+01\n",
      " -7.28523621e+03  1.10872504e+01 -8.04313495e+00  7.73240885e+04\n",
      "  1.49827762e+03  5.53945037e+02 -3.57788836e+02 -1.72025201e+04\n",
      "  2.77612573e+03  2.57719158e+02  9.38114993e+03 -3.12593626e+00\n",
      "  1.03431194e+01 -8.73161100e+05  3.70802095e+03 -8.32348407e+01\n",
      " -1.04593713e+03  1.84821290e+05 -8.89601025e+00 -1.42995427e+03\n",
      "  6.46234803e-01  8.68781787e-02  1.74933098e+04 -2.01975493e+02\n",
      "  2.52081148e+00  3.56861641e+01 -3.55318757e+03 -4.91452211e+02\n",
      "  4.94974626e+01  3.53795270e+01  4.50526419e+06 -3.52330909e+04\n",
      " -1.64288226e+04  4.19831198e+03 -9.35714919e+05 -5.62681855e-02\n",
      "  1.56141626e-02 -2.43281386e+02  1.42073825e+01  2.52847963e+01\n",
      " -2.70362640e+00  5.13262457e+02  1.81897888e-02 -1.94714139e+02\n",
      " -3.08622667e+00 -7.12257614e+00  1.67449068e+00 -4.01411291e+02\n",
      " -5.35901822e+04  2.26288863e+05 -2.27944535e+05 -2.51907325e+04\n",
      " -1.14330390e+05 -6.57288800e+02  1.45000945e+03  2.61654312e+02\n",
      " -4.77825031e+04  9.90169775e+02 -3.48454075e+02  4.73473926e+04\n",
      " -3.95655854e+01  5.31292009e+03 -2.52049598e+03 -7.43665863e-03\n",
      "  1.44354864e-01  3.87488599e-01 -1.16636885e-02 -3.57105499e+00\n",
      "  2.95258315e-03 -2.34770503e-03  1.15138428e+01 -9.04438836e-02\n",
      "  4.64273053e-01  3.51640669e-02  1.65358062e-01  2.33352802e+00\n",
      "  1.85078503e-01 -2.82805116e-02 -1.08680133e+00  7.36897688e-03\n",
      " -1.24681821e-02 -2.19969418e+01  2.22634671e+00  1.89622656e+00\n",
      " -2.45602225e-01  2.46302402e+00  2.64822889e-01  1.63542303e-01\n",
      "  9.85194370e+00  1.83147896e-03  5.95295128e-03 -4.82235504e+02\n",
      "  3.07312952e+00  8.97754815e-01 -4.94792924e-01  1.54312000e-01\n",
      " -1.18197919e-02 -2.39793128e+00  1.63720758e-03 -7.61039642e-04\n",
      "  3.08923007e+01 -1.33111126e-01  1.17107655e-01  4.05056875e-02\n",
      "  1.00634430e-01 -5.27271197e+00 -1.93164036e-02  4.17498300e-02\n",
      "  5.39043938e+03 -4.54047073e+01 -1.15914576e+01  5.11688017e+00\n",
      " -2.58748904e+00 -1.45205442e-04  3.05699068e-05 -2.96472916e+00\n",
      "  4.71876418e-02  2.56905385e-02 -7.49697118e-03  1.27288545e-02\n",
      "  1.31809502e-05  2.04245059e+00 -2.46459887e-02 -5.09168887e-03\n",
      "  5.04777897e-03 -7.65071326e-03 -1.74473637e+04  2.38612735e+02\n",
      " -5.84539358e+02 -7.95403266e+01 -2.67635751e+02 -6.51491356e-01\n",
      "  3.03186944e+00  5.05762538e-01  2.39856469e+00  3.06808115e-02\n",
      " -5.68846876e-01 -3.27874918e-01 -7.75826732e-02 -6.21948109e-01\n",
      " -2.57114417e+03 -6.54903630e+00 -7.75499495e+00  1.07926907e+00\n",
      "  4.61301232e+01 -9.50272608e-02  1.12024548e-02 -1.54218606e+03\n",
      "  8.87057198e-01 -1.48703351e+01 -2.40014583e+00 -4.77313255e+00\n",
      "  1.19071689e-01  8.28227861e-01  2.25721190e+00  1.12592620e-01\n",
      " -4.85060395e-02 -1.62673698e+03  1.67612436e+00 -2.14055261e+01\n",
      " -3.16843076e+00 -8.68860818e+00 -4.40868254e-03 -4.98583850e+00\n",
      "  9.74661665e-03 -4.25909084e-03  5.46128989e+01  8.64827878e-01\n",
      "  8.57197699e-01 -6.01415404e-02  1.03408237e+00 -1.05586186e+02\n",
      "  8.53416908e-01 -4.38580290e-01  7.15021386e+03 -1.55065726e+01\n",
      "  9.66960827e+01  6.44508703e+00  7.62105194e+01 -1.27803779e-03\n",
      "  1.82324424e-04 -1.17231688e+01  1.86192679e-01 -2.09590567e-01\n",
      "  7.12169437e-03 -1.72233523e-02 -6.02416549e-07  8.51356136e+00\n",
      " -1.11826794e-01  6.54369802e-02  6.78273488e-03 -1.88428730e-02\n",
      " -3.63247554e+04 -1.59722296e+03 -5.88370549e+02  3.70608991e+02\n",
      " -1.56878708e+03  1.55517784e+01  1.25330659e+01 -4.29849041e+00\n",
      "  9.33556226e+00 -4.54679380e+00 -6.04315904e-01 -3.14918969e+00\n",
      "  4.48236152e-01 -9.40658548e-01  6.24223461e+03  4.33037125e+00\n",
      "  7.74995615e-01 -9.80907411e+00  5.87119055e-05  1.50288355e-02\n",
      " -2.73890269e+03 -7.52401894e-01 -2.60800388e+00 -3.32719842e+00\n",
      " -1.53202791e+01  3.59174227e-02  2.95610685e+00 -4.68274220e-03\n",
      "  4.91493783e-03 -2.63327026e+02  1.39302863e+00  2.80381124e-01\n",
      " -2.82332606e-01 -2.16263395e-01  1.82721604e+01 -4.50113142e-02\n",
      "  1.13447234e-01 -9.81255535e+03  1.02883949e+02  3.95951961e+01\n",
      " -5.86936362e+00  2.38211586e+00  2.08552597e-04  2.14701514e-04\n",
      "  3.14721447e+00 -1.66209277e-02 -5.32295467e-02  2.68955279e-03\n",
      " -6.88833987e-03 -8.21373178e-05 -1.05209586e+01  6.24342608e-02\n",
      "  5.24739203e-02 -1.16355344e-02 -2.20581830e-02  4.41817307e+05\n",
      " -3.78443812e+03  6.87133077e+01  1.06400509e+03  2.25837332e+03\n",
      "  1.09886543e+01  7.21711560e+00 -5.13479115e+00 -3.35907469e+00\n",
      "  2.98655771e+00 -1.01321118e+00 -3.97983673e+00  5.09329846e-01\n",
      "  2.26589316e+00 -6.23543906e+04 -2.31196750e-03 -2.67090846e-01\n",
      "  2.49192755e-04  8.30681529e-07  9.09825038e+00 -6.66674382e-02\n",
      " -1.71764095e-02  1.24266033e-02  2.97868304e-02  1.49487121e+00\n",
      " -1.97764986e-02  3.59613712e-02  1.51189628e+03 -1.67796887e+01\n",
      " -1.09975786e+01  1.68049688e+00 -8.58616747e+00 -1.62616343e-05\n",
      "  4.33373498e-06 -6.81682658e-01  9.35564810e-03  1.36636584e-02\n",
      " -1.99889952e-03 -1.15034092e-04  9.23150219e-06 -7.72694750e-02\n",
      " -2.27866897e-03 -5.34828166e-03  8.64647562e-04 -4.43287865e-03\n",
      " -9.04327388e+03  2.03394656e+02 -4.19403066e+00 -3.58757748e+01\n",
      " -3.86515717e+01 -4.48149512e-01  4.86611734e-01  2.20352922e-01\n",
      "  9.52365214e-01  1.97700143e-01 -1.30099411e-01  5.37934415e-01\n",
      " -3.16233859e-02 -2.19356750e-01  1.19675620e+03 -1.66156999e+01\n",
      " -1.49373555e+00  1.04830777e-01  8.98249650e+02  6.99174102e+01\n",
      " -6.42716283e+01 -4.52429120e+01 -1.28058233e+01  4.03962231e-03\n",
      "  6.04735280e-04 -5.08778374e+01 -2.82791938e-02  1.46942270e+00\n",
      " -5.44451962e-02  3.82655240e-01 -4.28978176e-04 -3.51593145e+01\n",
      "  2.47605044e-01 -1.68327205e-01 -9.95271313e-02 -2.00405896e-01\n",
      " -2.32944684e+06  3.61195625e+04  1.66663296e+04 -4.32942675e+03\n",
      "  5.81326218e+03 -1.08228380e+02 -1.18329939e+02  3.73312486e+01\n",
      " -5.87163326e-01 -5.58849623e+00  2.41339482e+01  2.74299542e+01\n",
      " -3.00339357e+00  6.98255390e+00  3.09955365e+05 -4.88944352e-07\n",
      "  5.77303581e-07  5.95026697e-02 -6.01128457e-04  2.45499577e-05\n",
      "  3.79047706e-05 -1.70381991e-04  7.99132977e-07 -1.64564785e-02\n",
      " -1.15533017e-04 -3.26403246e-04  6.88529690e-05 -8.41303045e-05\n",
      "  1.69649588e+02 -1.55446394e+01 -2.56452825e+01  2.84864336e+00\n",
      " -1.54471635e+01  1.42145488e-01  2.35929290e-02 -2.72940847e-02\n",
      "  1.22975118e-01  1.51201685e-02 -1.07577166e-02  1.94860937e-02\n",
      "  1.81233977e-03 -8.51928254e-03 -1.66095129e+02 -1.21690391e-07\n",
      " -1.82363436e-02  1.60750576e-04  1.40228603e-04 -6.00828134e-05\n",
      " -5.36848675e-05  8.43877066e+01  3.57093085e+00  7.18252553e+00\n",
      " -1.75006077e+00  1.29050075e+01 -4.41847743e-02 -3.96392479e-02\n",
      "  1.69259535e-02 -9.95573671e-02  1.45980614e-03  9.69081134e-03\n",
      "  1.67126920e-03 -1.96363141e-03  1.45592321e-02  1.29619840e+02\n",
      "  1.52702599e+05 -1.14369479e+05  1.17905415e+05  1.26284909e+04\n",
      " -4.72049372e+04  6.65807385e+02 -1.49202684e+03 -2.64178046e+02\n",
      " -1.35408645e+03 -9.99307678e+02  3.59235809e+02 -5.82203579e+02\n",
      "  4.03229314e+01  2.63311445e+02  7.03280405e+04 -3.14427448e+00\n",
      "  4.76886405e+00  1.24736711e+00  8.51664477e+00  3.11982799e+00\n",
      " -2.13195862e+00  2.38711672e+00 -2.64881879e-01 -2.81012684e+00\n",
      "  1.63620040e+04  3.20018504e+00 -1.37331813e+00  7.67485838e-02\n",
      "  2.22521994e-01 -1.11923975e+00 -1.55880788e+04  1.03568744e-02\n",
      "  3.40481495e-01 -1.85629050e+03 -5.88105568e+03]\n"
     ]
    },
    {
     "data": {
      "image/png": "[encoded data removed]",
      "text/plain": [
       "<Figure size 1152x576 with 1 Axes>"
      ]
     },
     "metadata": {},
     "output_type": "display_data"
    }
   ],
   "source": [
    "plt.figure(figsize=(16,8), facecolor='w')\n",
    "titles = u'线性回归预测'\n",
    "\n",
    "# 将数据分为训练数据和测试数据\n",
    "X_train,X_test,Y_train,Y_test = train_test_split(X, Y, test_size=0.01, random_state=0)\n",
    "ln_x_test = range(len(X_test))\n",
    "\n",
    "# 给定阶以及颜色\n",
    "d_pool = np.arange(1,4,1) # 1 2 3 阶\n",
    "m = len(d_pool)\n",
    "# 颜色\n",
    "clrs = []\n",
    "for c in np.linspace(5570560, 255, m):\n",
    "    clrs.append('#%06x' % int(c))\n",
    "\n",
    "for t in range(1):\n",
    "    plt.subplot(2, 2, t + 1)\n",
    "    model = models[t]\n",
    "    plt.plot(ln_x_test, Y_test, c='r', lw=2, alpha=0.75, zorder=10, label=u'真实值')\n",
    "    for i,d in enumerate(d_pool):\n",
    "        # 设置参数\n",
    "        model.set_params(Poly__degree=d)\n",
    "        # 模型训练\n",
    "        model.fit(X_train, Y_train)\n",
    "        # 模型预测及计算R^2\n",
    "        Y_pre = model.predict(X_test)\n",
    "        R = model.score(X_train, Y_train)\n",
    "        # 输出信息\n",
    "        lin = model.get_params('Linear')['Linear']\n",
    "        output = u\"%s:%d阶, 截距:%d, 系数:\" % (titles[t], d, lin.intercept_)\n",
    "        print(output, lin.coef_)\n",
    "        # 图形展示\n",
    "        plt.plot(ln_x_test, Y_pre, c=clrs[i], lw=2,alpha=0.75, zorder=i, label=u'%d阶预测值,$R^2$=%.3f' % (d,R))\n",
    "    plt.legend(loc = 'upper left')\n",
    "    plt.grid(True)\n",
    "    #plt.title(titles[t], fontsize=18)\n",
    "    plt.xlabel('X', fontsize=16)\n",
    "    plt.ylabel('Y', fontsize=16)\n",
    "plt.suptitle(u'葡萄酒质量预测', fontsize=20)\n",
    "plt.show()"
   ]
  },
  {
   "cell_type": "markdown",
   "id": "a20f1f33",
   "metadata": {},
   "source": [
    "### 5.3 用Softmax分类算法预测葡萄酒质量"
   ]
  },
  {
   "cell_type": "code",
   "execution_count": 9,
   "id": "9d06ed3a",
   "metadata": {},
   "outputs": [
    {
     "name": "stdout",
     "output_type": "stream",
     "text": [
      "训练数据条数:4872；数据特征个数:12；测试数据条数:1625\n"
     ]
    }
   ],
   "source": [
    "# 1. 数据分割\n",
    "X_train,X_test,Y_train,Y_test = train_test_split(X,Y,test_size=0.25,random_state=0)\n",
    "\n",
    "print (\"训练数据条数:%d；数据特征个数:%d；测试数据条数:%d\" % (X_train.shape[0], X_train.shape[1], X_test.shape[0]))\n"
   ]
  },
  {
   "cell_type": "code",
   "execution_count": 10,
   "id": "2c501bff",
   "metadata": {},
   "outputs": [
    {
     "data": {
      "text/plain": [
       "6    2132\n",
       "5    1606\n",
       "7     805\n",
       "4     161\n",
       "8     146\n",
       "3      20\n",
       "9       2\n",
       "Name: quality, dtype: int64"
      ]
     },
     "execution_count": 10,
     "metadata": {},
     "output_type": "execute_result"
    }
   ],
   "source": [
    "# 2. 数据归一化\n",
    "ss = MinMaxScaler()\n",
    "X_train = ss.fit_transform(X_train)\n",
    "# 查看y值的范围和数据\n",
    "Y_train.value_counts()\n"
   ]
  },
  {
   "cell_type": "code",
   "execution_count": 47,
   "id": "49fa05ea",
   "metadata": {},
   "outputs": [
    {
     "data": {
      "text/plain": [
       "[0, 0, 0, 30, 216, 2138, 2836, 1079, 193, 5, 0]"
      ]
     },
     "execution_count": 47,
     "metadata": {},
     "output_type": "execute_result"
    }
   ],
   "source": [
    "# 查看数据分布情况\n",
    "[len(data[data.quality == i]) for i in range(11)]\n"
   ]
  },
  {
   "cell_type": "code",
   "execution_count": 49,
   "id": "ce0237f7",
   "metadata": {},
   "outputs": [
    {
     "data": {
      "text/plain": [
       "6    2836\n",
       "5    2138\n",
       "7    1079\n",
       "4     216\n",
       "8     193\n",
       "3      30\n",
       "9       5\n",
       "Name: quality, dtype: int64"
      ]
     },
     "execution_count": 49,
     "metadata": {},
     "output_type": "execute_result"
    }
   ],
   "source": [
    "data.quality.value_counts()\n"
   ]
  },
  {
   "cell_type": "markdown",
   "id": "501e21ef",
   "metadata": {},
   "source": [
    "#### 使用PCA降维处理"
   ]
  },
  {
   "cell_type": "code",
   "execution_count": 11,
   "id": "f78393e2",
   "metadata": {},
   "outputs": [
    {
     "name": "stdout",
     "output_type": "stream",
     "text": [
      "训练数据条数:6334；数据特征个数:12；测试数据条数:163\n"
     ]
    },
    {
     "name": "stderr",
     "output_type": "stream",
     "text": [
      "D:\\anaconda\\lib\\site-packages\\sklearn\\linear_model\\_logistic.py:763: ConvergenceWarning: lbfgs failed to converge (status=1):\n",
      "STOP: TOTAL NO. of ITERATIONS REACHED LIMIT.\n",
      "\n",
      "Increase the number of iterations (max_iter) or scale the data as shown in:\n",
      "    https://scikit-learn.org/stable/modules/preprocessing.html\n",
      "Please also refer to the documentation for alternative solver options:\n",
      "    https://scikit-learn.org/stable/modules/linear_model.html#logistic-regression\n",
      "  n_iter_i = _check_optimize_result(\n",
      "D:\\anaconda\\lib\\site-packages\\sklearn\\linear_model\\_logistic.py:763: ConvergenceWarning: lbfgs failed to converge (status=1):\n",
      "STOP: TOTAL NO. of ITERATIONS REACHED LIMIT.\n",
      "\n",
      "Increase the number of iterations (max_iter) or scale the data as shown in:\n",
      "    https://scikit-learn.org/stable/modules/preprocessing.html\n",
      "Please also refer to the documentation for alternative solver options:\n",
      "    https://scikit-learn.org/stable/modules/linear_model.html#logistic-regression\n",
      "  n_iter_i = _check_optimize_result(\n",
      "D:\\anaconda\\lib\\site-packages\\sklearn\\linear_model\\_logistic.py:763: ConvergenceWarning: lbfgs failed to converge (status=1):\n",
      "STOP: TOTAL NO. of ITERATIONS REACHED LIMIT.\n",
      "\n",
      "Increase the number of iterations (max_iter) or scale the data as shown in:\n",
      "    https://scikit-learn.org/stable/modules/preprocessing.html\n",
      "Please also refer to the documentation for alternative solver options:\n",
      "    https://scikit-learn.org/stable/modules/linear_model.html#logistic-regression\n",
      "  n_iter_i = _check_optimize_result(\n",
      "D:\\anaconda\\lib\\site-packages\\sklearn\\linear_model\\_logistic.py:763: ConvergenceWarning: lbfgs failed to converge (status=1):\n",
      "STOP: TOTAL NO. of ITERATIONS REACHED LIMIT.\n",
      "\n",
      "Increase the number of iterations (max_iter) or scale the data as shown in:\n",
      "    https://scikit-learn.org/stable/modules/preprocessing.html\n",
      "Please also refer to the documentation for alternative solver options:\n",
      "    https://scikit-learn.org/stable/modules/linear_model.html#logistic-regression\n",
      "  n_iter_i = _check_optimize_result(\n",
      "D:\\anaconda\\lib\\site-packages\\sklearn\\linear_model\\_logistic.py:763: ConvergenceWarning: lbfgs failed to converge (status=1):\n",
      "STOP: TOTAL NO. of ITERATIONS REACHED LIMIT.\n",
      "\n",
      "Increase the number of iterations (max_iter) or scale the data as shown in:\n",
      "    https://scikit-learn.org/stable/modules/preprocessing.html\n",
      "Please also refer to the documentation for alternative solver options:\n",
      "    https://scikit-learn.org/stable/modules/linear_model.html#logistic-regression\n",
      "  n_iter_i = _check_optimize_result(\n",
      "D:\\anaconda\\lib\\site-packages\\sklearn\\linear_model\\_logistic.py:763: ConvergenceWarning: lbfgs failed to converge (status=1):\n",
      "STOP: TOTAL NO. of ITERATIONS REACHED LIMIT.\n",
      "\n",
      "Increase the number of iterations (max_iter) or scale the data as shown in:\n",
      "    https://scikit-learn.org/stable/modules/preprocessing.html\n",
      "Please also refer to the documentation for alternative solver options:\n",
      "    https://scikit-learn.org/stable/modules/linear_model.html#logistic-regression\n",
      "  n_iter_i = _check_optimize_result(\n"
     ]
    },
    {
     "name": "stdout",
     "output_type": "stream",
     "text": [
      "R值： 0.474581622987054\n",
      "特征稀疏化比率：0.00%\n",
      "参数： [[ 1.82780315e+00  1.74198516e+00 -4.74600981e-01  1.34389200e+00\n",
      "   1.52453444e-01 -1.22802226e-01 -2.71681528e+00  1.94227000e-01\n",
      "   9.92027646e-01 -2.80459518e-01 -1.02806505e+00  2.33494087e-01]\n",
      " [-9.72791213e-01  4.07521127e+00 -2.03158004e+00 -2.38313821e+00\n",
      "   4.17268517e-02 -6.32151418e+00  6.06663183e-01  1.06144316e+00\n",
      "   4.17405242e+00 -1.08900198e+00  2.01696478e+00  3.33933611e+00]\n",
      " [ 7.38384041e+00  1.47439638e+01 -6.20549637e+00  6.74068721e-01\n",
      "   1.67434723e+00 -1.11766841e+00 -1.05474504e+00  6.51180780e+00\n",
      "   2.41470938e+01 -8.97288161e-01 -1.53559111e+01 -7.32551486e+00]\n",
      " [ 2.30237856e+00 -7.32144161e+00  2.06473085e+00  1.53111806e+00\n",
      "  -3.05063539e-01  1.81983186e+00  9.08474529e-01 -1.04402756e+00\n",
      "  -4.17019177e+00  1.51145813e+00 -3.40518419e-01  1.69859347e+00]\n",
      " [-2.50149818e+00 -1.13894704e+01  5.63489143e+00 -1.33862817e+00\n",
      "  -1.22264648e+00  2.30850665e+00  1.06406290e+00 -5.39008364e+00\n",
      "  -2.01462408e+01  1.20549254e+00  9.86350931e+00  1.25767991e+00]\n",
      " [-7.20163543e+00 -1.77336924e+00  1.01090514e+00  7.61302358e-01\n",
      "  -3.19900601e-01  2.64648149e+00  7.45080280e-01 -1.21950331e+00\n",
      "  -4.65631619e+00 -3.56148821e-01  5.42403319e+00  8.04701578e-01]\n",
      " [-8.38097297e-01 -7.68789424e-02  1.14996102e-03 -5.88614763e-01\n",
      "  -2.09169021e-02  7.87164816e-01  4.47279431e-01 -1.13863450e-01\n",
      "  -3.40425102e-01 -9.40521894e-02 -5.80012684e-01 -8.29029234e-03]]\n",
      "截距： [ 0.32101526  0.51747204  3.8154325   1.15346979 -0.15041471 -1.45404476\n",
      " -4.20293011]\n"
     ]
    },
    {
     "data": {
      "image/png": "[encoded data removed]",
      "text/plain": [
       "<Figure size 1008x504 with 1 Axes>"
      ]
     },
     "metadata": {},
     "output_type": "display_data"
    }
   ],
   "source": [
    "\n",
    "from sklearn.preprocessing import MinMaxScaler\n",
    "from sklearn.decomposition import PCA\n",
    "from sklearn.feature_selection import SelectKBest\n",
    "from sklearn.feature_selection import chi2\n",
    "from sklearn.preprocessing import Normalizer\n",
    "\n",
    "# 1. 数据分割\n",
    "X1_train,X1_test,Y1_train,Y1_test = train_test_split(X,Y,test_size=0.025,random_state=0)\n",
    "print (\"训练数据条数:%d；数据特征个数:%d；测试数据条数:%d\" % (X1_train.shape[0], X1_train.shape[1], X1_test.shape[0]))\n",
    "\n",
    "# 2. 数据特征转换（归一化）\n",
    "ss2 = Normalizer()\n",
    "# 训练模型及归一化数据\n",
    "X1_train = ss2.fit_transform(X1_train)\n",
    "\n",
    "# 3. 特征选择，只考虑3个维度\n",
    "# skb = SelectKBest(chi2, k=3)\n",
    "# 训练模型及特征选择\n",
    "# X1_train = skb.fit_transform(X1_train, Y1_train)\n",
    "\n",
    "# 4. 降维\n",
    "# 将样本数据维度降低成为2个维度\n",
    "# pca = PCA(n_components=5)\n",
    "# X1_train = pca.fit_transform(X1_train)\n",
    "# print(\"贡献率:\", pca.explained_variance_)\n",
    "\n",
    "# 5. 模型构建\n",
    "lr2 = LogisticRegressionCV(fit_intercept=True, Cs=np.logspace(-5, 1, 100), \n",
    "                          multi_class='multinomial', penalty='l2', solver='lbfgs')\n",
    "lr2.fit(X1_train, Y1_train)\n",
    "\n",
    "# 6. 模型效果输出\n",
    "r = lr2.score(X1_train, Y1_train)\n",
    "print(\"R值：\", r)\n",
    "print(\"特征稀疏化比率：%.2f%%\" % (np.mean(lr2.coef_.ravel() == 0) * 100))\n",
    "print(\"参数：\",lr2.coef_)\n",
    "print(\"截距：\",lr2.intercept_)\n",
    "\n",
    "# 7. 数据预测\n",
    "# a. 预测数据格式化（归一化）\n",
    "# 测试数据归一化\n",
    "X1_test = ss2.transform(X1_test)\n",
    "# 测试数据特征选择\n",
    "# X1_test = skb.transform(X1_test)\n",
    "# 测试数据降维\n",
    "# X1_test = pca.fit_transform(X1_test)\n",
    "\n",
    "# b. 结果数据预测\n",
    "Y1_predict = lr2.predict(X1_test)\n",
    "\n",
    "# c. 图表展示\n",
    "x1_len = range(len(X1_test))\n",
    "plt.figure(figsize=(14,7), facecolor='w')\n",
    "plt.ylim(-1,11)\n",
    "plt.plot(x1_len, Y1_test, 'ro',markersize = 8, zorder=3, label=u'真实值')\n",
    "plt.plot(x1_len, Y1_predict, 'go', markersize = 12, zorder=2, label=u'预测值,$R^2$=%.3f' % lr2.score(X1_train, Y1_train))\n",
    "plt.legend(loc = 'upper left')\n",
    "plt.xlabel(u'数据编号', fontsize=18)\n",
    "plt.ylabel(u'葡萄酒质量', fontsize=18)\n",
    "plt.title(u'葡萄酒质量预测统计(降维处理)', fontsize=20)\n",
    "plt.show()\n"
   ]
  },
  {
   "cell_type": "code",
   "execution_count": 12,
   "id": "b660447b",
   "metadata": {},
   "outputs": [],
   "source": [
    "# 设置字符集，防止中文乱码\n",
    "mpl.rcParams['font.sans-serif']=[u'simHei']\n",
    "mpl.rcParams['axes.unicode_minus']=False"
   ]
  },
  {
   "cell_type": "markdown",
   "id": "2628358e",
   "metadata": {},
   "source": [
    "#### Softmax分类算法进行模型构建及训练预测葡萄酒质量"
   ]
  },
  {
   "cell_type": "code",
   "execution_count": 13,
   "id": "99b57f83",
   "metadata": {},
   "outputs": [
    {
     "name": "stderr",
     "output_type": "stream",
     "text": [
      "D:\\anaconda\\lib\\site-packages\\sklearn\\model_selection\\_split.py:666: UserWarning: The least populated class in y has only 2 members, which is less than n_splits=5.\n",
      "  warnings.warn((\"The least populated class in y has only %d\"\n",
      "D:\\anaconda\\lib\\site-packages\\sklearn\\linear_model\\_logistic.py:763: ConvergenceWarning: lbfgs failed to converge (status=1):\n",
      "STOP: TOTAL NO. of ITERATIONS REACHED LIMIT.\n",
      "\n",
      "Increase the number of iterations (max_iter) or scale the data as shown in:\n",
      "    https://scikit-learn.org/stable/modules/preprocessing.html\n",
      "Please also refer to the documentation for alternative solver options:\n",
      "    https://scikit-learn.org/stable/modules/linear_model.html#logistic-regression\n",
      "  n_iter_i = _check_optimize_result(\n",
      "D:\\anaconda\\lib\\site-packages\\sklearn\\linear_model\\_logistic.py:763: ConvergenceWarning: lbfgs failed to converge (status=1):\n",
      "STOP: TOTAL NO. of ITERATIONS REACHED LIMIT.\n",
      "\n",
      "Increase the number of iterations (max_iter) or scale the data as shown in:\n",
      "    https://scikit-learn.org/stable/modules/preprocessing.html\n",
      "Please also refer to the documentation for alternative solver options:\n",
      "    https://scikit-learn.org/stable/modules/linear_model.html#logistic-regression\n",
      "  n_iter_i = _check_optimize_result(\n",
      "D:\\anaconda\\lib\\site-packages\\sklearn\\linear_model\\_logistic.py:763: ConvergenceWarning: lbfgs failed to converge (status=1):\n",
      "STOP: TOTAL NO. of ITERATIONS REACHED LIMIT.\n",
      "\n",
      "Increase the number of iterations (max_iter) or scale the data as shown in:\n",
      "    https://scikit-learn.org/stable/modules/preprocessing.html\n",
      "Please also refer to the documentation for alternative solver options:\n",
      "    https://scikit-learn.org/stable/modules/linear_model.html#logistic-regression\n",
      "  n_iter_i = _check_optimize_result(\n",
      "D:\\anaconda\\lib\\site-packages\\sklearn\\linear_model\\_logistic.py:763: ConvergenceWarning: lbfgs failed to converge (status=1):\n",
      "STOP: TOTAL NO. of ITERATIONS REACHED LIMIT.\n",
      "\n",
      "Increase the number of iterations (max_iter) or scale the data as shown in:\n",
      "    https://scikit-learn.org/stable/modules/preprocessing.html\n",
      "Please also refer to the documentation for alternative solver options:\n",
      "    https://scikit-learn.org/stable/modules/linear_model.html#logistic-regression\n",
      "  n_iter_i = _check_optimize_result(\n",
      "D:\\anaconda\\lib\\site-packages\\sklearn\\linear_model\\_logistic.py:763: ConvergenceWarning: lbfgs failed to converge (status=1):\n",
      "STOP: TOTAL NO. of ITERATIONS REACHED LIMIT.\n",
      "\n",
      "Increase the number of iterations (max_iter) or scale the data as shown in:\n",
      "    https://scikit-learn.org/stable/modules/preprocessing.html\n",
      "Please also refer to the documentation for alternative solver options:\n",
      "    https://scikit-learn.org/stable/modules/linear_model.html#logistic-regression\n",
      "  n_iter_i = _check_optimize_result(\n",
      "D:\\anaconda\\lib\\site-packages\\sklearn\\linear_model\\_logistic.py:763: ConvergenceWarning: lbfgs failed to converge (status=1):\n",
      "STOP: TOTAL NO. of ITERATIONS REACHED LIMIT.\n",
      "\n",
      "Increase the number of iterations (max_iter) or scale the data as shown in:\n",
      "    https://scikit-learn.org/stable/modules/preprocessing.html\n",
      "Please also refer to the documentation for alternative solver options:\n",
      "    https://scikit-learn.org/stable/modules/linear_model.html#logistic-regression\n",
      "  n_iter_i = _check_optimize_result(\n"
     ]
    },
    {
     "data": {
      "text/plain": [
       "LogisticRegressionCV(Cs=array([1.00000000e-05, 1.14975700e-05, 1.32194115e-05, 1.51991108e-05,\n",
       "       1.74752840e-05, 2.00923300e-05, 2.31012970e-05, 2.65608778e-05,\n",
       "       3.05385551e-05, 3.51119173e-05, 4.03701726e-05, 4.64158883e-05,\n",
       "       5.33669923e-05, 6.13590727e-05, 7.05480231e-05, 8.11130831e-05,\n",
       "       9.32603347e-05, 1.07226722e-04, 1.23284674e-04, 1.41747416e-04,\n",
       "       1.62975083e-04, 1.87...\n",
       "       4.03701726e-01, 4.64158883e-01, 5.33669923e-01, 6.13590727e-01,\n",
       "       7.05480231e-01, 8.11130831e-01, 9.32603347e-01, 1.07226722e+00,\n",
       "       1.23284674e+00, 1.41747416e+00, 1.62975083e+00, 1.87381742e+00,\n",
       "       2.15443469e+00, 2.47707636e+00, 2.84803587e+00, 3.27454916e+00,\n",
       "       3.76493581e+00, 4.32876128e+00, 4.97702356e+00, 5.72236766e+00,\n",
       "       6.57933225e+00, 7.56463328e+00, 8.69749003e+00, 1.00000000e+01]),\n",
       "                     multi_class='multinomial')"
      ]
     },
     "execution_count": 13,
     "metadata": {},
     "output_type": "execute_result"
    }
   ],
   "source": [
    "# 3. 模型构建及训练\n",
    "# penalty: 过拟合解决参数,l1或者l2\n",
    "# solver: 参数优化方式\n",
    "# 当penalty为l1的时候，参数只能是：liblinear(坐标轴下降法)；\n",
    "# 当penalty为l2的时候，参数可以是：lbfgs(拟牛顿法)、newton-cg(牛顿法变种)\n",
    "# multi_class: 分类方式参数；参数可选: ovr(默认)、multinomial；这两种方式在二元分类问题中，效果是一样的；在多元分类问题中，效果不一样\n",
    "# ovr: one-vs-rest， 对于多元分类的问题，先将其看做二元分类，分类完成后，再迭代对其中一类继续进行二元分类\n",
    "# multinomial: many-vs-many（MVM），对于多元分类问题，如果模型有T类，我们每次在所有的T类样本里面选择两类样本出来，不妨记为T1类和T2类，\n",
    "# 把所有的输出为T1和T2的样本放在一起，把T1作为正例，T2作为负例，进行二元逻辑回归，得到模型参数。我们一共需要T(T-1)/2次分类\n",
    "# class_weight: 特征权重参数\n",
    "# Softmax算法相对于Logistic算法来讲，在sklearn中体现的代码形式来讲，主要只是参数的不同而已\n",
    "# Logistic算法回归（二分类）使用的是ovr；如果是softmax回归，建议使用multinomial\n",
    "\n",
    "lr = LogisticRegressionCV(fit_intercept=True, Cs=np.logspace(-5, 1, 100), \n",
    "                          multi_class='multinomial', penalty='l2', solver='lbfgs')\n",
    "lr.fit(X_train, Y_train)\n"
   ]
  },
  {
   "cell_type": "code",
   "execution_count": 44,
   "id": "b56001d3",
   "metadata": {},
   "outputs": [
    {
     "name": "stdout",
     "output_type": "stream",
     "text": [
      "R值： 0.5494663382594417\n",
      "特征稀疏化比率：0.00%\n",
      "参数： [[ 3.11704062e+00  4.89642895e+00 -1.17700568e+00 -1.61344478e+00\n",
      "   3.48631988e+00  4.99429036e+00  1.10379230e+00 -1.63421717e-01\n",
      "   3.06048283e-01 -2.60349731e+00 -1.51970020e+00  2.83916923e-01]\n",
      " [-5.41160307e-01  5.96666760e+00 -2.07242499e-01 -3.47158053e+00\n",
      "   2.02096628e+00 -8.52635634e+00 -1.15847332e+00  3.53490239e+00\n",
      "   4.78807499e-02 -1.25821640e+00 -3.01171053e+00  2.59526053e+00]\n",
      " [-3.33612307e+00  1.91678703e+00  5.74660604e-01 -2.77864572e+00\n",
      "   4.56999753e-01 -2.58026902e+00  2.55674173e+00  2.85679142e+00\n",
      "  -2.12014918e+00 -2.31133037e+00 -4.99812375e+00 -9.73553620e-01]\n",
      " [-2.41447668e+00 -3.04979075e+00 -4.42800822e-01 -1.90799851e-01\n",
      "  -3.51005774e-01  7.28490110e-01 -2.53038788e-01  1.16837690e+00\n",
      "  -1.26135445e+00  5.43617765e-01  4.73184765e-02 -1.03421575e+00]\n",
      " [ 1.50310592e+00 -5.66792872e+00 -6.91414737e-01  3.55704981e+00\n",
      "  -3.52885012e+00  2.11455319e+00 -1.16477601e+00 -4.22344199e+00\n",
      "   9.89510525e-01  3.74537520e+00  2.79388770e+00 -1.37746776e+00]\n",
      " [ 2.49657651e-01 -3.49276215e+00  6.21271643e-01  3.95969330e+00\n",
      "  -1.71026993e+00  3.42876554e+00 -7.94895582e-01 -3.16838243e+00\n",
      "   1.10715486e+00  2.48194872e+00  5.04159328e+00 -6.14394202e-01]\n",
      " [ 1.42195586e+00 -5.69401962e-01  1.32253150e+00  5.37727763e-01\n",
      "  -3.74160093e-01 -1.59473839e-01 -2.89350338e-01 -4.82457245e-03\n",
      "   9.30909210e-01 -5.97897607e-01  1.64673501e+00  1.12045388e+00]]\n",
      "截距： [-3.72924555 -1.44303223  5.63547062  5.17214238  2.55192624 -1.73594745\n",
      " -6.451314  ]\n"
     ]
    }
   ],
   "source": [
    "# 4. 模型效果获取\n",
    "r = lr.score(X_train, Y_train)\n",
    "print(\"R值：\", r)\n",
    "print(\"特征稀疏化比率：%.2f%%\" % (np.mean(lr.coef_.ravel() == 0) * 100))\n",
    "print(\"参数：\",lr.coef_)\n",
    "print(\"截距：\",lr.intercept_)\n"
   ]
  },
  {
   "cell_type": "code",
   "execution_count": 14,
   "id": "bae64638",
   "metadata": {},
   "outputs": [
    {
     "data": {
      "image/png": "[encoded data removed]",
      "text/plain": [
       "<Figure size 1008x504 with 1 Axes>"
      ]
     },
     "metadata": {},
     "output_type": "display_data"
    }
   ],
   "source": [
    "# 5. 数据预测\n",
    "# a. 使用标准化模型进行预测数据格式化（归一化）\n",
    "X_test = ss.transform(X_test)\n",
    "# b. 结果数据预测\n",
    "Y_predict = lr.predict(X_test)\n",
    "# c. 图表展示\n",
    "x_len = range(len(X_test))\n",
    "plt.figure(figsize=(14,7), facecolor='w')\n",
    "plt.ylim(-1,11)\n",
    "plt.plot(x_len, Y_test, 'ro',markersize = 8, zorder=3, label=u'真实值')\n",
    "plt.plot(x_len, Y_predict, 'go', markersize = 12, zorder=2, label=u'预测值,$R^2$=%.3f' % lr.score(X_train, Y_train))\n",
    "plt.legend(loc = 'upper left')\n",
    "plt.xlabel(u'数据编号', fontsize=18)\n",
    "plt.ylabel(u'葡萄酒质量', fontsize=18)\n",
    "plt.title(u'葡萄酒质量预测统计', fontsize=20)\n",
    "plt.show()\n"
   ]
  },
  {
   "cell_type": "markdown",
   "id": "3fe19102",
   "metadata": {},
   "source": [
    "#### 特征工程"
   ]
  },
  {
   "cell_type": "code",
   "execution_count": 15,
   "id": "f7f38b10",
   "metadata": {},
   "outputs": [],
   "source": [
    "import pandas as pd\n",
    "#方差选择\n",
    "from sklearn.feature_selection import VarianceThreshold\n",
    "#皮尔逊相关系数\n",
    "from scipy.stats import pearsonr\n",
    "#标准化\n",
    "from sklearn.preprocessing import StandardScaler\n",
    "#数据划分\n",
    "from sklearn.model_selection import train_test_split\n",
    "#决策树\n",
    "from sklearn.tree import DecisionTreeClassifier,export_graphviz\n",
    "#KNN\n",
    "from sklearn.neighbors import KNeighborsClassifier\n",
    "#网格搜索和交叉验证\n",
    "from sklearn.model_selection import GridSearchCV\n",
    "#随机森林\n",
    "from sklearn.ensemble import RandomForestClassifier\n"
   ]
  },
  {
   "cell_type": "markdown",
   "id": "17f644f4",
   "metadata": {},
   "source": [
    "特征工程\n",
    "数据和特征决定了机器学习的上限，而模型和算法只是逼近这个上限而已，而特征工程就是最大程度从原始数据中提取主要特征供建模使用"
   ]
  },
  {
   "cell_type": "code",
   "execution_count": 16,
   "id": "0181c490",
   "metadata": {},
   "outputs": [
    {
     "name": "stdout",
     "output_type": "stream",
     "text": [
      "new_data:\n",
      " [[ 7.4    0.7    0.    ...  0.56   9.4    5.   ]\n",
      " [ 7.8    0.88   0.    ...  0.68   9.8    5.   ]\n",
      " [ 7.8    0.76   0.04  ...  0.65   9.8    5.   ]\n",
      " ...\n",
      " [ 6.3    0.51   0.13  ...  0.75  11.     6.   ]\n",
      " [ 5.9    0.645  0.12  ...  0.71  10.2    5.   ]\n",
      " [ 6.     0.31   0.47  ...  0.66  11.     6.   ]] (1599, 12)\n"
     ]
    }
   ],
   "source": [
    "#检查是否方差有为0的情况\n",
    "transfer = VarianceThreshold()\n",
    "new_data = transfer.fit_transform(data1)\n",
    "print('new_data:\\n',new_data,new_data.shape)\n"
   ]
  },
  {
   "cell_type": "markdown",
   "id": "d4685980",
   "metadata": {},
   "source": [
    "在这12个特征中没有方差为0的情况，VarianceThreshold()中也可以设置一个阈值，删去方差小于该阈值的特征，但是这个数据集比较小，不太适合这种方法。这里选择用皮尔逊相关系数进行特征选择，可以算出两两特征之间的相关系数。"
   ]
  },
  {
   "cell_type": "code",
   "execution_count": 17,
   "id": "24b5baa4",
   "metadata": {},
   "outputs": [
    {
     "name": "stdout",
     "output_type": "stream",
     "text": [
      "fixed acidity和volatile acidity之间的皮尔逊相关系数为-0.256131\n",
      "fixed acidity和citric acid之间的皮尔逊相关系数为0.671703\n",
      "fixed acidity和residual sugar之间的皮尔逊相关系数为0.114777\n",
      "fixed acidity和chlorides之间的皮尔逊相关系数为0.093705\n",
      "fixed acidity和free sulfur dioxide之间的皮尔逊相关系数为-0.153794\n",
      "fixed acidity和total sulfur dioxide之间的皮尔逊相关系数为-0.113181\n",
      "fixed acidity和density之间的皮尔逊相关系数为0.668047\n",
      "fixed acidity和pH之间的皮尔逊相关系数为-0.682978\n",
      "fixed acidity和sulphates之间的皮尔逊相关系数为0.183006\n",
      "fixed acidity和alcohol之间的皮尔逊相关系数为-0.061668\n",
      "fixed acidity和quality之间的皮尔逊相关系数为0.124052\n",
      "fixed acidity和type之间的皮尔逊相关系数为nan\n",
      "volatile acidity和citric acid之间的皮尔逊相关系数为-0.552496\n",
      "volatile acidity和residual sugar之间的皮尔逊相关系数为0.001918\n",
      "volatile acidity和chlorides之间的皮尔逊相关系数为0.061298\n",
      "volatile acidity和free sulfur dioxide之间的皮尔逊相关系数为-0.010504\n",
      "volatile acidity和total sulfur dioxide之间的皮尔逊相关系数为0.076470\n",
      "volatile acidity和density之间的皮尔逊相关系数为0.022026\n",
      "volatile acidity和pH之间的皮尔逊相关系数为0.234937\n",
      "volatile acidity和sulphates之间的皮尔逊相关系数为-0.260987\n",
      "volatile acidity和alcohol之间的皮尔逊相关系数为-0.202288\n",
      "volatile acidity和quality之间的皮尔逊相关系数为-0.390558\n",
      "volatile acidity和type之间的皮尔逊相关系数为nan\n",
      "citric acid和residual sugar之间的皮尔逊相关系数为0.143577\n",
      "citric acid和chlorides之间的皮尔逊相关系数为0.203823\n",
      "citric acid和free sulfur dioxide之间的皮尔逊相关系数为-0.060978\n",
      "citric acid和total sulfur dioxide之间的皮尔逊相关系数为0.035533\n",
      "citric acid和density之间的皮尔逊相关系数为0.364947\n",
      "citric acid和pH之间的皮尔逊相关系数为-0.541904\n",
      "citric acid和sulphates之间的皮尔逊相关系数为0.312770\n",
      "citric acid和alcohol之间的皮尔逊相关系数为0.109903\n",
      "citric acid和quality之间的皮尔逊相关系数为0.226373\n",
      "citric acid和type之间的皮尔逊相关系数为nan\n",
      "residual sugar和chlorides之间的皮尔逊相关系数为0.055610\n",
      "residual sugar和free sulfur dioxide之间的皮尔逊相关系数为0.187049\n",
      "residual sugar和total sulfur dioxide之间的皮尔逊相关系数为0.203028\n",
      "residual sugar和density之间的皮尔逊相关系数为0.355283\n",
      "residual sugar和pH之间的皮尔逊相关系数为-0.085652\n",
      "residual sugar和sulphates之间的皮尔逊相关系数为0.005527\n",
      "residual sugar和alcohol之间的皮尔逊相关系数为0.042075\n",
      "residual sugar和quality之间的皮尔逊相关系数为0.013732\n",
      "residual sugar和type之间的皮尔逊相关系数为nan\n",
      "chlorides和free sulfur dioxide之间的皮尔逊相关系数为0.005562\n",
      "chlorides和total sulfur dioxide之间的皮尔逊相关系数为0.047400\n",
      "chlorides和density之间的皮尔逊相关系数为0.200632\n",
      "chlorides和pH之间的皮尔逊相关系数为-0.265026\n",
      "chlorides和sulphates之间的皮尔逊相关系数为0.371260\n",
      "chlorides和alcohol之间的皮尔逊相关系数为-0.221141\n",
      "chlorides和quality之间的皮尔逊相关系数为-0.128907\n",
      "chlorides和type之间的皮尔逊相关系数为nan\n",
      "free sulfur dioxide和total sulfur dioxide之间的皮尔逊相关系数为0.667666\n",
      "free sulfur dioxide和density之间的皮尔逊相关系数为-0.021946\n",
      "free sulfur dioxide和pH之间的皮尔逊相关系数为0.070377\n",
      "free sulfur dioxide和sulphates之间的皮尔逊相关系数为0.051658\n",
      "free sulfur dioxide和alcohol之间的皮尔逊相关系数为-0.069408\n",
      "free sulfur dioxide和quality之间的皮尔逊相关系数为-0.050656\n",
      "free sulfur dioxide和type之间的皮尔逊相关系数为nan\n",
      "total sulfur dioxide和density之间的皮尔逊相关系数为0.071269\n",
      "total sulfur dioxide和pH之间的皮尔逊相关系数为-0.066495\n",
      "total sulfur dioxide和sulphates之间的皮尔逊相关系数为0.042947\n",
      "total sulfur dioxide和alcohol之间的皮尔逊相关系数为-0.205654\n",
      "total sulfur dioxide和quality之间的皮尔逊相关系数为-0.185100\n",
      "total sulfur dioxide和type之间的皮尔逊相关系数为nan\n",
      "density和pH之间的皮尔逊相关系数为-0.341699\n",
      "density和sulphates之间的皮尔逊相关系数为0.148506\n",
      "density和alcohol之间的皮尔逊相关系数为-0.496180\n",
      "density和quality之间的皮尔逊相关系数为-0.174919\n",
      "density和type之间的皮尔逊相关系数为nan\n",
      "pH和sulphates之间的皮尔逊相关系数为-0.196648\n",
      "pH和alcohol之间的皮尔逊相关系数为0.205633\n",
      "pH和quality之间的皮尔逊相关系数为-0.057731\n",
      "pH和type之间的皮尔逊相关系数为nan\n",
      "sulphates和alcohol之间的皮尔逊相关系数为0.093595\n",
      "sulphates和quality之间的皮尔逊相关系数为0.251397\n",
      "sulphates和type之间的皮尔逊相关系数为nan\n",
      "alcohol和quality之间的皮尔逊相关系数为0.476166\n",
      "alcohol和type之间的皮尔逊相关系数为nan\n",
      "quality和type之间的皮尔逊相关系数为nan\n"
     ]
    },
    {
     "name": "stderr",
     "output_type": "stream",
     "text": [
      "D:\\anaconda\\lib\\site-packages\\scipy\\stats\\stats.py:4023: PearsonRConstantInputWarning: An input array is constant; the correlation coefficient is not defined.\n",
      "  warnings.warn(PearsonRConstantInputWarning())\n"
     ]
    }
   ],
   "source": [
    "#特征名字索引\n",
    "data_title = data1.columns.values.tolist()\n",
    "r = []\n",
    "for i in range(len(data_title)):\n",
    "    for j in range(i+1,len(data_title)):\n",
    "        print('%s和%s之间的皮尔逊相关系数为%f'%(data_title[i],data_title[j],pearsonr(data1[data_title[i]],data1[data_title[j]])[0]))\n",
    "        r.append(pearsonr(data[data_title[i]],data[data_title[j]])[0])\n"
   ]
  },
  {
   "cell_type": "code",
   "execution_count": 79,
   "id": "2781303e",
   "metadata": {},
   "outputs": [
    {
     "name": "stdout",
     "output_type": "stream",
     "text": [
      "0.7209340813785245\n",
      "50\n",
      "0.7003571552968024\n",
      "62\n"
     ]
    }
   ],
   "source": [
    "# for i in range(len(r)):\n",
    "#     if r[i]>0.6:\n",
    "#         print(r[i])\n",
    "#         print(i)\n",
    "#     else:\n",
    "#         continue\n"
   ]
  },
  {
   "cell_type": "markdown",
   "id": "c3d5f564",
   "metadata": {},
   "source": [
    "索引出相关系数大于0.6，即相关性比较强的特征"
   ]
  },
  {
   "cell_type": "code",
   "execution_count": null,
   "id": "a7687fe4",
   "metadata": {},
   "outputs": [],
   "source": [
    "即的特征：残留糖和密度、游离二氧化硫和总二氧化硫\n",
    "残留糖和密度的相关性达到了0.83，已经是强相关，所以这里选择删去密度这一特征\n",
    "在游离二氧化硫和总二氧化硫之间可以尝试进行特征选择"
   ]
  },
  {
   "cell_type": "code",
   "execution_count": 18,
   "id": "f2c93d6b",
   "metadata": {},
   "outputs": [],
   "source": [
    "def Quality(e):\n",
    "    if e>0 and e<=4:\n",
    "        return 'inferior'\n",
    "    elif e>4 and e<=7:\n",
    "        return 'ordinary'\n",
    "    else:\n",
    "        return 'superior'\n",
    "data['Quality'] = data['quality'].map(Quality)\n",
    "data.drop(['quality'],axis=1,inplace=True)\n"
   ]
  },
  {
   "cell_type": "markdown",
   "id": "d21cc4bc",
   "metadata": {},
   "source": [
    "从数据简介中了解到葡萄酒的质量等级分为0-10，分布太广，并且过于细致，为了建模后利于分类，所以将质量分为三个等级:劣质（inferior）、普通（ordinary）、优质（superior）。"
   ]
  },
  {
   "cell_type": "markdown",
   "id": "aab1ee59",
   "metadata": {},
   "source": [
    "### 5.4 K近邻算法建模"
   ]
  },
  {
   "cell_type": "markdown",
   "id": "3bc95980",
   "metadata": {},
   "source": [
    "利用算法建模\n",
    "进行建模之间需要对数据集进行划分，即将数据集分为训练集和目标集"
   ]
  },
  {
   "cell_type": "code",
   "execution_count": 19,
   "id": "12ce1a83",
   "metadata": {},
   "outputs": [],
   "source": [
    "#划分数据集\n",
    "x_train,x_test,y_train,y_test = train_test_split(X,Y,test_size =0.2,random_state = 6)\n"
   ]
  },
  {
   "cell_type": "code",
   "execution_count": 20,
   "id": "5a9cf072",
   "metadata": {},
   "outputs": [
    {
     "name": "stderr",
     "output_type": "stream",
     "text": [
      "D:\\anaconda\\lib\\site-packages\\sklearn\\model_selection\\_split.py:666: UserWarning: The least populated class in y has only 3 members, which is less than n_splits=10.\n",
      "  warnings.warn((\"The least populated class in y has only %d\"\n"
     ]
    },
    {
     "name": "stdout",
     "output_type": "stream",
     "text": [
      "布尔比对:\n",
      " 3744     True\n",
      "3975     True\n",
      "1481     True\n",
      "1029    False\n",
      "1584     True\n",
      "        ...  \n",
      "649     False\n",
      "430      True\n",
      "3002    False\n",
      "322      True\n",
      "2659     True\n",
      "Name: quality, Length: 1300, dtype: bool\n",
      "模型准确率:\n",
      " 0.6392307692307693\n",
      "最佳结果:\n",
      " KNeighborsClassifier(n_neighbors=1)\n"
     ]
    }
   ],
   "source": [
    "#标准化\n",
    "transfer = StandardScaler()\n",
    "x_train = transfer.fit_transform(x_train)\n",
    "x_test = transfer.transform(x_test)\n",
    "#KNN预估器\n",
    "estimator1 = KNeighborsClassifier()\n",
    "#网格搜索和交叉验证\n",
    "param_dict = {'n_neighbors':[i for i in range(1,16)]}\n",
    "estimator1 = GridSearchCV(estimator1,param_grid=param_dict,cv = 10)\n",
    "estimator1.fit(x_train,y_train)\n",
    "#模型评估\n",
    "#1)比对真实值与预测值\n",
    "y_predict1 = estimator1.predict(x_test)\n",
    "print('布尔比对:\\n',y_predict1==y_test)\n",
    "#2)查看准确率\n",
    "score1 = estimator1.score(x_test,y_test)\n",
    "print('模型准确率:\\n',score1)\n",
    "#得出最优模型\n",
    "print('最佳结果:\\n',estimator1.best_estimator_)\n"
   ]
  },
  {
   "cell_type": "markdown",
   "id": "6dbe758d",
   "metadata": {},
   "source": [
    "### 5.5 决策树\n",
    "决策树是一种典型的分类方法，首先对数据进行处理，利用归纳算法生成可读的规则和决策树，然后使用决策对新数据进行分析。本质上决策树是通过一系列规则对数据进行分类的过程。"
   ]
  },
  {
   "cell_type": "code",
   "execution_count": 24,
   "id": "9d5f6ae1",
   "metadata": {},
   "outputs": [
    {
     "name": "stdout",
     "output_type": "stream",
     "text": [
      "布尔比对:\n",
      " 3744     True\n",
      "3975     True\n",
      "1481     True\n",
      "1029    False\n",
      "1584     True\n",
      "        ...  \n",
      "649      True\n",
      "430      True\n",
      "3002    False\n",
      "322     False\n",
      "2659     True\n",
      "Name: quality, Length: 1300, dtype: bool\n",
      "模型准确率:\n",
      " 0.6115384615384616\n"
     ]
    }
   ],
   "source": [
    "# from sklearn.tree import DecisionTreeClassifier,export_graphviz\n",
    "# #决策树预估器\n",
    "# estimator = DecisionTreeClassifier(criterion='entropy')#信息熵\n",
    "# estimator.fit(x_train,y_train)\n",
    "# #模型评估\n",
    "# y_predict = estimator.predict(x_test)\n",
    "# #1)比对真实值与预测值\n",
    "# print('布尔比对:\\n',y_predict==y_test)\n",
    "# #2)查看准确率\n",
    "# score = estimator.score(x_test,y_test)\n",
    "# print('模型准确率:\\n',score)\n",
    "\n"
   ]
  },
  {
   "cell_type": "markdown",
   "id": "cdc16ecc",
   "metadata": {},
   "source": [
    "### 5.6 随机森林调参红酒品质预测"
   ]
  },
  {
   "cell_type": "markdown",
   "id": "fd98887e",
   "metadata": {},
   "source": [
    "4.划分x，y 训练集和测试集\n",
    "以y1作为target值"
   ]
  },
  {
   "cell_type": "code",
   "execution_count": 23,
   "id": "b5c00b7e",
   "metadata": {},
   "outputs": [],
   "source": [
    "# 设置数据类型为红葡萄酒\n",
    "data1['type'] = 1\n",
    "\n",
    "# 设置数据类型为白葡萄酒\n",
    "data2['type'] = 2\n",
    "\n",
    "# 合并两个df\n",
    "data = pd.concat([data1,data2], axis=0)\n",
    "\n",
    "# 自变量名称\n",
    "names = [\"fixed acidity\",\"volatile acidity\",\"citric acid\",\n",
    "         \"residual sugar\",\"chlorides\",\"free sulfur dioxide\",\n",
    "         \"total sulfur dioxide\",\"density\",\"pH\",\"sulphates\",\n",
    "         \"alcohol\", \"type\"]\n",
    "# 因变量名称\n",
    "quality = \"quality\""
   ]
  },
  {
   "cell_type": "code",
   "execution_count": 24,
   "id": "883f39b2",
   "metadata": {},
   "outputs": [],
   "source": [
    "y = data[\"quality\"];  #将 quality 作为target\n",
    "x = data.drop(\"quality\",axis=1); # 其他作为属性\n",
    "# 将葡萄酒分成两组   >5为 好酒   为1   小于5为1\n",
    "y1 = (y>5).astype(int); #改变np.array中所有数据元素的数据类型。\n",
    "#print(y1);\n",
    "# 分 训练集合测试集合 7:3\n",
    "xtrain,xtest,ytrain,ytext = model_selection.train_test_split(x,y1,test_size=0.3,random_state=1);\n"
   ]
  },
  {
   "cell_type": "markdown",
   "id": "1a3c7cab",
   "metadata": {},
   "source": [
    "交叉验证 用训练集 进行交叉训练 看看不进行调参的 score为多少"
   ]
  },
  {
   "cell_type": "code",
   "execution_count": 26,
   "id": "a681d35c",
   "metadata": {},
   "outputs": [
    {
     "name": "stdout",
     "output_type": "stream",
     "text": [
      "cv_score [0.83956044 0.81978022 0.78681319 0.81758242 0.81978022 0.83296703\n",
      " 0.80659341 0.81057269 0.81718062 0.83259912]\n",
      "cv_score_mean 0.8183429345984411\n"
     ]
    }
   ],
   "source": [
    "RF_clf = RandomForestClassifier();\n",
    "cv_score = model_selection.cross_val_score(RF_clf,xtrain,ytrain,scoring='accuracy',cv=10);  #scoring='accuracy' 正确率\n",
    "print(\"cv_score\",cv_score);\n",
    "print(\"cv_score_mean\",cv_score.mean());  #mean()平均值\n"
   ]
  },
  {
   "cell_type": "markdown",
   "id": "60ff49d9",
   "metadata": {},
   "source": [
    "此时 什么参数都没有调 平均的score已经达到0.7998"
   ]
  },
  {
   "cell_type": "markdown",
   "id": "ae5cb6ba",
   "metadata": {},
   "source": [
    "### 5.7 调参\n",
    "我们首先调n_estimators\n",
    "默认的n_estimators值是100，\n",
    "我们让n_estimators从50开始 每次加10 最高到300 运行看平均score有什么变化"
   ]
  },
  {
   "cell_type": "code",
   "execution_count": 27,
   "id": "2a29cfb3",
   "metadata": {},
   "outputs": [
    {
     "data": {
      "image/png": "[encoded data removed]",
      "text/plain": [
       "<Figure size 432x288 with 1 Axes>"
      ]
     },
     "metadata": {
      "needs_background": "light"
     },
     "output_type": "display_data"
    }
   ],
   "source": [
    "n_estimators_score = [];\n",
    "for n in np.arange(50,300,10):\n",
    "    RF_clf = RandomForestClassifier(n_estimators=n)\n",
    "    cv_score = model_selection.cross_val_score(RF_clf, xtrain, ytrain, scoring='accuracy',cv=10)  # scoring='accuracy' 正确率\n",
    "    n_estimators_score.append(cv_score.mean())\n",
    "plt.figure()\n",
    "plt.plot(np.arange(50,300,10),n_estimators_score)\n",
    "plt.show()\n"
   ]
  },
  {
   "cell_type": "markdown",
   "id": "821d809e",
   "metadata": {},
   "source": [
    "用GridSearchCV处理"
   ]
  },
  {
   "cell_type": "code",
   "execution_count": 28,
   "id": "527178e8",
   "metadata": {},
   "outputs": [
    {
     "name": "stdout",
     "output_type": "stream",
     "text": [
      "best_params_ {'n_estimators': 74}\n",
      "best_score_ 0.813065680194393\n"
     ]
    }
   ],
   "source": [
    "param_grid = {'n_estimators':range(60,80,1)}\n",
    "rfc1 = model_selection.GridSearchCV(RandomForestClassifier(),param_grid=param_grid,cv=5)\n",
    "rfc1.fit(xtrain,ytrain)\n",
    "print(\"best_params_\",rfc1.best_params_)\n",
    "print(\"best_score_\",rfc1.best_score_)"
   ]
  },
  {
   "cell_type": "markdown",
   "id": "d4b245f3",
   "metadata": {},
   "source": [
    "现在就以n_estimators=71为值 调一下max_depth"
   ]
  },
  {
   "cell_type": "code",
   "execution_count": 29,
   "id": "7c93a5eb",
   "metadata": {},
   "outputs": [
    {
     "name": "stdout",
     "output_type": "stream",
     "text": [
      "best_params_ {'max_depth': 24, 'max_features': 7, 'n_estimators': 71}\n",
      "best_score_ 0.8084498120141685\n"
     ]
    }
   ],
   "source": [
    "param_grid = {'n_estimators':[71],'max_depth':[24],'max_features':range(3,10,1)};\n",
    "rfc1 = model_selection.GridSearchCV(RandomForestClassifier(),param_grid=param_grid,cv=5);\n",
    "rfc1.fit(xtrain,ytrain);\n",
    "print(\"best_params_\",rfc1.best_params_);\n",
    "print(\"best_score_\",rfc1.best_score_);\n"
   ]
  },
  {
   "cell_type": "markdown",
   "id": "28f603b3",
   "metadata": {},
   "source": [
    "增长了0.003左右\n",
    "我们继续在以上两个值的基础上 调一下min_samples_leaf"
   ]
  },
  {
   "cell_type": "code",
   "execution_count": 30,
   "id": "c2288d29",
   "metadata": {},
   "outputs": [
    {
     "name": "stdout",
     "output_type": "stream",
     "text": [
      "best_params_ {'max_depth': 24, 'min_samples_leaf': 2, 'n_estimators': 79}\n",
      "best_score_ 0.8075677897460075\n"
     ]
    }
   ],
   "source": [
    "param_grid = {'n_estimators':[79],'max_depth':[24],'min_samples_leaf':range(1,10,1)};\n",
    "rfc1 = model_selection.GridSearchCV(RandomForestClassifier(),param_grid=param_grid,cv=5);\n",
    "rfc1.fit(xtrain,ytrain);\n",
    "print(\"best_params_\",rfc1.best_params_);\n",
    "print(\"best_score_\",rfc1.best_score_);\n"
   ]
  },
  {
   "cell_type": "markdown",
   "id": "410d2c18",
   "metadata": {},
   "source": [
    "可以看到调优之后 反而没有原来的好，那基本就说明 调优之后复杂度减少反而不好 所以我们就增大特征来看看 让复杂度增大试试看"
   ]
  },
  {
   "cell_type": "code",
   "execution_count": 31,
   "id": "b2182b11",
   "metadata": {},
   "outputs": [
    {
     "name": "stdout",
     "output_type": "stream",
     "text": [
      "best_params_ {'max_depth': 24, 'max_features': 4, 'n_estimators': 79}\n",
      "best_score_ 0.8088852621525889\n"
     ]
    }
   ],
   "source": [
    "param_grid = {'n_estimators':[79],'max_depth':[24],'max_features':range(3,10,1)};\n",
    "rfc1 = model_selection.GridSearchCV(RandomForestClassifier(),param_grid=param_grid,cv=5);\n",
    "rfc1.fit(xtrain,ytrain);\n",
    "print(\"best_params_\",rfc1.best_params_);\n",
    "print(\"best_score_\",rfc1.best_score_);\n"
   ]
  },
  {
   "cell_type": "markdown",
   "id": "48cdf9cd",
   "metadata": {},
   "source": [
    "还是比上一个少了\n",
    "那n_estimators’=79，‘max_depth’=24 基本就可以了\n",
    "我们用这两个参数 训练预测一下看看结果如何\n",
    "\n",
    "oob_score=true 因为随机森林是随机取样的 所以总有一些样本没有取到，那么我们不能浪费啊 可以使用那些没有取到的样本对训练出来的模型进行评估"
   ]
  },
  {
   "cell_type": "code",
   "execution_count": 34,
   "id": "6bbe9bbb",
   "metadata": {},
   "outputs": [
    {
     "name": "stdout",
     "output_type": "stream",
     "text": [
      "oob_score 0.8247195953375852\n",
      "score 0.8225641025641026\n"
     ]
    }
   ],
   "source": [
    "rfc = RandomForestClassifier(n_estimators=79,max_depth=24,oob_score=True,random_state=1)\n",
    "rfc.fit(xtrain,ytrain)\n",
    "print(\"oob_score\",rfc.oob_score_)\n",
    "print(\"score\",rfc.score(xtest,ytext))\n",
    "array = rfc.feature_importances_"
   ]
  },
  {
   "cell_type": "markdown",
   "id": "ca7d241c",
   "metadata": {},
   "source": [
    "最终模型预测在百分之80 左右"
   ]
  },
  {
   "cell_type": "code",
   "execution_count": 99,
   "id": "7aae0a52",
   "metadata": {},
   "outputs": [],
   "source": [
    "# from sklearn import tree"
   ]
  },
  {
   "cell_type": "code",
   "execution_count": 100,
   "id": "b41735ce",
   "metadata": {},
   "outputs": [
    {
     "name": "stdout",
     "output_type": "stream",
     "text": [
      "      fixed acidity  volatile acidity  citric acid  residual sugar  chlorides  \\\n",
      "0               7.4              0.70         0.00             1.9      0.076   \n",
      "1               7.8              0.88         0.00             2.6      0.098   \n",
      "2               7.8              0.76         0.04             2.3      0.092   \n",
      "3              11.2              0.28         0.56             1.9      0.075   \n",
      "4               7.4              0.70         0.00             1.9      0.076   \n",
      "...             ...               ...          ...             ...        ...   \n",
      "4893            6.2              0.21         0.29             1.6      0.039   \n",
      "4894            6.6              0.32         0.36             8.0      0.047   \n",
      "4895            6.5              0.24         0.19             1.2      0.041   \n",
      "4896            5.5              0.29         0.30             1.1      0.022   \n",
      "4897            6.0              0.21         0.38             0.8      0.020   \n",
      "\n",
      "      free sulfur dioxide  total sulfur dioxide  density    pH  sulphates  \\\n",
      "0                    11.0                  34.0  0.99780  3.51       0.56   \n",
      "1                    25.0                  67.0  0.99680  3.20       0.68   \n",
      "2                    15.0                  54.0  0.99700  3.26       0.65   \n",
      "3                    17.0                  60.0  0.99800  3.16       0.58   \n",
      "4                    11.0                  34.0  0.99780  3.51       0.56   \n",
      "...                   ...                   ...      ...   ...        ...   \n",
      "4893                 24.0                  92.0  0.99114  3.27       0.50   \n",
      "4894                 57.0                 168.0  0.99490  3.15       0.46   \n",
      "4895                 30.0                 111.0  0.99254  2.99       0.46   \n",
      "4896                 20.0                 110.0  0.98869  3.34       0.38   \n",
      "4897                 22.0                  98.0  0.98941  3.26       0.32   \n",
      "\n",
      "      alcohol  quality  type  \n",
      "0         9.4        5     1  \n",
      "1         9.8        5     1  \n",
      "2         9.8        5     1  \n",
      "3         9.8        6     1  \n",
      "4         9.4        5     1  \n",
      "...       ...      ...   ...  \n",
      "4893     11.2        6     2  \n",
      "4894      9.6        5     2  \n",
      "4895      9.4        6     2  \n",
      "4896     12.8        7     2  \n",
      "4897     11.8        6     2  \n",
      "\n",
      "[6497 rows x 13 columns]\n"
     ]
    },
    {
     "data": {
      "text/html": [
       "<div>\n",
       "<style scoped>\n",
       "    .dataframe tbody tr th:only-of-type {\n",
       "        vertical-align: middle;\n",
       "    }\n",
       "\n",
       "    .dataframe tbody tr th {\n",
       "        vertical-align: top;\n",
       "    }\n",
       "\n",
       "    .dataframe thead th {\n",
       "        text-align: right;\n",
       "    }\n",
       "</style>\n",
       "<table border=\"1\" class=\"dataframe\">\n",
       "  <thead>\n",
       "    <tr style=\"text-align: right;\">\n",
       "      <th></th>\n",
       "      <th>fixed acidity</th>\n",
       "      <th>volatile acidity</th>\n",
       "      <th>citric acid</th>\n",
       "      <th>residual sugar</th>\n",
       "      <th>chlorides</th>\n",
       "      <th>free sulfur dioxide</th>\n",
       "      <th>total sulfur dioxide</th>\n",
       "      <th>density</th>\n",
       "      <th>pH</th>\n",
       "      <th>sulphates</th>\n",
       "      <th>alcohol</th>\n",
       "      <th>type</th>\n",
       "      <th>quality</th>\n",
       "    </tr>\n",
       "  </thead>\n",
       "  <tbody>\n",
       "    <tr>\n",
       "      <th>0</th>\n",
       "      <td>7.4</td>\n",
       "      <td>0.70</td>\n",
       "      <td>0.00</td>\n",
       "      <td>1.9</td>\n",
       "      <td>0.076</td>\n",
       "      <td>11.0</td>\n",
       "      <td>34.0</td>\n",
       "      <td>0.99780</td>\n",
       "      <td>3.51</td>\n",
       "      <td>0.56</td>\n",
       "      <td>9.4</td>\n",
       "      <td>1</td>\n",
       "      <td>5</td>\n",
       "    </tr>\n",
       "    <tr>\n",
       "      <th>1</th>\n",
       "      <td>7.8</td>\n",
       "      <td>0.88</td>\n",
       "      <td>0.00</td>\n",
       "      <td>2.6</td>\n",
       "      <td>0.098</td>\n",
       "      <td>25.0</td>\n",
       "      <td>67.0</td>\n",
       "      <td>0.99680</td>\n",
       "      <td>3.20</td>\n",
       "      <td>0.68</td>\n",
       "      <td>9.8</td>\n",
       "      <td>1</td>\n",
       "      <td>5</td>\n",
       "    </tr>\n",
       "    <tr>\n",
       "      <th>2</th>\n",
       "      <td>7.8</td>\n",
       "      <td>0.76</td>\n",
       "      <td>0.04</td>\n",
       "      <td>2.3</td>\n",
       "      <td>0.092</td>\n",
       "      <td>15.0</td>\n",
       "      <td>54.0</td>\n",
       "      <td>0.99700</td>\n",
       "      <td>3.26</td>\n",
       "      <td>0.65</td>\n",
       "      <td>9.8</td>\n",
       "      <td>1</td>\n",
       "      <td>5</td>\n",
       "    </tr>\n",
       "    <tr>\n",
       "      <th>3</th>\n",
       "      <td>11.2</td>\n",
       "      <td>0.28</td>\n",
       "      <td>0.56</td>\n",
       "      <td>1.9</td>\n",
       "      <td>0.075</td>\n",
       "      <td>17.0</td>\n",
       "      <td>60.0</td>\n",
       "      <td>0.99800</td>\n",
       "      <td>3.16</td>\n",
       "      <td>0.58</td>\n",
       "      <td>9.8</td>\n",
       "      <td>1</td>\n",
       "      <td>6</td>\n",
       "    </tr>\n",
       "    <tr>\n",
       "      <th>4</th>\n",
       "      <td>7.4</td>\n",
       "      <td>0.70</td>\n",
       "      <td>0.00</td>\n",
       "      <td>1.9</td>\n",
       "      <td>0.076</td>\n",
       "      <td>11.0</td>\n",
       "      <td>34.0</td>\n",
       "      <td>0.99780</td>\n",
       "      <td>3.51</td>\n",
       "      <td>0.56</td>\n",
       "      <td>9.4</td>\n",
       "      <td>1</td>\n",
       "      <td>5</td>\n",
       "    </tr>\n",
       "    <tr>\n",
       "      <th>...</th>\n",
       "      <td>...</td>\n",
       "      <td>...</td>\n",
       "      <td>...</td>\n",
       "      <td>...</td>\n",
       "      <td>...</td>\n",
       "      <td>...</td>\n",
       "      <td>...</td>\n",
       "      <td>...</td>\n",
       "      <td>...</td>\n",
       "      <td>...</td>\n",
       "      <td>...</td>\n",
       "      <td>...</td>\n",
       "      <td>...</td>\n",
       "    </tr>\n",
       "    <tr>\n",
       "      <th>4893</th>\n",
       "      <td>6.2</td>\n",
       "      <td>0.21</td>\n",
       "      <td>0.29</td>\n",
       "      <td>1.6</td>\n",
       "      <td>0.039</td>\n",
       "      <td>24.0</td>\n",
       "      <td>92.0</td>\n",
       "      <td>0.99114</td>\n",
       "      <td>3.27</td>\n",
       "      <td>0.50</td>\n",
       "      <td>11.2</td>\n",
       "      <td>2</td>\n",
       "      <td>6</td>\n",
       "    </tr>\n",
       "    <tr>\n",
       "      <th>4894</th>\n",
       "      <td>6.6</td>\n",
       "      <td>0.32</td>\n",
       "      <td>0.36</td>\n",
       "      <td>8.0</td>\n",
       "      <td>0.047</td>\n",
       "      <td>57.0</td>\n",
       "      <td>168.0</td>\n",
       "      <td>0.99490</td>\n",
       "      <td>3.15</td>\n",
       "      <td>0.46</td>\n",
       "      <td>9.6</td>\n",
       "      <td>2</td>\n",
       "      <td>5</td>\n",
       "    </tr>\n",
       "    <tr>\n",
       "      <th>4895</th>\n",
       "      <td>6.5</td>\n",
       "      <td>0.24</td>\n",
       "      <td>0.19</td>\n",
       "      <td>1.2</td>\n",
       "      <td>0.041</td>\n",
       "      <td>30.0</td>\n",
       "      <td>111.0</td>\n",
       "      <td>0.99254</td>\n",
       "      <td>2.99</td>\n",
       "      <td>0.46</td>\n",
       "      <td>9.4</td>\n",
       "      <td>2</td>\n",
       "      <td>6</td>\n",
       "    </tr>\n",
       "    <tr>\n",
       "      <th>4896</th>\n",
       "      <td>5.5</td>\n",
       "      <td>0.29</td>\n",
       "      <td>0.30</td>\n",
       "      <td>1.1</td>\n",
       "      <td>0.022</td>\n",
       "      <td>20.0</td>\n",
       "      <td>110.0</td>\n",
       "      <td>0.98869</td>\n",
       "      <td>3.34</td>\n",
       "      <td>0.38</td>\n",
       "      <td>12.8</td>\n",
       "      <td>2</td>\n",
       "      <td>7</td>\n",
       "    </tr>\n",
       "    <tr>\n",
       "      <th>4897</th>\n",
       "      <td>6.0</td>\n",
       "      <td>0.21</td>\n",
       "      <td>0.38</td>\n",
       "      <td>0.8</td>\n",
       "      <td>0.020</td>\n",
       "      <td>22.0</td>\n",
       "      <td>98.0</td>\n",
       "      <td>0.98941</td>\n",
       "      <td>3.26</td>\n",
       "      <td>0.32</td>\n",
       "      <td>11.8</td>\n",
       "      <td>2</td>\n",
       "      <td>6</td>\n",
       "    </tr>\n",
       "  </tbody>\n",
       "</table>\n",
       "<p>6497 rows × 13 columns</p>\n",
       "</div>"
      ],
      "text/plain": [
       "      fixed acidity  volatile acidity  citric acid  residual sugar  chlorides  \\\n",
       "0               7.4              0.70         0.00             1.9      0.076   \n",
       "1               7.8              0.88         0.00             2.6      0.098   \n",
       "2               7.8              0.76         0.04             2.3      0.092   \n",
       "3              11.2              0.28         0.56             1.9      0.075   \n",
       "4               7.4              0.70         0.00             1.9      0.076   \n",
       "...             ...               ...          ...             ...        ...   \n",
       "4893            6.2              0.21         0.29             1.6      0.039   \n",
       "4894            6.6              0.32         0.36             8.0      0.047   \n",
       "4895            6.5              0.24         0.19             1.2      0.041   \n",
       "4896            5.5              0.29         0.30             1.1      0.022   \n",
       "4897            6.0              0.21         0.38             0.8      0.020   \n",
       "\n",
       "      free sulfur dioxide  total sulfur dioxide  density    pH  sulphates  \\\n",
       "0                    11.0                  34.0  0.99780  3.51       0.56   \n",
       "1                    25.0                  67.0  0.99680  3.20       0.68   \n",
       "2                    15.0                  54.0  0.99700  3.26       0.65   \n",
       "3                    17.0                  60.0  0.99800  3.16       0.58   \n",
       "4                    11.0                  34.0  0.99780  3.51       0.56   \n",
       "...                   ...                   ...      ...   ...        ...   \n",
       "4893                 24.0                  92.0  0.99114  3.27       0.50   \n",
       "4894                 57.0                 168.0  0.99490  3.15       0.46   \n",
       "4895                 30.0                 111.0  0.99254  2.99       0.46   \n",
       "4896                 20.0                 110.0  0.98869  3.34       0.38   \n",
       "4897                 22.0                  98.0  0.98941  3.26       0.32   \n",
       "\n",
       "      alcohol  type  quality  \n",
       "0         9.4     1        5  \n",
       "1         9.8     1        5  \n",
       "2         9.8     1        5  \n",
       "3         9.8     1        6  \n",
       "4         9.4     1        5  \n",
       "...       ...   ...      ...  \n",
       "4893     11.2     2        6  \n",
       "4894      9.6     2        5  \n",
       "4895      9.4     2        6  \n",
       "4896     12.8     2        7  \n",
       "4897     11.8     2        6  \n",
       "\n",
       "[6497 rows x 13 columns]"
      ]
     },
     "execution_count": 100,
     "metadata": {},
     "output_type": "execute_result"
    }
   ],
   "source": [
    "# #导入数据集\n",
    "# # 将数据分为训练数据和测试数据\n",
    "# X_train,X_test,Y_train,Y_test = train_test_split(X, Y, test_size=0.01, random_state=0)\n",
    "# ln_x_test = range(len(X_test))\n",
    "\n",
    "# features_name =data\n",
    "# print(features_name)\n",
    "# pd.concat([pd.DataFrame(X),pd.DataFrame(Y)],axis=1)\n",
    "# #打印数据\n"
   ]
  },
  {
   "cell_type": "code",
   "execution_count": 101,
   "id": "c9026ddc",
   "metadata": {},
   "outputs": [],
   "source": [
    "# #划分数据集，数据集划分为测试集占20%；\n",
    "# x_train, x_test, y_train, y_test = train_test_split(\n",
    "#         X, Y,test_size=0.2)\n",
    "# # print(x_train.shape)    #(142, 13)\n",
    "# # print(x_test.shape)     #(36, 13)\n"
   ]
  },
  {
   "cell_type": "code",
   "execution_count": 103,
   "id": "7c04cddf",
   "metadata": {},
   "outputs": [
    {
     "name": "stdout",
     "output_type": "stream",
     "text": [
      "准确率为: 0.6323076923076923\n"
     ]
    }
   ],
   "source": [
    "# #采用C4.5算法进行计算\n",
    "# #获取模型\n",
    "# model = tree.DecisionTreeClassifier(criterion=\"entropy\",splitter=\"best\",max_depth=None,min_samples_split=2,\n",
    "#                                     min_samples_leaf=1,min_weight_fraction_leaf=0.0,max_features=None,\n",
    "#                                     random_state=None,max_leaf_nodes=None,class_weight=None);\n",
    "# model.fit(x_train,y_train)\n",
    "# score = model.score(x_test,y_test)\n",
    "# y_predict = model.predict(x_test)\n",
    "# print('准确率为:',score)\n",
    "# #准确率为: 0.9444444444444444\n"
   ]
  },
  {
   "cell_type": "code",
   "execution_count": 104,
   "id": "8af791f0",
   "metadata": {},
   "outputs": [
    {
     "data": {
      "text/html": [
       "<div>\n",
       "<style scoped>\n",
       "    .dataframe tbody tr th:only-of-type {\n",
       "        vertical-align: middle;\n",
       "    }\n",
       "\n",
       "    .dataframe tbody tr th {\n",
       "        vertical-align: top;\n",
       "    }\n",
       "\n",
       "    .dataframe thead th {\n",
       "        text-align: right;\n",
       "    }\n",
       "</style>\n",
       "<table border=\"1\" class=\"dataframe\">\n",
       "  <thead>\n",
       "    <tr style=\"text-align: right;\">\n",
       "      <th></th>\n",
       "      <th>alcohol</th>\n",
       "      <th>chlorides</th>\n",
       "      <th>citric acid</th>\n",
       "      <th>density</th>\n",
       "      <th>fixed acidity</th>\n",
       "      <th>free sulfur dioxide</th>\n",
       "      <th>pH</th>\n",
       "      <th>quality</th>\n",
       "      <th>residual sugar</th>\n",
       "      <th>sulphates</th>\n",
       "      <th>total sulfur dioxide</th>\n",
       "      <th>type</th>\n",
       "      <th>volatile acidity</th>\n",
       "      <th>0</th>\n",
       "    </tr>\n",
       "  </thead>\n",
       "  <tbody>\n",
       "    <tr>\n",
       "      <th>798</th>\n",
       "      <td>9.4</td>\n",
       "      <td>0.041</td>\n",
       "      <td>0.24</td>\n",
       "      <td>0.99445</td>\n",
       "      <td>5.4</td>\n",
       "      <td>30.0</td>\n",
       "      <td>3.42</td>\n",
       "      <td>NaN</td>\n",
       "      <td>4.8</td>\n",
       "      <td>0.40</td>\n",
       "      <td>113.0</td>\n",
       "      <td>2.0</td>\n",
       "      <td>0.18</td>\n",
       "      <td>NaN</td>\n",
       "    </tr>\n",
       "    <tr>\n",
       "      <th>1073</th>\n",
       "      <td>10.7</td>\n",
       "      <td>0.088</td>\n",
       "      <td>0.33</td>\n",
       "      <td>0.99720</td>\n",
       "      <td>8.0</td>\n",
       "      <td>16.0</td>\n",
       "      <td>3.31</td>\n",
       "      <td>NaN</td>\n",
       "      <td>2.7</td>\n",
       "      <td>0.58</td>\n",
       "      <td>37.0</td>\n",
       "      <td>1.0</td>\n",
       "      <td>0.62</td>\n",
       "      <td>NaN</td>\n",
       "    </tr>\n",
       "    <tr>\n",
       "      <th>4732</th>\n",
       "      <td>11.7</td>\n",
       "      <td>0.031</td>\n",
       "      <td>0.38</td>\n",
       "      <td>0.99321</td>\n",
       "      <td>5.3</td>\n",
       "      <td>53.0</td>\n",
       "      <td>3.34</td>\n",
       "      <td>NaN</td>\n",
       "      <td>10.5</td>\n",
       "      <td>0.46</td>\n",
       "      <td>140.0</td>\n",
       "      <td>2.0</td>\n",
       "      <td>0.31</td>\n",
       "      <td>NaN</td>\n",
       "    </tr>\n",
       "    <tr>\n",
       "      <th>3258</th>\n",
       "      <td>9.2</td>\n",
       "      <td>0.045</td>\n",
       "      <td>0.31</td>\n",
       "      <td>0.99860</td>\n",
       "      <td>7.4</td>\n",
       "      <td>39.0</td>\n",
       "      <td>3.10</td>\n",
       "      <td>NaN</td>\n",
       "      <td>14.5</td>\n",
       "      <td>0.50</td>\n",
       "      <td>193.0</td>\n",
       "      <td>2.0</td>\n",
       "      <td>0.19</td>\n",
       "      <td>NaN</td>\n",
       "    </tr>\n",
       "    <tr>\n",
       "      <th>1221</th>\n",
       "      <td>12.5</td>\n",
       "      <td>0.034</td>\n",
       "      <td>0.32</td>\n",
       "      <td>0.99200</td>\n",
       "      <td>5.9</td>\n",
       "      <td>50.0</td>\n",
       "      <td>3.51</td>\n",
       "      <td>NaN</td>\n",
       "      <td>6.0</td>\n",
       "      <td>0.58</td>\n",
       "      <td>127.0</td>\n",
       "      <td>2.0</td>\n",
       "      <td>0.40</td>\n",
       "      <td>NaN</td>\n",
       "    </tr>\n",
       "    <tr>\n",
       "      <th>...</th>\n",
       "      <td>...</td>\n",
       "      <td>...</td>\n",
       "      <td>...</td>\n",
       "      <td>...</td>\n",
       "      <td>...</td>\n",
       "      <td>...</td>\n",
       "      <td>...</td>\n",
       "      <td>...</td>\n",
       "      <td>...</td>\n",
       "      <td>...</td>\n",
       "      <td>...</td>\n",
       "      <td>...</td>\n",
       "      <td>...</td>\n",
       "      <td>...</td>\n",
       "    </tr>\n",
       "    <tr>\n",
       "      <th>1295</th>\n",
       "      <td>NaN</td>\n",
       "      <td>NaN</td>\n",
       "      <td>NaN</td>\n",
       "      <td>NaN</td>\n",
       "      <td>NaN</td>\n",
       "      <td>NaN</td>\n",
       "      <td>NaN</td>\n",
       "      <td>NaN</td>\n",
       "      <td>NaN</td>\n",
       "      <td>NaN</td>\n",
       "      <td>NaN</td>\n",
       "      <td>NaN</td>\n",
       "      <td>NaN</td>\n",
       "      <td>6.0</td>\n",
       "    </tr>\n",
       "    <tr>\n",
       "      <th>1296</th>\n",
       "      <td>NaN</td>\n",
       "      <td>NaN</td>\n",
       "      <td>NaN</td>\n",
       "      <td>NaN</td>\n",
       "      <td>NaN</td>\n",
       "      <td>NaN</td>\n",
       "      <td>NaN</td>\n",
       "      <td>NaN</td>\n",
       "      <td>NaN</td>\n",
       "      <td>NaN</td>\n",
       "      <td>NaN</td>\n",
       "      <td>NaN</td>\n",
       "      <td>NaN</td>\n",
       "      <td>7.0</td>\n",
       "    </tr>\n",
       "    <tr>\n",
       "      <th>1297</th>\n",
       "      <td>NaN</td>\n",
       "      <td>NaN</td>\n",
       "      <td>NaN</td>\n",
       "      <td>NaN</td>\n",
       "      <td>NaN</td>\n",
       "      <td>NaN</td>\n",
       "      <td>NaN</td>\n",
       "      <td>NaN</td>\n",
       "      <td>NaN</td>\n",
       "      <td>NaN</td>\n",
       "      <td>NaN</td>\n",
       "      <td>NaN</td>\n",
       "      <td>NaN</td>\n",
       "      <td>5.0</td>\n",
       "    </tr>\n",
       "    <tr>\n",
       "      <th>1298</th>\n",
       "      <td>NaN</td>\n",
       "      <td>NaN</td>\n",
       "      <td>NaN</td>\n",
       "      <td>NaN</td>\n",
       "      <td>NaN</td>\n",
       "      <td>NaN</td>\n",
       "      <td>NaN</td>\n",
       "      <td>NaN</td>\n",
       "      <td>NaN</td>\n",
       "      <td>NaN</td>\n",
       "      <td>NaN</td>\n",
       "      <td>NaN</td>\n",
       "      <td>NaN</td>\n",
       "      <td>5.0</td>\n",
       "    </tr>\n",
       "    <tr>\n",
       "      <th>1299</th>\n",
       "      <td>NaN</td>\n",
       "      <td>NaN</td>\n",
       "      <td>NaN</td>\n",
       "      <td>NaN</td>\n",
       "      <td>NaN</td>\n",
       "      <td>NaN</td>\n",
       "      <td>NaN</td>\n",
       "      <td>NaN</td>\n",
       "      <td>NaN</td>\n",
       "      <td>NaN</td>\n",
       "      <td>NaN</td>\n",
       "      <td>NaN</td>\n",
       "      <td>NaN</td>\n",
       "      <td>5.0</td>\n",
       "    </tr>\n",
       "  </tbody>\n",
       "</table>\n",
       "<p>3900 rows × 14 columns</p>\n",
       "</div>"
      ],
      "text/plain": [
       "      alcohol  chlorides  citric acid  density  fixed acidity  \\\n",
       "798       9.4      0.041         0.24  0.99445            5.4   \n",
       "1073     10.7      0.088         0.33  0.99720            8.0   \n",
       "4732     11.7      0.031         0.38  0.99321            5.3   \n",
       "3258      9.2      0.045         0.31  0.99860            7.4   \n",
       "1221     12.5      0.034         0.32  0.99200            5.9   \n",
       "...       ...        ...          ...      ...            ...   \n",
       "1295      NaN        NaN          NaN      NaN            NaN   \n",
       "1296      NaN        NaN          NaN      NaN            NaN   \n",
       "1297      NaN        NaN          NaN      NaN            NaN   \n",
       "1298      NaN        NaN          NaN      NaN            NaN   \n",
       "1299      NaN        NaN          NaN      NaN            NaN   \n",
       "\n",
       "      free sulfur dioxide    pH  quality  residual sugar  sulphates  \\\n",
       "798                  30.0  3.42      NaN             4.8       0.40   \n",
       "1073                 16.0  3.31      NaN             2.7       0.58   \n",
       "4732                 53.0  3.34      NaN            10.5       0.46   \n",
       "3258                 39.0  3.10      NaN            14.5       0.50   \n",
       "1221                 50.0  3.51      NaN             6.0       0.58   \n",
       "...                   ...   ...      ...             ...        ...   \n",
       "1295                  NaN   NaN      NaN             NaN        NaN   \n",
       "1296                  NaN   NaN      NaN             NaN        NaN   \n",
       "1297                  NaN   NaN      NaN             NaN        NaN   \n",
       "1298                  NaN   NaN      NaN             NaN        NaN   \n",
       "1299                  NaN   NaN      NaN             NaN        NaN   \n",
       "\n",
       "      total sulfur dioxide  type  volatile acidity    0  \n",
       "798                  113.0   2.0              0.18  NaN  \n",
       "1073                  37.0   1.0              0.62  NaN  \n",
       "4732                 140.0   2.0              0.31  NaN  \n",
       "3258                 193.0   2.0              0.19  NaN  \n",
       "1221                 127.0   2.0              0.40  NaN  \n",
       "...                    ...   ...               ...  ...  \n",
       "1295                   NaN   NaN               NaN  6.0  \n",
       "1296                   NaN   NaN               NaN  7.0  \n",
       "1297                   NaN   NaN               NaN  5.0  \n",
       "1298                   NaN   NaN               NaN  5.0  \n",
       "1299                   NaN   NaN               NaN  5.0  \n",
       "\n",
       "[3900 rows x 14 columns]"
      ]
     },
     "execution_count": 104,
     "metadata": {},
     "output_type": "execute_result"
    }
   ],
   "source": [
    "# pd.concat([pd.DataFrame(x_test),pd.DataFrame(y_test),pd.DataFrame(y_predict)],axis=0)\n",
    "# #打印数据,对测试集的预测类别标签和真实标签进行对比\n"
   ]
  },
  {
   "cell_type": "code",
   "execution_count": 105,
   "id": "e6629b58",
   "metadata": {},
   "outputs": [
    {
     "name": "stdout",
     "output_type": "stream",
     "text": [
      "准确率为: 0.6138461538461538\n"
     ]
    }
   ],
   "source": [
    "# #采用CART算法进行计算\n",
    "# #获取模型\n",
    "# model = tree.DecisionTreeClassifier(criterion=\"gini\",splitter=\"best\",max_depth=None,min_samples_split=2,\n",
    "#                                     min_samples_leaf=1,min_weight_fraction_leaf=0.0,max_features=None,\n",
    "#                                     random_state=None,max_leaf_nodes=None,class_weight=None);\n",
    "# model.fit(x_train,y_train)\n",
    "# score = model.score(x_test,y_test)\n",
    "# y_predict = model.predict(x_test)\n",
    "# print('准确率为:',score)\n",
    "# #准确率为: 1.0\n"
   ]
  },
  {
   "cell_type": "markdown",
   "id": "83865bff",
   "metadata": {},
   "source": [
    "## 六、数据可视化"
   ]
  },
  {
   "cell_type": "code",
   "execution_count": 35,
   "id": "4a3f5b3f",
   "metadata": {},
   "outputs": [
    {
     "data": {
      "image/png": "[encoded data removed]",
      "text/plain": [
       "<Figure size 432x288 with 16 Axes>"
      ]
     },
     "metadata": {
      "needs_background": "light"
     },
     "output_type": "display_data"
    }
   ],
   "source": [
    "data.hist();#直方图\n",
    "plt.show();"
   ]
  },
  {
   "cell_type": "markdown",
   "id": "c5232daa",
   "metadata": {},
   "source": [
    "可以看出quality 数值主要在5，6附近 我们可以以5为分界点"
   ]
  },
  {
   "cell_type": "code",
   "execution_count": 36,
   "id": "6b81130a",
   "metadata": {},
   "outputs": [
    {
     "data": {
      "image/png": "[encoded data removed]",
      "text/plain": [
       "<Figure size 432x288 with 2 Axes>"
      ]
     },
     "metadata": {
      "needs_background": "light"
     },
     "output_type": "display_data"
    }
   ],
   "source": [
    "#变量的相关性 展示\n",
    "sns.heatmap(data.astype(float).corr(),linewidths=0.1,vmax=1.0, square=True,linecolor='white', annot=True)\n",
    "plt.show();"
   ]
  },
  {
   "cell_type": "code",
   "execution_count": 59,
   "id": "2b13396d",
   "metadata": {},
   "outputs": [
    {
     "data": {
      "text/plain": [
       "<AxesSubplot:>"
      ]
     },
     "execution_count": 59,
     "metadata": {},
     "output_type": "execute_result"
    },
    {
     "data": {
      "image/png": "[encoded data removed]",
      "text/plain": [
       "<Figure size 432x288 with 1 Axes>"
      ]
     },
     "metadata": {
      "needs_background": "light"
     },
     "output_type": "display_data"
    }
   ],
   "source": [
    "data['citric acid'].hist()"
   ]
  },
  {
   "cell_type": "markdown",
   "id": "800ca7ad",
   "metadata": {},
   "source": [
    "展示了连续型变量的分布"
   ]
  },
  {
   "cell_type": "code",
   "execution_count": 39,
   "id": "6086c31c",
   "metadata": {},
   "outputs": [
    {
     "data": {
      "text/plain": [
       "<AxesSubplot:>"
      ]
     },
     "execution_count": 39,
     "metadata": {},
     "output_type": "execute_result"
    },
    {
     "data": {
      "image/png": "[encoded data removed]",
      "text/plain": [
       "<Figure size 432x288 with 1 Axes>"
      ]
     },
     "metadata": {
      "needs_background": "light"
     },
     "output_type": "display_data"
    }
   ],
   "source": [
    "data['total sulfur dioxide'].hist()"
   ]
  },
  {
   "cell_type": "code",
   "execution_count": 40,
   "id": "57d9e42d",
   "metadata": {},
   "outputs": [
    {
     "data": {
      "text/plain": [
       "<AxesSubplot:>"
      ]
     },
     "execution_count": 40,
     "metadata": {},
     "output_type": "execute_result"
    },
    {
     "data": {
      "image/png": "[encoded data removed]",
      "text/plain": [
       "<Figure size 432x288 with 1 Axes>"
      ]
     },
     "metadata": {
      "needs_background": "light"
     },
     "output_type": "display_data"
    }
   ],
   "source": [
    "data['alcohol'].hist()"
   ]
  },
  {
   "cell_type": "code",
   "execution_count": 41,
   "id": "1fbc6dd5",
   "metadata": {},
   "outputs": [
    {
     "data": {
      "text/plain": [
       "<AxesSubplot:>"
      ]
     },
     "execution_count": 41,
     "metadata": {},
     "output_type": "execute_result"
    },
    {
     "data": {
      "image/png": "[encoded data removed]",
      "text/plain": [
       "<Figure size 432x288 with 1 Axes>"
      ]
     },
     "metadata": {
      "needs_background": "light"
     },
     "output_type": "display_data"
    }
   ],
   "source": [
    "data['pH'].hist()"
   ]
  },
  {
   "cell_type": "markdown",
   "id": "75693d50",
   "metadata": {},
   "source": [
    "固定酸度、pH值和酒精度出现了右偏态。"
   ]
  },
  {
   "cell_type": "code",
   "execution_count": 42,
   "id": "7534608c",
   "metadata": {},
   "outputs": [
    {
     "data": {
      "text/plain": [
       "<AxesSubplot:>"
      ]
     },
     "execution_count": 42,
     "metadata": {},
     "output_type": "execute_result"
    },
    {
     "data": {
      "image/png": "[encoded data removed]",
      "text/plain": [
       "<Figure size 432x288 with 1 Axes>"
      ]
     },
     "metadata": {
      "needs_background": "light"
     },
     "output_type": "display_data"
    }
   ],
   "source": [
    "data['alcohol'].value_counts().sort_index().plot.line()"
   ]
  },
  {
   "cell_type": "code",
   "execution_count": 47,
   "id": "3029f038",
   "metadata": {},
   "outputs": [
    {
     "data": {
      "text/plain": [
       "<AxesSubplot:>"
      ]
     },
     "execution_count": 47,
     "metadata": {},
     "output_type": "execute_result"
    },
    {
     "data": {
      "image/png": "[encoded data removed]",
      "text/plain": [
       "<Figure size 432x288 with 1 Axes>"
      ]
     },
     "metadata": {
      "needs_background": "light"
     },
     "output_type": "display_data"
    }
   ],
   "source": [
    "data['quality'].value_counts().sort_index().plot.area()"
   ]
  },
  {
   "cell_type": "code",
   "execution_count": 44,
   "id": "5cefc174",
   "metadata": {},
   "outputs": [
    {
     "data": {
      "text/plain": [
       "<AxesSubplot:title={'center':'type'}, ylabel='type'>"
      ]
     },
     "execution_count": 44,
     "metadata": {},
     "output_type": "execute_result"
    },
    {
     "data": {
      "image/png": "[encoded data removed]",
      "text/plain": [
       "<Figure size 432x288 with 1 Axes>"
      ]
     },
     "metadata": {},
     "output_type": "display_data"
    }
   ],
   "source": [
    "data['type'].value_counts().plot(kind='pie',counterclock=True,startangle=90,\n",
    "                                           legend=False,title='type')"
   ]
  },
  {
   "cell_type": "markdown",
   "id": "d9b8cf33",
   "metadata": {},
   "source": [
    "用饼状图表示红葡萄酒与白葡萄酒之间的占比关系"
   ]
  },
  {
   "cell_type": "code",
   "execution_count": 45,
   "id": "70b14bd7",
   "metadata": {},
   "outputs": [
    {
     "data": {
      "text/plain": [
       "<AxesSubplot:xlabel='fixed acidity', ylabel='alcohol'>"
      ]
     },
     "execution_count": 45,
     "metadata": {},
     "output_type": "execute_result"
    },
    {
     "data": {
      "image/png": "[encoded data removed]",
      "text/plain": [
       "<Figure size 432x288 with 1 Axes>"
      ]
     },
     "metadata": {
      "needs_background": "light"
     },
     "output_type": "display_data"
    }
   ],
   "source": [
    "data[data['fixed acidity']<8].plot.scatter(x='fixed acidity',y='alcohol')"
   ]
  },
  {
   "cell_type": "markdown",
   "id": "8a1560e6",
   "metadata": {},
   "source": [
    "看到图中全是点，基本看不出来葡萄酒固定酸度和酒精成分之间的关系。"
   ]
  },
  {
   "cell_type": "code",
   "execution_count": 122,
   "id": "20c75675",
   "metadata": {},
   "outputs": [
    {
     "data": {
      "text/plain": [
       "<AxesSubplot:xlabel='fixed acidity', ylabel='alcohol'>"
      ]
     },
     "execution_count": 122,
     "metadata": {},
     "output_type": "execute_result"
    },
    {
     "data": {
      "image/png": "[encoded data removed]",
      "text/plain": [
       "<Figure size 432x288 with 1 Axes>"
      ]
     },
     "metadata": {
      "needs_background": "light"
     },
     "output_type": "display_data"
    }
   ],
   "source": [
    "data[data['fixed acidity']<8].sample(100).plot.scatter(x='fixed acidity',y='alcohol')"
   ]
  },
  {
   "cell_type": "markdown",
   "id": "3b2040cd",
   "metadata": {},
   "source": [
    "由于散点图不能有效的处理映射相同位置的点，为了更好的表示两者之间的关系，我们需要对数据进行抽样，抽取100个点重新进行展示。"
   ]
  },
  {
   "cell_type": "code",
   "execution_count": 182,
   "id": "9dbc06e3",
   "metadata": {},
   "outputs": [
    {
     "data": {
      "text/plain": [
       "<AxesSubplot:xlabel='alcohol', ylabel='quality'>"
      ]
     },
     "execution_count": 182,
     "metadata": {},
     "output_type": "execute_result"
    },
    {
     "data": {
      "image/png": "[encoded data removed]",
      "text/plain": [
       "<Figure size 432x288 with 1 Axes>"
      ]
     },
     "metadata": {
      "needs_background": "light"
     },
     "output_type": "display_data"
    }
   ],
   "source": [
    "data.plot(x='alcohol',y='quality',kind='scatter')"
   ]
  },
  {
   "cell_type": "markdown",
   "id": "dbdc5c7c",
   "metadata": {},
   "source": [
    "从上图可以看出酒精度越高，质量评分越高。"
   ]
  },
  {
   "cell_type": "code",
   "execution_count": 33,
   "id": "d2524f4c",
   "metadata": {},
   "outputs": [
    {
     "data": {
      "text/plain": [
       "<AxesSubplot:xlabel='fixed acidity', ylabel='quality'>"
      ]
     },
     "execution_count": 33,
     "metadata": {},
     "output_type": "execute_result"
    },
    {
     "data": {
      "image/png": "[encoded data removed]",
      "text/plain": [
       "<Figure size 432x288 with 1 Axes>"
      ]
     },
     "metadata": {
      "needs_background": "light"
     },
     "output_type": "display_data"
    }
   ],
   "source": [
    "data.plot(x='fixed acidity',y='quality',kind='scatter')"
   ]
  },
  {
   "cell_type": "markdown",
   "id": "30c1069a",
   "metadata": {},
   "source": [
    "从上图可以看出固定酸度小，质量评分偏高。"
   ]
  },
  {
   "cell_type": "code",
   "execution_count": 32,
   "id": "531bec80",
   "metadata": {},
   "outputs": [
    {
     "data": {
      "text/plain": [
       "<AxesSubplot:xlabel='citric acid', ylabel='quality'>"
      ]
     },
     "execution_count": 32,
     "metadata": {},
     "output_type": "execute_result"
    },
    {
     "data": {
      "image/png": "[encoded data removed]",
      "text/plain": [
       "<Figure size 432x288 with 1 Axes>"
      ]
     },
     "metadata": {
      "needs_background": "light"
     },
     "output_type": "display_data"
    }
   ],
   "source": [
    "data.plot(x='citric acid',y='quality',kind='scatter')"
   ]
  },
  {
   "cell_type": "code",
   "execution_count": 35,
   "id": "f3e49243",
   "metadata": {},
   "outputs": [
    {
     "data": {
      "text/plain": [
       "<AxesSubplot:xlabel='volatile acidity', ylabel='quality'>"
      ]
     },
     "execution_count": 35,
     "metadata": {},
     "output_type": "execute_result"
    },
    {
     "data": {
      "image/png": "[encoded data removed]",
      "text/plain": [
       "<Figure size 432x288 with 1 Axes>"
      ]
     },
     "metadata": {
      "needs_background": "light"
     },
     "output_type": "display_data"
    }
   ],
   "source": [
    "data.plot(x='volatile acidity',y='quality',kind='scatter')"
   ]
  },
  {
   "cell_type": "code",
   "execution_count": 36,
   "id": "ecab2cc2",
   "metadata": {},
   "outputs": [
    {
     "data": {
      "text/plain": [
       "<AxesSubplot:xlabel='residual sugar', ylabel='quality'>"
      ]
     },
     "execution_count": 36,
     "metadata": {},
     "output_type": "execute_result"
    },
    {
     "data": {
      "image/png": "[encoded data removed]",
      "text/plain": [
       "<Figure size 432x288 with 1 Axes>"
      ]
     },
     "metadata": {
      "needs_background": "light"
     },
     "output_type": "display_data"
    }
   ],
   "source": [
    "data.plot(x='residual sugar',y='quality',kind='scatter')"
   ]
  },
  {
   "cell_type": "markdown",
   "id": "612fd5da",
   "metadata": {},
   "source": [
    "酒精度最有可能对质量产生积极的影响。\n"
   ]
  },
  {
   "cell_type": "markdown",
   "id": "ae8a05e7",
   "metadata": {},
   "source": [
    "\n"
   ]
  },
  {
   "cell_type": "code",
   "execution_count": 150,
   "id": "c9c4a6dc",
   "metadata": {},
   "outputs": [
    {
     "data": {
      "text/plain": [
       "<AxesSubplot:xlabel='fixed acidity', ylabel='alcohol'>"
      ]
     },
     "execution_count": 150,
     "metadata": {},
     "output_type": "execute_result"
    },
    {
     "data": {
      "image/png": "[encoded data removed]",
      "text/plain": [
       "<Figure size 432x288 with 2 Axes>"
      ]
     },
     "metadata": {
      "needs_background": "light"
     },
     "output_type": "display_data"
    }
   ],
   "source": [
    "data[data['fixed acidity']<8].plot.hexbin(x='fixed acidity',y='alcohol',gridsize=15)"
   ]
  },
  {
   "cell_type": "markdown",
   "id": "0b851502",
   "metadata": {},
   "source": [
    "从上图可以看出在固定酸度在小于8的范围里，酒精含量主要集中在9到10之间。"
   ]
  },
  {
   "cell_type": "code",
   "execution_count": 23,
   "id": "4e44d60b",
   "metadata": {},
   "outputs": [
    {
     "name": "stderr",
     "output_type": "stream",
     "text": [
      "D:\\anaconda\\lib\\site-packages\\seaborn\\_decorators.py:36: FutureWarning: Pass the following variable as a keyword arg: x. From version 0.12, the only valid positional argument will be `data`, and passing other arguments without an explicit keyword will result in an error or misinterpretation.\n",
      "  warnings.warn(\n"
     ]
    },
    {
     "data": {
      "text/plain": [
       "<AxesSubplot:xlabel='density'>"
      ]
     },
     "execution_count": 23,
     "metadata": {},
     "output_type": "execute_result"
    },
    {
     "data": {
      "image/png": "[encoded data removed]",
      "text/plain": [
       "<Figure size 432x288 with 1 Axes>"
      ]
     },
     "metadata": {
      "needs_background": "light"
     },
     "output_type": "display_data"
    }
   ],
   "source": [
    "sns.boxplot(data.density)"
   ]
  },
  {
   "cell_type": "markdown",
   "id": "0f5638b8",
   "metadata": {},
   "source": [
    "葡萄酒密度主要分布在0.99到1.00之间。"
   ]
  },
  {
   "cell_type": "code",
   "execution_count": 28,
   "id": "9add4779",
   "metadata": {},
   "outputs": [
    {
     "name": "stderr",
     "output_type": "stream",
     "text": [
      "D:\\anaconda\\lib\\site-packages\\seaborn\\_decorators.py:36: FutureWarning: Pass the following variables as keyword args: x, y, data. From version 0.12, the only valid positional argument will be `data`, and passing other arguments without an explicit keyword will result in an error or misinterpretation.\n",
      "  warnings.warn(\n"
     ]
    },
    {
     "data": {
      "text/plain": [
       "<seaborn.axisgrid.JointGrid at 0x1d087b45790>"
      ]
     },
     "execution_count": 28,
     "metadata": {},
     "output_type": "execute_result"
    },
    {
     "data": {
      "image/png": "[encoded data removed]",
      "text/plain": [
       "<Figure size 432x432 with 3 Axes>"
      ]
     },
     "metadata": {
      "needs_background": "light"
     },
     "output_type": "display_data"
    }
   ],
   "source": [
    "\n",
    "#多变量分布图\n",
    "sns.jointplot('pH','alcohol',data1)"
   ]
  },
  {
   "cell_type": "markdown",
   "id": "81a5e540",
   "metadata": {},
   "source": [
    "中间两变量关系图，上部x轴变量分布边际图，右侧y轴变量分布边际图"
   ]
  },
  {
   "cell_type": "code",
   "execution_count": 30,
   "id": "8b205433",
   "metadata": {},
   "outputs": [
    {
     "name": "stderr",
     "output_type": "stream",
     "text": [
      "D:\\anaconda\\lib\\site-packages\\seaborn\\_decorators.py:36: FutureWarning: Pass the following variables as keyword args: x, y, data. From version 0.12, the only valid positional argument will be `data`, and passing other arguments without an explicit keyword will result in an error or misinterpretation.\n",
      "  warnings.warn(\n"
     ]
    },
    {
     "data": {
      "text/plain": [
       "<seaborn.axisgrid.JointGrid at 0x1d087ad3820>"
      ]
     },
     "execution_count": 30,
     "metadata": {},
     "output_type": "execute_result"
    },
    {
     "data": {
      "image/png": "[encoded data removed]",
      "text/plain": [
       "<Figure size 432x432 with 3 Axes>"
      ]
     },
     "metadata": {
      "needs_background": "light"
     },
     "output_type": "display_data"
    }
   ],
   "source": [
    "#多变量分布图\n",
    "sns.jointplot('quality','fixed acidity',data2)"
   ]
  },
  {
   "cell_type": "code",
   "execution_count": 31,
   "id": "0b1c3f13",
   "metadata": {},
   "outputs": [
    {
     "name": "stderr",
     "output_type": "stream",
     "text": [
      "D:\\anaconda\\lib\\site-packages\\seaborn\\distributions.py:2619: FutureWarning: `distplot` is a deprecated function and will be removed in a future version. Please adapt your code to use either `displot` (a figure-level function with similar flexibility) or `histplot` (an axes-level function for histograms).\n",
      "  warnings.warn(msg, FutureWarning)\n"
     ]
    },
    {
     "data": {
      "text/plain": [
       "<AxesSubplot:xlabel='volatile acidity'>"
      ]
     },
     "execution_count": 31,
     "metadata": {},
     "output_type": "execute_result"
    },
    {
     "data": {
      "image/png": "[encoded data removed]",
      "text/plain": [
       "<Figure size 432x288 with 1 Axes>"
      ]
     },
     "metadata": {
      "needs_background": "light"
     },
     "output_type": "display_data"
    }
   ],
   "source": [
    "#单个特征的分布情况\n",
    "sns.distplot(data['volatile acidity'],kde=False)"
   ]
  },
  {
   "cell_type": "markdown",
   "id": "ac1ac833",
   "metadata": {},
   "source": [
    "挥发性酸度"
   ]
  },
  {
   "cell_type": "code",
   "execution_count": 33,
   "id": "6ac14b99",
   "metadata": {},
   "outputs": [
    {
     "data": {
      "text/plain": [
       "<AxesSubplot:xlabel='citric acid'>"
      ]
     },
     "execution_count": 33,
     "metadata": {},
     "output_type": "execute_result"
    },
    {
     "data": {
      "image/png": "[encoded data removed]",
      "text/plain": [
       "<Figure size 432x288 with 1 Axes>"
      ]
     },
     "metadata": {
      "needs_background": "light"
     },
     "output_type": "display_data"
    }
   ],
   "source": [
    "#单个特征的分布情况\n",
    "sns.distplot(data['citric acid'],kde=False)"
   ]
  },
  {
   "cell_type": "markdown",
   "id": "b1eca2fb",
   "metadata": {},
   "source": [
    "柠檬酸分布"
   ]
  },
  {
   "cell_type": "code",
   "execution_count": 37,
   "id": "6dc8399c",
   "metadata": {},
   "outputs": [
    {
     "data": {
      "image/png": "[encoded data removed]",
      "text/plain": [
       "<Figure size 432x288 with 1 Axes>"
      ]
     },
     "metadata": {},
     "output_type": "display_data"
    }
   ],
   "source": [
    "plt.pie(x=data['quality'].value_counts(),\n",
    "        labels=data['quality'].value_counts().index,\n",
    "        autopct='%.1f%%',\n",
    "        \n",
    "       )\n",
    "plt.title('cesena show')\n",
    "plt.show()"
   ]
  },
  {
   "cell_type": "markdown",
   "id": "c5480ca5",
   "metadata": {},
   "source": [
    "葡萄酒质量评分分布占比图"
   ]
  },
  {
   "cell_type": "code",
   "execution_count": 50,
   "id": "7feb648f",
   "metadata": {},
   "outputs": [
    {
     "data": {
      "text/plain": [
       "<AxesSubplot:title={'center':'关系图'}, xlabel='quality'>"
      ]
     },
     "execution_count": 50,
     "metadata": {},
     "output_type": "execute_result"
    },
    {
     "name": "stderr",
     "output_type": "stream",
     "text": [
      "D:\\anaconda\\lib\\site-packages\\matplotlib\\backends\\backend_agg.py:240: RuntimeWarning: Glyph 20851 missing from current font.\n",
      "  font.set_text(s, 0.0, flags=flags)\n",
      "D:\\anaconda\\lib\\site-packages\\matplotlib\\backends\\backend_agg.py:240: RuntimeWarning: Glyph 31995 missing from current font.\n",
      "  font.set_text(s, 0.0, flags=flags)\n",
      "D:\\anaconda\\lib\\site-packages\\matplotlib\\backends\\backend_agg.py:240: RuntimeWarning: Glyph 22270 missing from current font.\n",
      "  font.set_text(s, 0.0, flags=flags)\n",
      "D:\\anaconda\\lib\\site-packages\\matplotlib\\backends\\backend_agg.py:203: RuntimeWarning: Glyph 20851 missing from current font.\n",
      "  font.set_text(s, 0, flags=flags)\n",
      "D:\\anaconda\\lib\\site-packages\\matplotlib\\backends\\backend_agg.py:203: RuntimeWarning: Glyph 31995 missing from current font.\n",
      "  font.set_text(s, 0, flags=flags)\n",
      "D:\\anaconda\\lib\\site-packages\\matplotlib\\backends\\backend_agg.py:203: RuntimeWarning: Glyph 22270 missing from current font.\n",
      "  font.set_text(s, 0, flags=flags)\n"
     ]
    },
    {
     "data": {
      "image/png": "[encoded data removed]",
      "text/plain": [
       "<Figure size 720x288 with 1 Axes>"
      ]
     },
     "metadata": {
      "needs_background": "light"
     },
     "output_type": "display_data"
    }
   ],
   "source": [
    "a_data = data.groupby(['quality'],as_index=False).sum()\n",
    "a_bar = a_data.sort_values(['alcohol'],ascending=False)\n",
    "# 柱形图\n",
    "a_bar.plot(kind='bar', x='quality',y=['alcohol','pH','residual sugar',], figsize=(10, 4),title='关系图',fontsize=12)"
   ]
  },
  {
   "cell_type": "markdown",
   "id": "654d717e",
   "metadata": {},
   "source": [
    "酒精含量、pH值、残糖三者成分高低对质量评分影响较大"
   ]
  },
  {
   "cell_type": "code",
   "execution_count": 79,
   "id": "bed8cf94",
   "metadata": {},
   "outputs": [
    {
     "data": {
      "text/plain": [
       "<AxesSubplot:xlabel='sulphates', ylabel='pH'>"
      ]
     },
     "execution_count": 79,
     "metadata": {},
     "output_type": "execute_result"
    },
    {
     "data": {
      "image/png": "[encoded data removed]",
      "text/plain": [
       "<Figure size 720x288 with 1 Axes>"
      ]
     },
     "metadata": {
      "needs_background": "light"
     },
     "output_type": "display_data"
    }
   ],
   "source": [
    "#带回归拟合线的散点图\n",
    "plt.figure(figsize=(10,4))\n",
    "ksw = dict(s=60, linewidths=.9, edgecolors='black')\n",
    "sns.regplot(x='sulphates', y='pH', data=data,fit_reg=True,scatter_kws=ksw)"
   ]
  },
  {
   "cell_type": "markdown",
   "id": "246dc91c",
   "metadata": {},
   "source": [
    "硫酸盐与pH值呈线性相关的关系"
   ]
  },
  {
   "cell_type": "markdown",
   "id": "656a147a",
   "metadata": {},
   "source": [
    "## 七、结论"
   ]
  },
  {
   "cell_type": "markdown",
   "id": "e452672d",
   "metadata": {},
   "source": [
    "由以上可以得出：\n",
    "\n",
    "1.两种葡萄酒的评分都近似正态分布。\n",
    "\n",
    "2.葡萄酒酒精含量高时评分较高，固定酸度、pH值和酒精度出现了右偏态。 \n",
    "\n",
    "3.白葡萄酒的平均质量较红葡萄酒的高。\n",
    "\n",
    "5.酒精度最有可能对质量产生积极的影响。\n",
    "\n",
    "6.t检验统计量为-9.686，p值为0.000，这说明白葡萄酒的平均质量评分在统计意义上大于红葡萄酒的平均质量评分。从检验的结果来看，p值<0.05，红白两种葡萄酒质量有显著性差异，并且从均值上来看白葡萄酒的平均质量等级在统计意义上大于红葡萄酒的平均质量等级。\n",
    "\n",
    "7.从各变量的相关系数来看酒精含量、硫酸酯、pH 值、游离二氧化硫和柠檬酸这些指标与质量呈现正相关，即当这些指标的含量增加时，葡萄酒的质量会提高；非挥发性酸、挥发性酸、残余糖分、氯化物、总二氧化硫和密度这些指标与质量呈负相关即当这些指标的含量增加时，葡萄酒的质量会降低。\n",
    "\n",
    "8.KNN算法模型准确率: 0.6，最佳结果: KNeighborsClassifier(n_neighbors=1)。决策树决策树模型准确率:0.61，随机森林调参红酒品质预测最终模型预测在百分之80左右。从相关系数可以看出，对葡萄酒质量影响最大的是葡萄酒是酒精含量，其相关系数为0.444，其次是酒的密度，但酒的密度对酒的质量是负影响的。 "
   ]
  }
 ],
 "metadata": {
  "kernelspec": {
   "display_name": "Python 3 (ipykernel)",
   "language": "python",
   "name": "python3"
  },
  "language_info": {
   "codemirror_mode": {
    "name": "ipython",
    "version": 3
   },
   "file_extension": ".py",
   "mimetype": "text/x-python",
   "name": "python",
   "nbconvert_exporter": "python",
   "pygments_lexer": "ipython3",
   "version": "3.9.7"
  }
 },
 "nbformat": 4,
 "nbformat_minor": 5
}
